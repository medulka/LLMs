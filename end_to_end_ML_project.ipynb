{
  "cells": [
    {
      "cell_type": "markdown",
      "metadata": {
        "id": "view-in-github",
        "colab_type": "text"
      },
      "source": [
        "<a href=\"https://colab.research.google.com/github/medulka/LLMs/blob/main/end_to_end_ML_project.ipynb\" target=\"_parent\"><img src=\"https://colab.research.google.com/assets/colab-badge.svg\" alt=\"Open In Colab\"/></a>"
      ]
    },
    {
      "cell_type": "markdown",
      "metadata": {
        "id": "6l8S8gawgkFy"
      },
      "source": [
        "\n",
        "**An Example of End-to-End ML Project**\n",
        "\n",
        "*modified after: Aurélién Géron: Hands-on ML with Sklearn, Teras and TF*\n",
        "\n"
      ]
    },
    {
      "cell_type": "code",
      "execution_count": null,
      "metadata": {
        "colab": {
          "base_uri": "https://localhost:8080/"
        },
        "id": "MR-9tNb_g_nv",
        "outputId": "9453f70c-a4f4-4e7f-b73c-a2bb097a182f"
      },
      "outputs": [
        {
          "output_type": "stream",
          "name": "stdout",
          "text": [
            "Hello Coworking February 2023!\n",
            "Hello Nomad March 2024\n"
          ]
        }
      ],
      "source": [
        "print(\"Hello Coworking February 2023!\")\n",
        "print(\"Hello Nomad March 2024\")"
      ]
    },
    {
      "cell_type": "code",
      "execution_count": null,
      "metadata": {
        "id": "DGzV1t4jhK8O"
      },
      "outputs": [],
      "source": [
        "import sys\n",
        "assert sys.version_info >= (3,7) # assures Python above 3.7\n",
        "from packaging import version\n",
        "import sklearn\n",
        "\n",
        "assert version.parse(sklearn.__version__) >= version.parse(\"1.0.1\") #needs Scikit learn above 1.0.1"
      ]
    },
    {
      "cell_type": "markdown",
      "metadata": {
        "id": "lFm_AK2jiDt9"
      },
      "source": [
        "Data **Preparation**"
      ]
    },
    {
      "cell_type": "code",
      "execution_count": null,
      "metadata": {
        "id": "UbIRGWogiHrT"
      },
      "outputs": [],
      "source": [
        "from pathlib import Path\n",
        "import pandas as pd\n",
        "import tarfile\n",
        "import urllib.request\n",
        "\n",
        "# compressed files !!! does not work\n",
        "def load_housing_data():\n",
        "  tarball_path = Path(\"datasets/housing.csv\")\n",
        "  if not tarball_path.is_file():\n",
        "    Path(\"datasets\").mkdir(parents=True, exist_ok=True)\n",
        "    url = \"https://github.com/ageron/data/raw/main/housing.tgz\"\n",
        "    urllib.request.urlretrieve(url, tarball_path)\n",
        "    with tarfile.open(tarball_path) as housing_tarball:\n",
        "      housing_tarball.extractall(path=\"datasets\")\n",
        "  return pd.read_csv(Path(\"datasets/housing/housing.csv\"))\n"
      ]
    },
    {
      "cell_type": "code",
      "execution_count": null,
      "metadata": {
        "colab": {
          "base_uri": "https://localhost:8080/"
        },
        "id": "L48f_hiOnWu_",
        "outputId": "d90c8c2b-2eca-464b-b4bf-dc4a67787296"
      },
      "outputs": [
        {
          "output_type": "stream",
          "name": "stdout",
          "text": [
            "   longitude  latitude  housing_median_age  total_rooms  total_bedrooms  \\\n",
            "0    -122.23     37.88                41.0        880.0           129.0   \n",
            "1    -122.22     37.86                21.0       7099.0          1106.0   \n",
            "2    -122.24     37.85                52.0       1467.0           190.0   \n",
            "3    -122.25     37.85                52.0       1274.0           235.0   \n",
            "4    -122.25     37.85                52.0       1627.0           280.0   \n",
            "\n",
            "   population  households  median_income  median_house_value ocean_proximity  \n",
            "0       322.0       126.0         8.3252            452600.0        NEAR BAY  \n",
            "1      2401.0      1138.0         8.3014            358500.0        NEAR BAY  \n",
            "2       496.0       177.0         7.2574            352100.0        NEAR BAY  \n",
            "3       558.0       219.0         5.6431            341300.0        NEAR BAY  \n",
            "4       565.0       259.0         3.8462            342200.0        NEAR BAY  \n",
            "(20640, 10)\n"
          ]
        }
      ],
      "source": [
        "from tables.file import parameters\n",
        "# url = \"https://raw.githubusercontent.com/ageron/data/main/housing/housing.csv\"\n",
        "\n",
        "def load_housing_data():\n",
        "  Path(\"datasets\").mkdir(parents=True, exist_ok=True)\n",
        "  url = \"https://raw.githubusercontent.com/ageron/data/main/housing/housing.csv\"\n",
        "  with urllib.request.urlopen(url) as f:\n",
        "    data = pd.read_csv(f)\n",
        "  return data\n",
        "\n",
        "housing = load_housing_data()\n",
        "print(housing.head())\n",
        "print(housing.shape)"
      ]
    },
    {
      "cell_type": "markdown",
      "source": [
        "Descriptors' comands"
      ],
      "metadata": {
        "id": "CtLVfM2KPWeF"
      }
    },
    {
      "cell_type": "code",
      "source": [
        "# housing.info()\n",
        "housing.head()\n",
        "# housing.describe()\n",
        "housing[\"ocean_proximity\"]\n"
      ],
      "metadata": {
        "id": "pUt27yNRORlp",
        "colab": {
          "base_uri": "https://localhost:8080/"
        },
        "outputId": "744dd604-ec36-443b-9bdd-46ce04794e62"
      },
      "execution_count": null,
      "outputs": [
        {
          "output_type": "execute_result",
          "data": {
            "text/plain": [
              "0        NEAR BAY\n",
              "1        NEAR BAY\n",
              "2        NEAR BAY\n",
              "3        NEAR BAY\n",
              "4        NEAR BAY\n",
              "           ...   \n",
              "20635      INLAND\n",
              "20636      INLAND\n",
              "20637      INLAND\n",
              "20638      INLAND\n",
              "20639      INLAND\n",
              "Name: ocean_proximity, Length: 20640, dtype: object"
            ]
          },
          "metadata": {},
          "execution_count": 16
        }
      ]
    },
    {
      "cell_type": "markdown",
      "source": [
        "**Code** **to save the pictures as png**"
      ],
      "metadata": {
        "id": "vO7Sfzd2PjIl"
      }
    },
    {
      "cell_type": "code",
      "source": [
        "IMAGES_PATH = Path() / \"images\" / \"end_to_end_project\"\n",
        "IMAGES_PATH.mkdir(parents=True, exist_ok=True)\n",
        "\n",
        "def save_fig(fig_id, tight_layout=True, fig_extension=\"png\", resolution=300):\n",
        "    path = IMAGES_PATH / f\"{fig_id}.{fig_extension}\"\n",
        "    if tight_layout:\n",
        "        plt.tight_layout()\n",
        "    plt.savefig(path, format=fig_extension, dpi=resolution)"
      ],
      "metadata": {
        "id": "IzxAE_r7Pf0Q"
      },
      "execution_count": null,
      "outputs": []
    },
    {
      "cell_type": "markdown",
      "source": [
        "**HISTOGRAMS**"
      ],
      "metadata": {
        "id": "gFuVpmlBPESi"
      }
    },
    {
      "cell_type": "code",
      "source": [
        "import matplotlib.pyplot as plt\n",
        "\n",
        "# extra code – the next 5 lines define the default font sizes\n",
        "plt.rc('font', size=14)\n",
        "plt.rc('axes', labelsize=14, titlesize=14)\n",
        "plt.rc('legend', fontsize=14)\n",
        "plt.rc('xtick', labelsize=10)\n",
        "plt.rc('ytick', labelsize=10)\n",
        "\n",
        "housing.hist(bins=50, figsize=(12, 8))\n",
        "save_fig(\"attribute_histogram_plots\")  # extra code\n",
        "plt.show()"
      ],
      "metadata": {
        "colab": {
          "base_uri": "https://localhost:8080/",
          "height": 569
        },
        "id": "yhHwFlxrPDCI",
        "outputId": "404481e5-6c5f-472a-f137-cfc88ed6901c"
      },
      "execution_count": null,
      "outputs": [
        {
          "output_type": "display_data",
          "data": {
            "text/plain": [
              "<Figure size 864x576 with 9 Axes>"
            ],
            "image/png": "[encoded data removed]"
          },
          "metadata": {
            "needs_background": "light"
          }
        }
      ]
    },
    {
      "cell_type": "markdown",
      "source": [
        "**Creating a TEST SET**"
      ],
      "metadata": {
        "id": "kXBcKYiXPz7-"
      }
    },
    {
      "cell_type": "code",
      "source": [
        "import numpy as np\n",
        "\n",
        "def shuffle_and_split_data(data, test_ratio):\n",
        "    shuffled_indices = np.random.permutation(len(data))\n",
        "    test_set_size = int(len(data) * test_ratio)\n",
        "    test_indices = shuffled_indices[:test_set_size]\n",
        "    train_indices = shuffled_indices[test_set_size:]\n",
        "    return data.iloc[train_indices], data.iloc[test_indices]"
      ],
      "metadata": {
        "id": "0p5Z4F3PQCrp"
      },
      "execution_count": null,
      "outputs": []
    },
    {
      "cell_type": "code",
      "source": [
        "  train_set, test_set = shuffle_and_split_data(housing, 0.2)\n",
        "\n",
        "  print(len(train_set))"
      ],
      "metadata": {
        "colab": {
          "base_uri": "https://localhost:8080/"
        },
        "id": "UstabINaQdha",
        "outputId": "b50d1302-d691-4b1b-b8a8-dceb150358e6"
      },
      "execution_count": null,
      "outputs": [
        {
          "output_type": "stream",
          "name": "stdout",
          "text": [
            "16512\n"
          ]
        }
      ]
    },
    {
      "cell_type": "code",
      "source": [
        "np.random.seed(42) # to ensure, that notebook's outputs remain the same"
      ],
      "metadata": {
        "id": "9k_-vt-GQ5TE"
      },
      "execution_count": null,
      "outputs": []
    },
    {
      "cell_type": "code",
      "source": [
        "from zlib import crc32\n",
        "\n",
        "def is_id_in_test_set(identifier, test_ratio):\n",
        "  return (crc32(np.int64(identifier)) < test_ratio * 2**32)\n",
        "\n",
        "def split_data_with_id_hash(data, test_ratio, id_column):\n",
        "  ids = data[id_column]\n",
        "  in_test_set = ids.apply(lambda id_: is_id_in_test_set(id_, test_ratio))\n",
        "  return data.loc[~in_test_set], data.loc[in_test_set]"
      ],
      "metadata": {
        "id": "WmrqOQI8Re5M"
      },
      "execution_count": null,
      "outputs": []
    },
    {
      "cell_type": "code",
      "source": [
        "housing_with_id = housing.reset_index() # add an index column\n",
        "train_set, test_set = split_data_with_id_hash(housing_with_id, 0.2, \"index\")\n",
        "# print(housing.head())\n",
        "# print(housing_with_id.head())\n",
        "\n",
        "housing_with_id[\"id\"] = housing[\"longitude\"] * 1000 + housing[\"latitude\"]\n",
        "train_set, test_set = split_data_with_id_hash(housing_with_id, 0.2, \"id\")"
      ],
      "metadata": {
        "id": "yCFbQl7NR1cZ"
      },
      "execution_count": null,
      "outputs": []
    },
    {
      "cell_type": "code",
      "source": [
        "#ML comes on the stage\n",
        "from sklearn.model_selection import train_test_split\n",
        "train_set, test_set = train_test_split(housing, test_size=0.2, random_state=42)"
      ],
      "metadata": {
        "id": "5YINXeWVXHWc"
      },
      "execution_count": null,
      "outputs": []
    },
    {
      "cell_type": "code",
      "source": [
        "test_set[\"total_bedrooms\"].isnull().sum()"
      ],
      "metadata": {
        "colab": {
          "base_uri": "https://localhost:8080/"
        },
        "id": "UuqVOvr9XLhZ",
        "outputId": "ec2cb9d2-e095-4cec-b043-0dc4e28707ae"
      },
      "execution_count": null,
      "outputs": [
        {
          "output_type": "execute_result",
          "data": {
            "text/plain": [
              "44"
            ]
          },
          "metadata": {},
          "execution_count": 25
        }
      ]
    },
    {
      "cell_type": "code",
      "source": [
        "# cdf() method  - of the binomial distribution gives us the probability\n",
        "# that the number of females will be equal or less than the given value\n",
        "\n",
        "# how to compute the 10.7% proba of getting a bad sample\n",
        "from scipy.stats import binom\n",
        "\n",
        "sample_size = 1000\n",
        "ratio_female = 0.511\n",
        "proba_too_small = binom(sample_size, ratio_female).cdf(485 - 1)\n",
        "proba_too_large = 1 - binom(sample_size, ratio_female).cdf(535)\n",
        "print(proba_too_small + proba_too_large)"
      ],
      "metadata": {
        "colab": {
          "base_uri": "https://localhost:8080/"
        },
        "id": "j6imvhaIY05g",
        "outputId": "57a1f58b-ebfd-4e3c-f1dd-59239a6045fd"
      },
      "execution_count": null,
      "outputs": [
        {
          "output_type": "stream",
          "name": "stdout",
          "text": [
            "0.10736798530929913\n"
          ]
        }
      ]
    },
    {
      "cell_type": "code",
      "source": [
        "np.random.seed(42)\n",
        "\n",
        "samples = (np.random.rand(100_000, sample_size) < ratio_female).sum(axis=1)\n",
        "((samples < 485) | (samples > 535)).mean()"
      ],
      "metadata": {
        "colab": {
          "base_uri": "https://localhost:8080/"
        },
        "id": "-sNDbkf7bOg7",
        "outputId": "ca878c56-eb71-4cce-af4b-b0fb4c7ce48b"
      },
      "execution_count": null,
      "outputs": [
        {
          "output_type": "execute_result",
          "data": {
            "text/plain": [
              "0.1071"
            ]
          },
          "metadata": {},
          "execution_count": 27
        }
      ]
    },
    {
      "cell_type": "code",
      "source": [
        "housing[\"income_cat\"] = pd.cut(housing[\"median_income\"], bins=[0.,1.5,3.0,4.5,6., np.inf], labels=[1,2,3,4,5])"
      ],
      "metadata": {
        "id": "1r2_xWN1bzix"
      },
      "execution_count": null,
      "outputs": []
    },
    {
      "cell_type": "code",
      "source": [
        "housing[\"income_cat\"].value_counts().sort_index().plot.bar(rot=0, grid=True)\n",
        "plt.xlabel(\"Income category\")\n",
        "plt.ylabel(\"Number of districts\")\n",
        "save_fig(\"housing_income_bar_plot\")\n",
        "plt.show()"
      ],
      "metadata": {
        "colab": {
          "base_uri": "https://localhost:8080/",
          "height": 289
        },
        "id": "9uPJUWK7cMBx",
        "outputId": "cfd70949-4c08-42ac-f7d0-c54f1f09ffe2"
      },
      "execution_count": null,
      "outputs": [
        {
          "output_type": "display_data",
          "data": {
            "text/plain": [
              "<Figure size 432x288 with 1 Axes>"
            ],
            "image/png": "[encoded data removed]"
          },
          "metadata": {
            "needs_background": "light"
          }
        }
      ]
    },
    {
      "cell_type": "code",
      "source": [
        "from sklearn.model_selection import StratifiedShuffleSplit\n",
        "\n",
        "splitter = StratifiedShuffleSplit(n_splits=10, test_size=0.2, random_state=42)\n",
        "strat_splits = []\n",
        "for train_index, test_index in splitter.split(housing, housing[\"income_cat\"]):\n",
        "  strat_train_set_n = housing.iloc[train_index]\n",
        "  strat_test_set_n = housing.iloc[test_index]\n",
        "  strat_splits.append([strat_train_set_n, strat_test_set_n])"
      ],
      "metadata": {
        "id": "ENeDf8FQdU2X"
      },
      "execution_count": null,
      "outputs": []
    },
    {
      "cell_type": "code",
      "source": [
        "strat_train_set, strat_test_set = strat_splits[0]"
      ],
      "metadata": {
        "id": "jrZb4p-IesRI"
      },
      "execution_count": null,
      "outputs": []
    },
    {
      "cell_type": "code",
      "source": [
        "# it is too much shortet to get a single stratified split\n",
        "strat_train_set, strat_test_set = train_test_split(housing, test_size=0.2,\n",
        "                                                   stratify=housing[\"income_cat\"],\n",
        "                                                   random_state=42)\n"
      ],
      "metadata": {
        "id": "HcQRSshXfaUn"
      },
      "execution_count": null,
      "outputs": []
    },
    {
      "cell_type": "code",
      "source": [
        "strat_test_set[\"income_cat\"].value_counts() / len(strat_test_set)"
      ],
      "metadata": {
        "colab": {
          "base_uri": "https://localhost:8080/"
        },
        "id": "19JbwbT6f25b",
        "outputId": "54338771-bd1e-4c73-abb6-381b95d09430"
      },
      "execution_count": null,
      "outputs": [
        {
          "output_type": "execute_result",
          "data": {
            "text/plain": [
              "3    0.350533\n",
              "2    0.318798\n",
              "4    0.176357\n",
              "5    0.114341\n",
              "1    0.039971\n",
              "Name: income_cat, dtype: float64"
            ]
          },
          "metadata": {},
          "execution_count": 33
        }
      ]
    },
    {
      "cell_type": "code",
      "source": [
        "def income_cat_proportions(data):\n",
        "  return data[\"income_cat\"].value_counts() / len(data)\n",
        "\n",
        "train_set, test_set = train_test_split(housing, test_size=0.2, random_state=42)\n",
        "\n",
        "compare_props = pd.DataFrame({\n",
        "    \"Overall %\": income_cat_proportions(housing),\n",
        "    \"Stratified %\": income_cat_proportions(strat_test_set),\n",
        "    \"Random %\": income_cat_proportions(test_set),\n",
        "}).sort_index()\n",
        "\n",
        "compare_props.index.name = \"Income Category\"\n",
        "compare_props[\"Strat. Error %\"] = (compare_props[\"Stratified %\"] / compare_props[\"Overall %\"] - 1)\n",
        "compare_props[\"Rand. Error %\"] = (compare_props[\"Random %\"] / compare_props[\"Overall %\"] - 1)\n",
        "\n",
        "(compare_props * 100).round(2)\n"
      ],
      "metadata": {
        "colab": {
          "base_uri": "https://localhost:8080/",
          "height": 238
        },
        "id": "LaqXld9Ogp2l",
        "outputId": "666092f2-cace-45ee-fd14-2d4d56e8c06f"
      },
      "execution_count": null,
      "outputs": [
        {
          "output_type": "execute_result",
          "data": {
            "text/plain": [
              "                 Overall %  Stratified %  Random %  Strat. Error %  \\\n",
              "Income Category                                                      \n",
              "1                     3.98          4.00      4.24            0.36   \n",
              "2                    31.88         31.88     30.74           -0.02   \n",
              "3                    35.06         35.05     34.52           -0.01   \n",
              "4                    17.63         17.64     18.41            0.03   \n",
              "5                    11.44         11.43     12.09           -0.08   \n",
              "\n",
              "                 Rand. Error %  \n",
              "Income Category                 \n",
              "1                         6.45  \n",
              "2                        -3.59  \n",
              "3                        -1.53  \n",
              "4                         4.42  \n",
              "5                         5.63  "
            ],
            "text/html": [
              "\n",
              "  <div id=\"df-01c1d855-aa7b-4b5d-b1f1-53e5d06a870d\">\n",
              "    <div class=\"colab-df-container\">\n",
              "      <div>\n",
              "<style scoped>\n",
              "    .dataframe tbody tr th:only-of-type {\n",
              "        vertical-align: middle;\n",
              "    }\n",
              "\n",
              "    .dataframe tbody tr th {\n",
              "        vertical-align: top;\n",
              "    }\n",
              "\n",
              "    .dataframe thead th {\n",
              "        text-align: right;\n",
              "    }\n",
              "</style>\n",
              "<table border=\"1\" class=\"dataframe\">\n",
              "  <thead>\n",
              "    <tr style=\"text-align: right;\">\n",
              "      <th></th>\n",
              "      <th>Overall %</th>\n",
              "      <th>Stratified %</th>\n",
              "      <th>Random %</th>\n",
              "      <th>Strat. Error %</th>\n",
              "      <th>Rand. Error %</th>\n",
              "    </tr>\n",
              "    <tr>\n",
              "      <th>Income Category</th>\n",
              "      <th></th>\n",
              "      <th></th>\n",
              "      <th></th>\n",
              "      <th></th>\n",
              "      <th></th>\n",
              "    </tr>\n",
              "  </thead>\n",
              "  <tbody>\n",
              "    <tr>\n",
              "      <th>1</th>\n",
              "      <td>3.98</td>\n",
              "      <td>4.00</td>\n",
              "      <td>4.24</td>\n",
              "      <td>0.36</td>\n",
              "      <td>6.45</td>\n",
              "    </tr>\n",
              "    <tr>\n",
              "      <th>2</th>\n",
              "      <td>31.88</td>\n",
              "      <td>31.88</td>\n",
              "      <td>30.74</td>\n",
              "      <td>-0.02</td>\n",
              "      <td>-3.59</td>\n",
              "    </tr>\n",
              "    <tr>\n",
              "      <th>3</th>\n",
              "      <td>35.06</td>\n",
              "      <td>35.05</td>\n",
              "      <td>34.52</td>\n",
              "      <td>-0.01</td>\n",
              "      <td>-1.53</td>\n",
              "    </tr>\n",
              "    <tr>\n",
              "      <th>4</th>\n",
              "      <td>17.63</td>\n",
              "      <td>17.64</td>\n",
              "      <td>18.41</td>\n",
              "      <td>0.03</td>\n",
              "      <td>4.42</td>\n",
              "    </tr>\n",
              "    <tr>\n",
              "      <th>5</th>\n",
              "      <td>11.44</td>\n",
              "      <td>11.43</td>\n",
              "      <td>12.09</td>\n",
              "      <td>-0.08</td>\n",
              "      <td>5.63</td>\n",
              "    </tr>\n",
              "  </tbody>\n",
              "</table>\n",
              "</div>\n",
              "      <button class=\"colab-df-convert\" onclick=\"convertToInteractive('df-01c1d855-aa7b-4b5d-b1f1-53e5d06a870d')\"\n",
              "              title=\"Convert this dataframe to an interactive table.\"\n",
              "              style=\"display:none;\">\n",
              "        \n",
              "  <svg xmlns=\"http://www.w3.org/2000/svg\" height=\"24px\"viewBox=\"0 0 24 24\"\n",
              "       width=\"24px\">\n",
              "    <path d=\"M0 0h24v24H0V0z\" fill=\"none\"/>\n",
              "    <path d=\"M18.56 5.44l.94 2.06.94-2.06 2.06-.94-2.06-.94-.94-2.06-.94 2.06-2.06.94zm-11 1L8.5 8.5l.94-2.06 2.06-.94-2.06-.94L8.5 2.5l-.94 2.06-2.06.94zm10 10l.94 2.06.94-2.06 2.06-.94-2.06-.94-.94-2.06-.94 2.06-2.06.94z\"/><path d=\"M17.41 7.96l-1.37-1.37c-.4-.4-.92-.59-1.43-.59-.52 0-1.04.2-1.43.59L10.3 9.45l-7.72 7.72c-.78.78-.78 2.05 0 2.83L4 21.41c.39.39.9.59 1.41.59.51 0 1.02-.2 1.41-.59l7.78-7.78 2.81-2.81c.8-.78.8-2.07 0-2.86zM5.41 20L4 18.59l7.72-7.72 1.47 1.35L5.41 20z\"/>\n",
              "  </svg>\n",
              "      </button>\n",
              "      \n",
              "  <style>\n",
              "    .colab-df-container {\n",
              "      display:flex;\n",
              "      flex-wrap:wrap;\n",
              "      gap: 12px;\n",
              "    }\n",
              "\n",
              "    .colab-df-convert {\n",
              "      background-color: #E8F0FE;\n",
              "      border: none;\n",
              "      border-radius: 50%;\n",
              "      cursor: pointer;\n",
              "      display: none;\n",
              "      fill: #1967D2;\n",
              "      height: 32px;\n",
              "      padding: 0 0 0 0;\n",
              "      width: 32px;\n",
              "    }\n",
              "\n",
              "    .colab-df-convert:hover {\n",
              "      background-color: #E2EBFA;\n",
              "      box-shadow: 0px 1px 2px rgba(60, 64, 67, 0.3), 0px 1px 3px 1px rgba(60, 64, 67, 0.15);\n",
              "      fill: #174EA6;\n",
              "    }\n",
              "\n",
              "    [theme=dark] .colab-df-convert {\n",
              "      background-color: #3B4455;\n",
              "      fill: #D2E3FC;\n",
              "    }\n",
              "\n",
              "    [theme=dark] .colab-df-convert:hover {\n",
              "      background-color: #434B5C;\n",
              "      box-shadow: 0px 1px 3px 1px rgba(0, 0, 0, 0.15);\n",
              "      filter: drop-shadow(0px 1px 2px rgba(0, 0, 0, 0.3));\n",
              "      fill: #FFFFFF;\n",
              "    }\n",
              "  </style>\n",
              "\n",
              "      <script>\n",
              "        const buttonEl =\n",
              "          document.querySelector('#df-01c1d855-aa7b-4b5d-b1f1-53e5d06a870d button.colab-df-convert');\n",
              "        buttonEl.style.display =\n",
              "          google.colab.kernel.accessAllowed ? 'block' : 'none';\n",
              "\n",
              "        async function convertToInteractive(key) {\n",
              "          const element = document.querySelector('#df-01c1d855-aa7b-4b5d-b1f1-53e5d06a870d');\n",
              "          const dataTable =\n",
              "            await google.colab.kernel.invokeFunction('convertToInteractive',\n",
              "                                                     [key], {});\n",
              "          if (!dataTable) return;\n",
              "\n",
              "          const docLinkHtml = 'Like what you see? Visit the ' +\n",
              "            '<a target=\"_blank\" href=https://colab.research.google.com/notebooks/data_table.ipynb>data table notebook</a>'\n",
              "            + ' to learn more about interactive tables.';\n",
              "          element.innerHTML = '';\n",
              "          dataTable['output_type'] = 'display_data';\n",
              "          await google.colab.output.renderOutput(dataTable, element);\n",
              "          const docLink = document.createElement('div');\n",
              "          docLink.innerHTML = docLinkHtml;\n",
              "          element.appendChild(docLink);\n",
              "        }\n",
              "      </script>\n",
              "    </div>\n",
              "  </div>\n",
              "  "
            ]
          },
          "metadata": {},
          "execution_count": 34
        }
      ]
    },
    {
      "cell_type": "code",
      "source": [
        "for set_ in (strat_train_set, strat_test_set):\n",
        "  set_.drop(\"income_cat\", axis=1, inplace=True)"
      ],
      "metadata": {
        "id": "APv1e9WEkNKW"
      },
      "execution_count": null,
      "outputs": []
    },
    {
      "cell_type": "markdown",
      "source": [
        "**Discover and Visualize the Data to Gain Insights**"
      ],
      "metadata": {
        "id": "zGx45yzv9xBt"
      }
    },
    {
      "cell_type": "code",
      "source": [
        "housing = strat_train_set.copy()\n",
        "housing.shape"
      ],
      "metadata": {
        "id": "0OxbNIiD93F9",
        "colab": {
          "base_uri": "https://localhost:8080/"
        },
        "outputId": "dfe9e9d6-e762-4017-a474-d69635893d2a"
      },
      "execution_count": null,
      "outputs": [
        {
          "output_type": "execute_result",
          "data": {
            "text/plain": [
              "(16512, 10)"
            ]
          },
          "metadata": {},
          "execution_count": 36
        }
      ]
    },
    {
      "cell_type": "markdown",
      "source": [
        "**Visualizing Geographical Data**"
      ],
      "metadata": {
        "id": "27yRDjtU-y04"
      }
    },
    {
      "cell_type": "code",
      "source": [
        "housing.plot(kind=\"scatter\", x=\"longitude\", y=\"latitude\", grid=True)\n",
        "save_fig(\"bad_visualization_plot\")\n",
        "plt.show()"
      ],
      "metadata": {
        "colab": {
          "base_uri": "https://localhost:8080/",
          "height": 289
        },
        "id": "sXGkEArv-26n",
        "outputId": "aa2e4609-872b-4202-d14a-41ee69b5463e"
      },
      "execution_count": null,
      "outputs": [
        {
          "output_type": "display_data",
          "data": {
            "text/plain": [
              "<Figure size 432x288 with 1 Axes>"
            ],
            "image/png": "[encoded data removed]"
          },
          "metadata": {
            "needs_background": "light"
          }
        }
      ]
    },
    {
      "cell_type": "code",
      "source": [
        "housing.plot(kind=\"scatter\", x=\"longitude\", y=\"latitude\", grid=True,\n",
        "             s=housing[\"population\"] / 100, label=\"population\",\n",
        "             c=\"median_house_value\", cmap=\"jet\",colorbar=True, legend=True,\n",
        "             sharex=True # fix display bug\n",
        "             , figsize=(10,7))\n",
        "save_fig(\"housing_prices_scatterplot\") # extra code\n",
        "plt.show()"
      ],
      "metadata": {
        "colab": {
          "base_uri": "https://localhost:8080/",
          "height": 505
        },
        "id": "5v7p8f9E_tLz",
        "outputId": "b7cf1ee8-aa2d-4f93-8715-5dcaef4e02a4"
      },
      "execution_count": null,
      "outputs": [
        {
          "output_type": "display_data",
          "data": {
            "text/plain": [
              "<Figure size 720x504 with 2 Axes>"
            ],
            "image/png": "[encoded data removed]"
          },
          "metadata": {
            "needs_background": "light"
          }
        }
      ]
    },
    {
      "cell_type": "markdown",
      "source": [
        "**Drawing the map**"
      ],
      "metadata": {
        "id": "vGtnY7sOBaAW"
      }
    },
    {
      "cell_type": "code",
      "source": [
        "filename = \"california.png\"\n",
        "if not (IMAGES_PATH / filename).is_file():\n",
        "  homl3_root = \"https://github.com/ageron/handson-ml3/raw/main/\"\n",
        "  url = homl3_root + \"images/end_to_end_project/\" + filename\n",
        "  print(\"Downloading\", filename)\n",
        "  urllib.request.urlretrieve(url, IMAGES_PATH / filename)\n",
        "\n",
        "housing_renamed = housing.rename(columns={\n",
        "    \"latitude\": \"Latitude\", \"longitude\": \"Longitude\", \"population\": \"Population\",\n",
        "    \"median_house_value\": \"Median house value (USD)\"})\n",
        "housing_renamed.plot(\n",
        "    kind=\"scatter\", x=\"Longitude\", y=\"Latitude\",\n",
        "    s=housing_renamed[\"Population\"] / 100, label=\"Population\",\n",
        "    c=\"Median house value (USD)\", cmap=\"jet\", colorbar=True,\n",
        "    legend=True, sharex=False, figsize=(10,7))\n",
        "\n",
        "california_img = plt.imread( IMAGES_PATH / filename)\n",
        "axis = -124.55, -113.95, 32.45, 42.05\n",
        "plt.axis(axis)\n",
        "plt.imshow(california_img, extent=axis)\n",
        "\n",
        "save_fig(\"california_housing_prices_plot\")\n",
        "plt.show()"
      ],
      "metadata": {
        "id": "uGhI6L2HBd74",
        "colab": {
          "base_uri": "https://localhost:8080/",
          "height": 522
        },
        "outputId": "40b9171d-adbf-4f16-c95d-32600c565336"
      },
      "execution_count": null,
      "outputs": [
        {
          "output_type": "stream",
          "name": "stdout",
          "text": [
            "Downloading california.png\n"
          ]
        },
        {
          "output_type": "display_data",
          "data": {
            "text/plain": [
              "<Figure size 720x504 with 2 Axes>"
            ],
            "image/png": "[encoded data removed]"
          },
          "metadata": {
            "needs_background": "light"
          }
        }
      ]
    },
    {
      "cell_type": "markdown",
      "source": [
        "**Looking for correlations**"
      ],
      "metadata": {
        "id": "d02HicHu984O"
      }
    },
    {
      "cell_type": "code",
      "source": [
        "corr_matrix = housing.corr()\n",
        "\n",
        "corr_matrix[\"median_house_value\"].sort_values(ascending=False)"
      ],
      "metadata": {
        "colab": {
          "base_uri": "https://localhost:8080/"
        },
        "id": "TiSVuEE0-DxF",
        "outputId": "fd293a04-6b65-49ff-f228-79acd36dd478"
      },
      "execution_count": null,
      "outputs": [
        {
          "output_type": "execute_result",
          "data": {
            "text/plain": [
              "median_house_value    1.000000\n",
              "median_income         0.688380\n",
              "total_rooms           0.137455\n",
              "housing_median_age    0.102175\n",
              "households            0.071426\n",
              "total_bedrooms        0.054635\n",
              "population           -0.020153\n",
              "longitude            -0.050859\n",
              "latitude             -0.139584\n",
              "Name: median_house_value, dtype: float64"
            ]
          },
          "metadata": {},
          "execution_count": 40
        }
      ]
    },
    {
      "cell_type": "markdown",
      "source": [
        "# Nouvelle section"
      ],
      "metadata": {
        "id": "F7Gjjyw_FBne"
      }
    },
    {
      "cell_type": "markdown",
      "source": [
        "# Nouvelle section"
      ],
      "metadata": {
        "id": "kCmkBvHpFCml"
      }
    },
    {
      "cell_type": "code",
      "source": [],
      "metadata": {
        "id": "PNeN5fYpYVQx"
      },
      "execution_count": null,
      "outputs": []
    },
    {
      "cell_type": "code",
      "source": [
        "from pandas.plotting import scatter_matrix\n",
        "attributes = [\"median_house_value\"]\n",
        "scatter_matrix(housing[attributes], figsize = (12,8))\n",
        "save_fig(\"scatter_matrix_plot\")\n",
        "plt.show()"
      ],
      "metadata": {
        "colab": {
          "base_uri": "https://localhost:8080/",
          "height": 568
        },
        "id": "mZdQLRet_W2P",
        "outputId": "135e1e0b-a1c2-40c0-8263-10ae3896e567"
      },
      "execution_count": null,
      "outputs": [
        {
          "output_type": "display_data",
          "data": {
            "text/plain": [
              "<Figure size 864x576 with 1 Axes>"
            ],
            "image/png": "[encoded data removed]"
          },
          "metadata": {
            "needs_background": "light"
          }
        }
      ]
    },
    {
      "cell_type": "code",
      "source": [
        "housing.plot(kind=\"scatter\", x=\"median_income\", y=\"median_house_value\", grid=True)\n",
        "save_fig(\"income_vs_value\")\n",
        "plt.show()"
      ],
      "metadata": {
        "colab": {
          "base_uri": "https://localhost:8080/",
          "height": 289
        },
        "id": "IYR0SsmBAMx9",
        "outputId": "b4a2d0e1-e13e-4f7b-f919-8f0f32b7c8d9"
      },
      "execution_count": null,
      "outputs": [
        {
          "output_type": "display_data",
          "data": {
            "text/plain": [
              "<Figure size 432x288 with 1 Axes>"
            ],
            "image/png": "[encoded data removed]"
          },
          "metadata": {
            "needs_background": "light"
          }
        }
      ]
    },
    {
      "cell_type": "markdown",
      "source": [
        "**Experimenting with Attribute Combinations**"
      ],
      "metadata": {
        "id": "RPKuDoa_A_X5"
      }
    },
    {
      "cell_type": "code",
      "source": [
        "housing[\"rooms_per_house\"] = housing[\"total_rooms\"]/housing[\"households\"]\n",
        "housing[\"bed_ratio\"] = housing[\"total_bedrooms\"]/housing[\"total_rooms\"]\n",
        "housing[\"people_per_house\"] = housing[\"population\"]/housing[\"households\"]"
      ],
      "metadata": {
        "id": "TzSD1_dlA_Ix"
      },
      "execution_count": null,
      "outputs": []
    },
    {
      "cell_type": "code",
      "source": [
        "corr_matrix = housing.corr()\n",
        "corr_matrix[\"median_house_value\"].sort_values(ascending=True)"
      ],
      "metadata": {
        "colab": {
          "base_uri": "https://localhost:8080/"
        },
        "id": "N7fOINeoA_Fq",
        "outputId": "ce204cea-a403-4135-f03a-f141ad1000a8"
      },
      "execution_count": null,
      "outputs": [
        {
          "output_type": "execute_result",
          "data": {
            "text/plain": [
              "bed_ratio            -0.256397\n",
              "latitude             -0.139584\n",
              "longitude            -0.050859\n",
              "people_per_house     -0.038224\n",
              "population           -0.020153\n",
              "total_bedrooms        0.054635\n",
              "households            0.071426\n",
              "housing_median_age    0.102175\n",
              "total_rooms           0.137455\n",
              "rooms_per_house       0.143663\n",
              "median_income         0.688380\n",
              "median_house_value    1.000000\n",
              "Name: median_house_value, dtype: float64"
            ]
          },
          "metadata": {},
          "execution_count": 44
        }
      ]
    },
    {
      "cell_type": "markdown",
      "source": [
        "**Prepare Data for ML algorithms**"
      ],
      "metadata": {
        "id": "QGyPQpyuCXd3"
      }
    },
    {
      "cell_type": "code",
      "source": [
        "housing = strat_train_set.drop(\"median_house_value\", axis = 1) #creates a copy without the column, it doesn't modify the original set\n",
        "housing_labels = strat_train_set[\"median_house_value\"].copy()\n",
        "housing.shape"
      ],
      "metadata": {
        "id": "073Kk9L5CXRm",
        "colab": {
          "base_uri": "https://localhost:8080/"
        },
        "outputId": "710822a0-05e4-4b72-d695-61ad95e1d517"
      },
      "execution_count": null,
      "outputs": [
        {
          "output_type": "execute_result",
          "data": {
            "text/plain": [
              "(16512, 9)"
            ]
          },
          "metadata": {},
          "execution_count": 45
        }
      ]
    },
    {
      "cell_type": "markdown",
      "source": [
        "**Data Cleansing**"
      ],
      "metadata": {
        "id": "gAscFnQ3FIko"
      }
    },
    {
      "cell_type": "code",
      "source": [
        "#handling NA values\n",
        "\n",
        "# option 1\n",
        "# housing.drop[\"total_bedrooms\"]\n",
        "\n",
        "# option 2\n",
        "# housing.dropna(subset = [\"total_bedrooms\"], inplace = True )\n",
        "\n",
        "# option 3\n",
        "# median = housing[\"total_bedrooms\"].median()\n",
        "# housing[\"total_bedrooms\"].fillna(median, inplace = True)\n",
        "\n",
        "null_row_idx = housing.isnull().any(axis=1)\n",
        "housing.loc[null_row_idx].head() #????\n",
        "\n",
        "# housing_option1 = housing.copy()\n",
        "# housing_option1.dropna(subset=[\"total_bedrooms\"],inplace=True)\n",
        "# housing_option1.loc[null_row_idx].head()\n",
        "\n",
        "# housing_option2 = housing.copy()\n",
        "# housing_option2.drop(\"total_bedrooms\",axis=1,inplace=True)\n",
        "# housing_option2.loc[null_row_idx].head()\n",
        "\n",
        "housing_option3 = housing.copy()\n",
        "housing_option3\n",
        "\n",
        "median = housing[\"total_bedrooms\"].median()\n",
        "housing_option3[\"total_bedrooms\"].fillna(median,inplace=True)\n",
        "housing_option3.loc[null_row_idx].head()"
      ],
      "metadata": {
        "colab": {
          "base_uri": "https://localhost:8080/",
          "height": 270
        },
        "id": "e8N-eAUiCXN-",
        "outputId": "5f759b9a-e4fd-44ce-9ebb-90849601927c"
      },
      "execution_count": null,
      "outputs": [
        {
          "output_type": "execute_result",
          "data": {
            "text/plain": [
              "       longitude  latitude  housing_median_age  total_rooms  total_bedrooms  \\\n",
              "14452    -120.67     40.50                15.0       5343.0           434.0   \n",
              "18217    -117.96     34.03                35.0       2093.0           434.0   \n",
              "11889    -118.05     34.04                33.0       1348.0           434.0   \n",
              "20325    -118.88     34.17                15.0       4260.0           434.0   \n",
              "14360    -117.87     33.62                 8.0       1266.0           434.0   \n",
              "\n",
              "       population  households  median_income ocean_proximity  \n",
              "14452      2503.0       902.0         3.5962          INLAND  \n",
              "18217      1755.0       403.0         3.4115       <1H OCEAN  \n",
              "11889      1098.0       257.0         4.2917       <1H OCEAN  \n",
              "20325      1701.0       669.0         5.1033       <1H OCEAN  \n",
              "14360       375.0       183.0         9.8020       <1H OCEAN  "
            ],
            "text/html": [
              "\n",
              "  <div id=\"df-1e3dcda0-7c39-46e8-9986-01cba2e4dec7\">\n",
              "    <div class=\"colab-df-container\">\n",
              "      <div>\n",
              "<style scoped>\n",
              "    .dataframe tbody tr th:only-of-type {\n",
              "        vertical-align: middle;\n",
              "    }\n",
              "\n",
              "    .dataframe tbody tr th {\n",
              "        vertical-align: top;\n",
              "    }\n",
              "\n",
              "    .dataframe thead th {\n",
              "        text-align: right;\n",
              "    }\n",
              "</style>\n",
              "<table border=\"1\" class=\"dataframe\">\n",
              "  <thead>\n",
              "    <tr style=\"text-align: right;\">\n",
              "      <th></th>\n",
              "      <th>longitude</th>\n",
              "      <th>latitude</th>\n",
              "      <th>housing_median_age</th>\n",
              "      <th>total_rooms</th>\n",
              "      <th>total_bedrooms</th>\n",
              "      <th>population</th>\n",
              "      <th>households</th>\n",
              "      <th>median_income</th>\n",
              "      <th>ocean_proximity</th>\n",
              "    </tr>\n",
              "  </thead>\n",
              "  <tbody>\n",
              "    <tr>\n",
              "      <th>14452</th>\n",
              "      <td>-120.67</td>\n",
              "      <td>40.50</td>\n",
              "      <td>15.0</td>\n",
              "      <td>5343.0</td>\n",
              "      <td>434.0</td>\n",
              "      <td>2503.0</td>\n",
              "      <td>902.0</td>\n",
              "      <td>3.5962</td>\n",
              "      <td>INLAND</td>\n",
              "    </tr>\n",
              "    <tr>\n",
              "      <th>18217</th>\n",
              "      <td>-117.96</td>\n",
              "      <td>34.03</td>\n",
              "      <td>35.0</td>\n",
              "      <td>2093.0</td>\n",
              "      <td>434.0</td>\n",
              "      <td>1755.0</td>\n",
              "      <td>403.0</td>\n",
              "      <td>3.4115</td>\n",
              "      <td>&lt;1H OCEAN</td>\n",
              "    </tr>\n",
              "    <tr>\n",
              "      <th>11889</th>\n",
              "      <td>-118.05</td>\n",
              "      <td>34.04</td>\n",
              "      <td>33.0</td>\n",
              "      <td>1348.0</td>\n",
              "      <td>434.0</td>\n",
              "      <td>1098.0</td>\n",
              "      <td>257.0</td>\n",
              "      <td>4.2917</td>\n",
              "      <td>&lt;1H OCEAN</td>\n",
              "    </tr>\n",
              "    <tr>\n",
              "      <th>20325</th>\n",
              "      <td>-118.88</td>\n",
              "      <td>34.17</td>\n",
              "      <td>15.0</td>\n",
              "      <td>4260.0</td>\n",
              "      <td>434.0</td>\n",
              "      <td>1701.0</td>\n",
              "      <td>669.0</td>\n",
              "      <td>5.1033</td>\n",
              "      <td>&lt;1H OCEAN</td>\n",
              "    </tr>\n",
              "    <tr>\n",
              "      <th>14360</th>\n",
              "      <td>-117.87</td>\n",
              "      <td>33.62</td>\n",
              "      <td>8.0</td>\n",
              "      <td>1266.0</td>\n",
              "      <td>434.0</td>\n",
              "      <td>375.0</td>\n",
              "      <td>183.0</td>\n",
              "      <td>9.8020</td>\n",
              "      <td>&lt;1H OCEAN</td>\n",
              "    </tr>\n",
              "  </tbody>\n",
              "</table>\n",
              "</div>\n",
              "      <button class=\"colab-df-convert\" onclick=\"convertToInteractive('df-1e3dcda0-7c39-46e8-9986-01cba2e4dec7')\"\n",
              "              title=\"Convert this dataframe to an interactive table.\"\n",
              "              style=\"display:none;\">\n",
              "        \n",
              "  <svg xmlns=\"http://www.w3.org/2000/svg\" height=\"24px\"viewBox=\"0 0 24 24\"\n",
              "       width=\"24px\">\n",
              "    <path d=\"M0 0h24v24H0V0z\" fill=\"none\"/>\n",
              "    <path d=\"M18.56 5.44l.94 2.06.94-2.06 2.06-.94-2.06-.94-.94-2.06-.94 2.06-2.06.94zm-11 1L8.5 8.5l.94-2.06 2.06-.94-2.06-.94L8.5 2.5l-.94 2.06-2.06.94zm10 10l.94 2.06.94-2.06 2.06-.94-2.06-.94-.94-2.06-.94 2.06-2.06.94z\"/><path d=\"M17.41 7.96l-1.37-1.37c-.4-.4-.92-.59-1.43-.59-.52 0-1.04.2-1.43.59L10.3 9.45l-7.72 7.72c-.78.78-.78 2.05 0 2.83L4 21.41c.39.39.9.59 1.41.59.51 0 1.02-.2 1.41-.59l7.78-7.78 2.81-2.81c.8-.78.8-2.07 0-2.86zM5.41 20L4 18.59l7.72-7.72 1.47 1.35L5.41 20z\"/>\n",
              "  </svg>\n",
              "      </button>\n",
              "      \n",
              "  <style>\n",
              "    .colab-df-container {\n",
              "      display:flex;\n",
              "      flex-wrap:wrap;\n",
              "      gap: 12px;\n",
              "    }\n",
              "\n",
              "    .colab-df-convert {\n",
              "      background-color: #E8F0FE;\n",
              "      border: none;\n",
              "      border-radius: 50%;\n",
              "      cursor: pointer;\n",
              "      display: none;\n",
              "      fill: #1967D2;\n",
              "      height: 32px;\n",
              "      padding: 0 0 0 0;\n",
              "      width: 32px;\n",
              "    }\n",
              "\n",
              "    .colab-df-convert:hover {\n",
              "      background-color: #E2EBFA;\n",
              "      box-shadow: 0px 1px 2px rgba(60, 64, 67, 0.3), 0px 1px 3px 1px rgba(60, 64, 67, 0.15);\n",
              "      fill: #174EA6;\n",
              "    }\n",
              "\n",
              "    [theme=dark] .colab-df-convert {\n",
              "      background-color: #3B4455;\n",
              "      fill: #D2E3FC;\n",
              "    }\n",
              "\n",
              "    [theme=dark] .colab-df-convert:hover {\n",
              "      background-color: #434B5C;\n",
              "      box-shadow: 0px 1px 3px 1px rgba(0, 0, 0, 0.15);\n",
              "      filter: drop-shadow(0px 1px 2px rgba(0, 0, 0, 0.3));\n",
              "      fill: #FFFFFF;\n",
              "    }\n",
              "  </style>\n",
              "\n",
              "      <script>\n",
              "        const buttonEl =\n",
              "          document.querySelector('#df-1e3dcda0-7c39-46e8-9986-01cba2e4dec7 button.colab-df-convert');\n",
              "        buttonEl.style.display =\n",
              "          google.colab.kernel.accessAllowed ? 'block' : 'none';\n",
              "\n",
              "        async function convertToInteractive(key) {\n",
              "          const element = document.querySelector('#df-1e3dcda0-7c39-46e8-9986-01cba2e4dec7');\n",
              "          const dataTable =\n",
              "            await google.colab.kernel.invokeFunction('convertToInteractive',\n",
              "                                                     [key], {});\n",
              "          if (!dataTable) return;\n",
              "\n",
              "          const docLinkHtml = 'Like what you see? Visit the ' +\n",
              "            '<a target=\"_blank\" href=https://colab.research.google.com/notebooks/data_table.ipynb>data table notebook</a>'\n",
              "            + ' to learn more about interactive tables.';\n",
              "          element.innerHTML = '';\n",
              "          dataTable['output_type'] = 'display_data';\n",
              "          await google.colab.output.renderOutput(dataTable, element);\n",
              "          const docLink = document.createElement('div');\n",
              "          docLink.innerHTML = docLinkHtml;\n",
              "          element.appendChild(docLink);\n",
              "        }\n",
              "      </script>\n",
              "    </div>\n",
              "  </div>\n",
              "  "
            ]
          },
          "metadata": {},
          "execution_count": 46
        }
      ]
    },
    {
      "cell_type": "code",
      "source": [
        "from sklearn.impute import SimpleImputer\n",
        "imputer = SimpleImputer(strategy=\"median\") # separating out the numerical attributes\n",
        "\n",
        "housing_num = housing.select_dtypes(include=[np.number])\n",
        "imputer.fit(housing_num)"
      ],
      "metadata": {
        "colab": {
          "base_uri": "https://localhost:8080/"
        },
        "id": "X-Yw3vk8AoPN",
        "outputId": "6b616b07-306b-42a6-8919-18923ffe7124"
      },
      "execution_count": null,
      "outputs": [
        {
          "output_type": "execute_result",
          "data": {
            "text/plain": [
              "SimpleImputer(strategy='median')"
            ]
          },
          "metadata": {},
          "execution_count": 47
        }
      ]
    },
    {
      "cell_type": "code",
      "source": [
        "imputer.statistics_"
      ],
      "metadata": {
        "colab": {
          "base_uri": "https://localhost:8080/"
        },
        "id": "EcAj524uKGX3",
        "outputId": "d35fc96f-8156-4056-cec2-75dfba32a473"
      },
      "execution_count": null,
      "outputs": [
        {
          "output_type": "execute_result",
          "data": {
            "text/plain": [
              "array([-118.51  ,   34.26  ,   29.    , 2125.    ,  434.    , 1167.    ,\n",
              "        408.    ,    3.5385])"
            ]
          },
          "metadata": {},
          "execution_count": 48
        }
      ]
    },
    {
      "cell_type": "code",
      "source": [
        "housing_num.median().values"
      ],
      "metadata": {
        "colab": {
          "base_uri": "https://localhost:8080/"
        },
        "id": "Rc4tWpd5Ka8g",
        "outputId": "a4cef09d-29b9-458e-ccff-9851b7e9ac31"
      },
      "execution_count": null,
      "outputs": [
        {
          "output_type": "execute_result",
          "data": {
            "text/plain": [
              "array([-118.51  ,   34.26  ,   29.    , 2125.    ,  434.    , 1167.    ,\n",
              "        408.    ,    3.5385])"
            ]
          },
          "metadata": {},
          "execution_count": 49
        }
      ]
    },
    {
      "cell_type": "code",
      "source": [
        "X = imputer.transform(housing_num)"
      ],
      "metadata": {
        "id": "kDfqiEDIKh2K"
      },
      "execution_count": null,
      "outputs": []
    },
    {
      "cell_type": "code",
      "source": [
        "imputer.feature_names_in_"
      ],
      "metadata": {
        "colab": {
          "base_uri": "https://localhost:8080/"
        },
        "id": "3lDRkftIKqOB",
        "outputId": "01787407-5edb-4720-8f9e-0c991c3db908"
      },
      "execution_count": null,
      "outputs": [
        {
          "output_type": "execute_result",
          "data": {
            "text/plain": [
              "array(['longitude', 'latitude', 'housing_median_age', 'total_rooms',\n",
              "       'total_bedrooms', 'population', 'households', 'median_income'],\n",
              "      dtype=object)"
            ]
          },
          "metadata": {},
          "execution_count": 51
        }
      ]
    },
    {
      "cell_type": "code",
      "source": [
        "housing_tr = pd.DataFrame(X, columns = housing_num.columns, index = housing_num.index)"
      ],
      "metadata": {
        "id": "Q69v3VvELOlB"
      },
      "execution_count": null,
      "outputs": []
    },
    {
      "cell_type": "code",
      "source": [
        "housing_tr.loc[null_row_idx].head()"
      ],
      "metadata": {
        "colab": {
          "base_uri": "https://localhost:8080/",
          "height": 270
        },
        "id": "IyCg9BBLK1xC",
        "outputId": "8cc49cf2-143b-4ce6-ddc5-1ed599614e47"
      },
      "execution_count": null,
      "outputs": [
        {
          "output_type": "execute_result",
          "data": {
            "text/plain": [
              "       longitude  latitude  housing_median_age  total_rooms  total_bedrooms  \\\n",
              "14452    -120.67     40.50                15.0       5343.0           434.0   \n",
              "18217    -117.96     34.03                35.0       2093.0           434.0   \n",
              "11889    -118.05     34.04                33.0       1348.0           434.0   \n",
              "20325    -118.88     34.17                15.0       4260.0           434.0   \n",
              "14360    -117.87     33.62                 8.0       1266.0           434.0   \n",
              "\n",
              "       population  households  median_income  \n",
              "14452      2503.0       902.0         3.5962  \n",
              "18217      1755.0       403.0         3.4115  \n",
              "11889      1098.0       257.0         4.2917  \n",
              "20325      1701.0       669.0         5.1033  \n",
              "14360       375.0       183.0         9.8020  "
            ],
            "text/html": [
              "\n",
              "  <div id=\"df-e8da9050-1df5-4c59-ad07-0df44a62fda2\">\n",
              "    <div class=\"colab-df-container\">\n",
              "      <div>\n",
              "<style scoped>\n",
              "    .dataframe tbody tr th:only-of-type {\n",
              "        vertical-align: middle;\n",
              "    }\n",
              "\n",
              "    .dataframe tbody tr th {\n",
              "        vertical-align: top;\n",
              "    }\n",
              "\n",
              "    .dataframe thead th {\n",
              "        text-align: right;\n",
              "    }\n",
              "</style>\n",
              "<table border=\"1\" class=\"dataframe\">\n",
              "  <thead>\n",
              "    <tr style=\"text-align: right;\">\n",
              "      <th></th>\n",
              "      <th>longitude</th>\n",
              "      <th>latitude</th>\n",
              "      <th>housing_median_age</th>\n",
              "      <th>total_rooms</th>\n",
              "      <th>total_bedrooms</th>\n",
              "      <th>population</th>\n",
              "      <th>households</th>\n",
              "      <th>median_income</th>\n",
              "    </tr>\n",
              "  </thead>\n",
              "  <tbody>\n",
              "    <tr>\n",
              "      <th>14452</th>\n",
              "      <td>-120.67</td>\n",
              "      <td>40.50</td>\n",
              "      <td>15.0</td>\n",
              "      <td>5343.0</td>\n",
              "      <td>434.0</td>\n",
              "      <td>2503.0</td>\n",
              "      <td>902.0</td>\n",
              "      <td>3.5962</td>\n",
              "    </tr>\n",
              "    <tr>\n",
              "      <th>18217</th>\n",
              "      <td>-117.96</td>\n",
              "      <td>34.03</td>\n",
              "      <td>35.0</td>\n",
              "      <td>2093.0</td>\n",
              "      <td>434.0</td>\n",
              "      <td>1755.0</td>\n",
              "      <td>403.0</td>\n",
              "      <td>3.4115</td>\n",
              "    </tr>\n",
              "    <tr>\n",
              "      <th>11889</th>\n",
              "      <td>-118.05</td>\n",
              "      <td>34.04</td>\n",
              "      <td>33.0</td>\n",
              "      <td>1348.0</td>\n",
              "      <td>434.0</td>\n",
              "      <td>1098.0</td>\n",
              "      <td>257.0</td>\n",
              "      <td>4.2917</td>\n",
              "    </tr>\n",
              "    <tr>\n",
              "      <th>20325</th>\n",
              "      <td>-118.88</td>\n",
              "      <td>34.17</td>\n",
              "      <td>15.0</td>\n",
              "      <td>4260.0</td>\n",
              "      <td>434.0</td>\n",
              "      <td>1701.0</td>\n",
              "      <td>669.0</td>\n",
              "      <td>5.1033</td>\n",
              "    </tr>\n",
              "    <tr>\n",
              "      <th>14360</th>\n",
              "      <td>-117.87</td>\n",
              "      <td>33.62</td>\n",
              "      <td>8.0</td>\n",
              "      <td>1266.0</td>\n",
              "      <td>434.0</td>\n",
              "      <td>375.0</td>\n",
              "      <td>183.0</td>\n",
              "      <td>9.8020</td>\n",
              "    </tr>\n",
              "  </tbody>\n",
              "</table>\n",
              "</div>\n",
              "      <button class=\"colab-df-convert\" onclick=\"convertToInteractive('df-e8da9050-1df5-4c59-ad07-0df44a62fda2')\"\n",
              "              title=\"Convert this dataframe to an interactive table.\"\n",
              "              style=\"display:none;\">\n",
              "        \n",
              "  <svg xmlns=\"http://www.w3.org/2000/svg\" height=\"24px\"viewBox=\"0 0 24 24\"\n",
              "       width=\"24px\">\n",
              "    <path d=\"M0 0h24v24H0V0z\" fill=\"none\"/>\n",
              "    <path d=\"M18.56 5.44l.94 2.06.94-2.06 2.06-.94-2.06-.94-.94-2.06-.94 2.06-2.06.94zm-11 1L8.5 8.5l.94-2.06 2.06-.94-2.06-.94L8.5 2.5l-.94 2.06-2.06.94zm10 10l.94 2.06.94-2.06 2.06-.94-2.06-.94-.94-2.06-.94 2.06-2.06.94z\"/><path d=\"M17.41 7.96l-1.37-1.37c-.4-.4-.92-.59-1.43-.59-.52 0-1.04.2-1.43.59L10.3 9.45l-7.72 7.72c-.78.78-.78 2.05 0 2.83L4 21.41c.39.39.9.59 1.41.59.51 0 1.02-.2 1.41-.59l7.78-7.78 2.81-2.81c.8-.78.8-2.07 0-2.86zM5.41 20L4 18.59l7.72-7.72 1.47 1.35L5.41 20z\"/>\n",
              "  </svg>\n",
              "      </button>\n",
              "      \n",
              "  <style>\n",
              "    .colab-df-container {\n",
              "      display:flex;\n",
              "      flex-wrap:wrap;\n",
              "      gap: 12px;\n",
              "    }\n",
              "\n",
              "    .colab-df-convert {\n",
              "      background-color: #E8F0FE;\n",
              "      border: none;\n",
              "      border-radius: 50%;\n",
              "      cursor: pointer;\n",
              "      display: none;\n",
              "      fill: #1967D2;\n",
              "      height: 32px;\n",
              "      padding: 0 0 0 0;\n",
              "      width: 32px;\n",
              "    }\n",
              "\n",
              "    .colab-df-convert:hover {\n",
              "      background-color: #E2EBFA;\n",
              "      box-shadow: 0px 1px 2px rgba(60, 64, 67, 0.3), 0px 1px 3px 1px rgba(60, 64, 67, 0.15);\n",
              "      fill: #174EA6;\n",
              "    }\n",
              "\n",
              "    [theme=dark] .colab-df-convert {\n",
              "      background-color: #3B4455;\n",
              "      fill: #D2E3FC;\n",
              "    }\n",
              "\n",
              "    [theme=dark] .colab-df-convert:hover {\n",
              "      background-color: #434B5C;\n",
              "      box-shadow: 0px 1px 3px 1px rgba(0, 0, 0, 0.15);\n",
              "      filter: drop-shadow(0px 1px 2px rgba(0, 0, 0, 0.3));\n",
              "      fill: #FFFFFF;\n",
              "    }\n",
              "  </style>\n",
              "\n",
              "      <script>\n",
              "        const buttonEl =\n",
              "          document.querySelector('#df-e8da9050-1df5-4c59-ad07-0df44a62fda2 button.colab-df-convert');\n",
              "        buttonEl.style.display =\n",
              "          google.colab.kernel.accessAllowed ? 'block' : 'none';\n",
              "\n",
              "        async function convertToInteractive(key) {\n",
              "          const element = document.querySelector('#df-e8da9050-1df5-4c59-ad07-0df44a62fda2');\n",
              "          const dataTable =\n",
              "            await google.colab.kernel.invokeFunction('convertToInteractive',\n",
              "                                                     [key], {});\n",
              "          if (!dataTable) return;\n",
              "\n",
              "          const docLinkHtml = 'Like what you see? Visit the ' +\n",
              "            '<a target=\"_blank\" href=https://colab.research.google.com/notebooks/data_table.ipynb>data table notebook</a>'\n",
              "            + ' to learn more about interactive tables.';\n",
              "          element.innerHTML = '';\n",
              "          dataTable['output_type'] = 'display_data';\n",
              "          await google.colab.output.renderOutput(dataTable, element);\n",
              "          const docLink = document.createElement('div');\n",
              "          docLink.innerHTML = docLinkHtml;\n",
              "          element.appendChild(docLink);\n",
              "        }\n",
              "      </script>\n",
              "    </div>\n",
              "  </div>\n",
              "  "
            ]
          },
          "metadata": {},
          "execution_count": 53
        }
      ]
    },
    {
      "cell_type": "code",
      "source": [
        "imputer.strategy"
      ],
      "metadata": {
        "colab": {
          "base_uri": "https://localhost:8080/",
          "height": 35
        },
        "id": "9sOW68kBLkQC",
        "outputId": "e9869ab5-dd35-4005-cf43-4ca4b81dd463"
      },
      "execution_count": null,
      "outputs": [
        {
          "output_type": "execute_result",
          "data": {
            "text/plain": [
              "'median'"
            ],
            "application/vnd.google.colaboratory.intrinsic+json": {
              "type": "string"
            }
          },
          "metadata": {},
          "execution_count": 54
        }
      ]
    },
    {
      "cell_type": "code",
      "source": [
        "housing_tr = pd.DataFrame(X, columns = housing_num.columns, index = housing_num.index)"
      ],
      "metadata": {
        "id": "VdpI1gPYLn3y"
      },
      "execution_count": null,
      "outputs": []
    },
    {
      "cell_type": "code",
      "source": [
        "housing_tr.loc[null_row_idx].head()"
      ],
      "metadata": {
        "colab": {
          "base_uri": "https://localhost:8080/",
          "height": 270
        },
        "id": "C-ne2O5WL6uC",
        "outputId": "cab599aa-4511-407b-db48-e6bc8e1435e4"
      },
      "execution_count": null,
      "outputs": [
        {
          "output_type": "execute_result",
          "data": {
            "text/plain": [
              "       longitude  latitude  housing_median_age  total_rooms  total_bedrooms  \\\n",
              "14452    -120.67     40.50                15.0       5343.0           434.0   \n",
              "18217    -117.96     34.03                35.0       2093.0           434.0   \n",
              "11889    -118.05     34.04                33.0       1348.0           434.0   \n",
              "20325    -118.88     34.17                15.0       4260.0           434.0   \n",
              "14360    -117.87     33.62                 8.0       1266.0           434.0   \n",
              "\n",
              "       population  households  median_income  \n",
              "14452      2503.0       902.0         3.5962  \n",
              "18217      1755.0       403.0         3.4115  \n",
              "11889      1098.0       257.0         4.2917  \n",
              "20325      1701.0       669.0         5.1033  \n",
              "14360       375.0       183.0         9.8020  "
            ],
            "text/html": [
              "\n",
              "  <div id=\"df-bdf66537-8ce3-4e0c-899e-15b474fe6772\">\n",
              "    <div class=\"colab-df-container\">\n",
              "      <div>\n",
              "<style scoped>\n",
              "    .dataframe tbody tr th:only-of-type {\n",
              "        vertical-align: middle;\n",
              "    }\n",
              "\n",
              "    .dataframe tbody tr th {\n",
              "        vertical-align: top;\n",
              "    }\n",
              "\n",
              "    .dataframe thead th {\n",
              "        text-align: right;\n",
              "    }\n",
              "</style>\n",
              "<table border=\"1\" class=\"dataframe\">\n",
              "  <thead>\n",
              "    <tr style=\"text-align: right;\">\n",
              "      <th></th>\n",
              "      <th>longitude</th>\n",
              "      <th>latitude</th>\n",
              "      <th>housing_median_age</th>\n",
              "      <th>total_rooms</th>\n",
              "      <th>total_bedrooms</th>\n",
              "      <th>population</th>\n",
              "      <th>households</th>\n",
              "      <th>median_income</th>\n",
              "    </tr>\n",
              "  </thead>\n",
              "  <tbody>\n",
              "    <tr>\n",
              "      <th>14452</th>\n",
              "      <td>-120.67</td>\n",
              "      <td>40.50</td>\n",
              "      <td>15.0</td>\n",
              "      <td>5343.0</td>\n",
              "      <td>434.0</td>\n",
              "      <td>2503.0</td>\n",
              "      <td>902.0</td>\n",
              "      <td>3.5962</td>\n",
              "    </tr>\n",
              "    <tr>\n",
              "      <th>18217</th>\n",
              "      <td>-117.96</td>\n",
              "      <td>34.03</td>\n",
              "      <td>35.0</td>\n",
              "      <td>2093.0</td>\n",
              "      <td>434.0</td>\n",
              "      <td>1755.0</td>\n",
              "      <td>403.0</td>\n",
              "      <td>3.4115</td>\n",
              "    </tr>\n",
              "    <tr>\n",
              "      <th>11889</th>\n",
              "      <td>-118.05</td>\n",
              "      <td>34.04</td>\n",
              "      <td>33.0</td>\n",
              "      <td>1348.0</td>\n",
              "      <td>434.0</td>\n",
              "      <td>1098.0</td>\n",
              "      <td>257.0</td>\n",
              "      <td>4.2917</td>\n",
              "    </tr>\n",
              "    <tr>\n",
              "      <th>20325</th>\n",
              "      <td>-118.88</td>\n",
              "      <td>34.17</td>\n",
              "      <td>15.0</td>\n",
              "      <td>4260.0</td>\n",
              "      <td>434.0</td>\n",
              "      <td>1701.0</td>\n",
              "      <td>669.0</td>\n",
              "      <td>5.1033</td>\n",
              "    </tr>\n",
              "    <tr>\n",
              "      <th>14360</th>\n",
              "      <td>-117.87</td>\n",
              "      <td>33.62</td>\n",
              "      <td>8.0</td>\n",
              "      <td>1266.0</td>\n",
              "      <td>434.0</td>\n",
              "      <td>375.0</td>\n",
              "      <td>183.0</td>\n",
              "      <td>9.8020</td>\n",
              "    </tr>\n",
              "  </tbody>\n",
              "</table>\n",
              "</div>\n",
              "      <button class=\"colab-df-convert\" onclick=\"convertToInteractive('df-bdf66537-8ce3-4e0c-899e-15b474fe6772')\"\n",
              "              title=\"Convert this dataframe to an interactive table.\"\n",
              "              style=\"display:none;\">\n",
              "        \n",
              "  <svg xmlns=\"http://www.w3.org/2000/svg\" height=\"24px\"viewBox=\"0 0 24 24\"\n",
              "       width=\"24px\">\n",
              "    <path d=\"M0 0h24v24H0V0z\" fill=\"none\"/>\n",
              "    <path d=\"M18.56 5.44l.94 2.06.94-2.06 2.06-.94-2.06-.94-.94-2.06-.94 2.06-2.06.94zm-11 1L8.5 8.5l.94-2.06 2.06-.94-2.06-.94L8.5 2.5l-.94 2.06-2.06.94zm10 10l.94 2.06.94-2.06 2.06-.94-2.06-.94-.94-2.06-.94 2.06-2.06.94z\"/><path d=\"M17.41 7.96l-1.37-1.37c-.4-.4-.92-.59-1.43-.59-.52 0-1.04.2-1.43.59L10.3 9.45l-7.72 7.72c-.78.78-.78 2.05 0 2.83L4 21.41c.39.39.9.59 1.41.59.51 0 1.02-.2 1.41-.59l7.78-7.78 2.81-2.81c.8-.78.8-2.07 0-2.86zM5.41 20L4 18.59l7.72-7.72 1.47 1.35L5.41 20z\"/>\n",
              "  </svg>\n",
              "      </button>\n",
              "      \n",
              "  <style>\n",
              "    .colab-df-container {\n",
              "      display:flex;\n",
              "      flex-wrap:wrap;\n",
              "      gap: 12px;\n",
              "    }\n",
              "\n",
              "    .colab-df-convert {\n",
              "      background-color: #E8F0FE;\n",
              "      border: none;\n",
              "      border-radius: 50%;\n",
              "      cursor: pointer;\n",
              "      display: none;\n",
              "      fill: #1967D2;\n",
              "      height: 32px;\n",
              "      padding: 0 0 0 0;\n",
              "      width: 32px;\n",
              "    }\n",
              "\n",
              "    .colab-df-convert:hover {\n",
              "      background-color: #E2EBFA;\n",
              "      box-shadow: 0px 1px 2px rgba(60, 64, 67, 0.3), 0px 1px 3px 1px rgba(60, 64, 67, 0.15);\n",
              "      fill: #174EA6;\n",
              "    }\n",
              "\n",
              "    [theme=dark] .colab-df-convert {\n",
              "      background-color: #3B4455;\n",
              "      fill: #D2E3FC;\n",
              "    }\n",
              "\n",
              "    [theme=dark] .colab-df-convert:hover {\n",
              "      background-color: #434B5C;\n",
              "      box-shadow: 0px 1px 3px 1px rgba(0, 0, 0, 0.15);\n",
              "      filter: drop-shadow(0px 1px 2px rgba(0, 0, 0, 0.3));\n",
              "      fill: #FFFFFF;\n",
              "    }\n",
              "  </style>\n",
              "\n",
              "      <script>\n",
              "        const buttonEl =\n",
              "          document.querySelector('#df-bdf66537-8ce3-4e0c-899e-15b474fe6772 button.colab-df-convert');\n",
              "        buttonEl.style.display =\n",
              "          google.colab.kernel.accessAllowed ? 'block' : 'none';\n",
              "\n",
              "        async function convertToInteractive(key) {\n",
              "          const element = document.querySelector('#df-bdf66537-8ce3-4e0c-899e-15b474fe6772');\n",
              "          const dataTable =\n",
              "            await google.colab.kernel.invokeFunction('convertToInteractive',\n",
              "                                                     [key], {});\n",
              "          if (!dataTable) return;\n",
              "\n",
              "          const docLinkHtml = 'Like what you see? Visit the ' +\n",
              "            '<a target=\"_blank\" href=https://colab.research.google.com/notebooks/data_table.ipynb>data table notebook</a>'\n",
              "            + ' to learn more about interactive tables.';\n",
              "          element.innerHTML = '';\n",
              "          dataTable['output_type'] = 'display_data';\n",
              "          await google.colab.output.renderOutput(dataTable, element);\n",
              "          const docLink = document.createElement('div');\n",
              "          docLink.innerHTML = docLinkHtml;\n",
              "          element.appendChild(docLink);\n",
              "        }\n",
              "      </script>\n",
              "    </div>\n",
              "  </div>\n",
              "  "
            ]
          },
          "metadata": {},
          "execution_count": 56
        }
      ]
    },
    {
      "cell_type": "markdown",
      "source": [
        "**Droping some outliers**"
      ],
      "metadata": {
        "id": "nmEtCqNnMDfO"
      }
    },
    {
      "cell_type": "code",
      "source": [
        "from sklearn.ensemble import IsolationForest\n",
        "\n",
        "isolation_forest = IsolationForest(random_state = 42)\n",
        "outlier_pred = isolation_forest.fit_predict(X)\n",
        "#housing = housing.iloc[outlier_pred == 1]\n",
        "#housing_labels = housing_labels.loc[outlier_pred == 1]\n",
        "print(housing.shape)\n",
        "print(housing_labels)"
      ],
      "metadata": {
        "id": "HC_ylUd1MUsO",
        "colab": {
          "base_uri": "https://localhost:8080/"
        },
        "outputId": "f28d21ec-55b8-4662-86d3-5ca45ad2cca7"
      },
      "execution_count": null,
      "outputs": [
        {
          "output_type": "stream",
          "name": "stdout",
          "text": [
            "(16512, 9)\n",
            "13096    458300.0\n",
            "14973    483800.0\n",
            "3785     101700.0\n",
            "14689     96100.0\n",
            "20507    361800.0\n",
            "           ...   \n",
            "14207    500001.0\n",
            "13105     88800.0\n",
            "19301    148800.0\n",
            "19121    500001.0\n",
            "19888    233300.0\n",
            "Name: median_house_value, Length: 16512, dtype: float64\n"
          ]
        }
      ]
    },
    {
      "cell_type": "markdown",
      "source": [
        "**Handling Text and Categorical Attributes**"
      ],
      "metadata": {
        "id": "JCkRrYkrNZSm"
      }
    },
    {
      "cell_type": "code",
      "source": [
        "housing_cat = housing[[\"ocean_proximity\"]]\n",
        "housing_cat.head()"
      ],
      "metadata": {
        "colab": {
          "base_uri": "https://localhost:8080/",
          "height": 206
        },
        "id": "IWMgtBpTNk0X",
        "outputId": "8a33c79c-1b62-4e80-9201-feac2138d458"
      },
      "execution_count": null,
      "outputs": [
        {
          "output_type": "execute_result",
          "data": {
            "text/plain": [
              "      ocean_proximity\n",
              "13096        NEAR BAY\n",
              "14973       <1H OCEAN\n",
              "3785           INLAND\n",
              "14689          INLAND\n",
              "20507      NEAR OCEAN"
            ],
            "text/html": [
              "\n",
              "  <div id=\"df-2dc67aaa-4597-45d9-afd6-065823d3635a\">\n",
              "    <div class=\"colab-df-container\">\n",
              "      <div>\n",
              "<style scoped>\n",
              "    .dataframe tbody tr th:only-of-type {\n",
              "        vertical-align: middle;\n",
              "    }\n",
              "\n",
              "    .dataframe tbody tr th {\n",
              "        vertical-align: top;\n",
              "    }\n",
              "\n",
              "    .dataframe thead th {\n",
              "        text-align: right;\n",
              "    }\n",
              "</style>\n",
              "<table border=\"1\" class=\"dataframe\">\n",
              "  <thead>\n",
              "    <tr style=\"text-align: right;\">\n",
              "      <th></th>\n",
              "      <th>ocean_proximity</th>\n",
              "    </tr>\n",
              "  </thead>\n",
              "  <tbody>\n",
              "    <tr>\n",
              "      <th>13096</th>\n",
              "      <td>NEAR BAY</td>\n",
              "    </tr>\n",
              "    <tr>\n",
              "      <th>14973</th>\n",
              "      <td>&lt;1H OCEAN</td>\n",
              "    </tr>\n",
              "    <tr>\n",
              "      <th>3785</th>\n",
              "      <td>INLAND</td>\n",
              "    </tr>\n",
              "    <tr>\n",
              "      <th>14689</th>\n",
              "      <td>INLAND</td>\n",
              "    </tr>\n",
              "    <tr>\n",
              "      <th>20507</th>\n",
              "      <td>NEAR OCEAN</td>\n",
              "    </tr>\n",
              "  </tbody>\n",
              "</table>\n",
              "</div>\n",
              "      <button class=\"colab-df-convert\" onclick=\"convertToInteractive('df-2dc67aaa-4597-45d9-afd6-065823d3635a')\"\n",
              "              title=\"Convert this dataframe to an interactive table.\"\n",
              "              style=\"display:none;\">\n",
              "        \n",
              "  <svg xmlns=\"http://www.w3.org/2000/svg\" height=\"24px\"viewBox=\"0 0 24 24\"\n",
              "       width=\"24px\">\n",
              "    <path d=\"M0 0h24v24H0V0z\" fill=\"none\"/>\n",
              "    <path d=\"M18.56 5.44l.94 2.06.94-2.06 2.06-.94-2.06-.94-.94-2.06-.94 2.06-2.06.94zm-11 1L8.5 8.5l.94-2.06 2.06-.94-2.06-.94L8.5 2.5l-.94 2.06-2.06.94zm10 10l.94 2.06.94-2.06 2.06-.94-2.06-.94-.94-2.06-.94 2.06-2.06.94z\"/><path d=\"M17.41 7.96l-1.37-1.37c-.4-.4-.92-.59-1.43-.59-.52 0-1.04.2-1.43.59L10.3 9.45l-7.72 7.72c-.78.78-.78 2.05 0 2.83L4 21.41c.39.39.9.59 1.41.59.51 0 1.02-.2 1.41-.59l7.78-7.78 2.81-2.81c.8-.78.8-2.07 0-2.86zM5.41 20L4 18.59l7.72-7.72 1.47 1.35L5.41 20z\"/>\n",
              "  </svg>\n",
              "      </button>\n",
              "      \n",
              "  <style>\n",
              "    .colab-df-container {\n",
              "      display:flex;\n",
              "      flex-wrap:wrap;\n",
              "      gap: 12px;\n",
              "    }\n",
              "\n",
              "    .colab-df-convert {\n",
              "      background-color: #E8F0FE;\n",
              "      border: none;\n",
              "      border-radius: 50%;\n",
              "      cursor: pointer;\n",
              "      display: none;\n",
              "      fill: #1967D2;\n",
              "      height: 32px;\n",
              "      padding: 0 0 0 0;\n",
              "      width: 32px;\n",
              "    }\n",
              "\n",
              "    .colab-df-convert:hover {\n",
              "      background-color: #E2EBFA;\n",
              "      box-shadow: 0px 1px 2px rgba(60, 64, 67, 0.3), 0px 1px 3px 1px rgba(60, 64, 67, 0.15);\n",
              "      fill: #174EA6;\n",
              "    }\n",
              "\n",
              "    [theme=dark] .colab-df-convert {\n",
              "      background-color: #3B4455;\n",
              "      fill: #D2E3FC;\n",
              "    }\n",
              "\n",
              "    [theme=dark] .colab-df-convert:hover {\n",
              "      background-color: #434B5C;\n",
              "      box-shadow: 0px 1px 3px 1px rgba(0, 0, 0, 0.15);\n",
              "      filter: drop-shadow(0px 1px 2px rgba(0, 0, 0, 0.3));\n",
              "      fill: #FFFFFF;\n",
              "    }\n",
              "  </style>\n",
              "\n",
              "      <script>\n",
              "        const buttonEl =\n",
              "          document.querySelector('#df-2dc67aaa-4597-45d9-afd6-065823d3635a button.colab-df-convert');\n",
              "        buttonEl.style.display =\n",
              "          google.colab.kernel.accessAllowed ? 'block' : 'none';\n",
              "\n",
              "        async function convertToInteractive(key) {\n",
              "          const element = document.querySelector('#df-2dc67aaa-4597-45d9-afd6-065823d3635a');\n",
              "          const dataTable =\n",
              "            await google.colab.kernel.invokeFunction('convertToInteractive',\n",
              "                                                     [key], {});\n",
              "          if (!dataTable) return;\n",
              "\n",
              "          const docLinkHtml = 'Like what you see? Visit the ' +\n",
              "            '<a target=\"_blank\" href=https://colab.research.google.com/notebooks/data_table.ipynb>data table notebook</a>'\n",
              "            + ' to learn more about interactive tables.';\n",
              "          element.innerHTML = '';\n",
              "          dataTable['output_type'] = 'display_data';\n",
              "          await google.colab.output.renderOutput(dataTable, element);\n",
              "          const docLink = document.createElement('div');\n",
              "          docLink.innerHTML = docLinkHtml;\n",
              "          element.appendChild(docLink);\n",
              "        }\n",
              "      </script>\n",
              "    </div>\n",
              "  </div>\n",
              "  "
            ]
          },
          "metadata": {},
          "execution_count": 58
        }
      ]
    },
    {
      "cell_type": "code",
      "source": [
        "from sklearn.preprocessing import OrdinalEncoder\n",
        "\n",
        "ordinal_encoder = OrdinalEncoder()\n",
        "housing_cat_encoded = ordinal_encoder.fit_transform(housing_cat)\n",
        "\n",
        "housing_cat_encoded[:8]"
      ],
      "metadata": {
        "colab": {
          "base_uri": "https://localhost:8080/"
        },
        "id": "rs9qYiRWN1fB",
        "outputId": "ecfc99dd-4eea-44a2-b492-43a8a580f6c8"
      },
      "execution_count": null,
      "outputs": [
        {
          "output_type": "execute_result",
          "data": {
            "text/plain": [
              "array([[3.],\n",
              "       [0.],\n",
              "       [1.],\n",
              "       [1.],\n",
              "       [4.],\n",
              "       [1.],\n",
              "       [0.],\n",
              "       [3.]])"
            ]
          },
          "metadata": {},
          "execution_count": 59
        }
      ]
    },
    {
      "cell_type": "code",
      "source": [
        "ordinal_encoder.categories_"
      ],
      "metadata": {
        "colab": {
          "base_uri": "https://localhost:8080/"
        },
        "id": "wOWfWWrtOR-M",
        "outputId": "39dcdae9-0adc-45c6-d808-ce0081d27f98"
      },
      "execution_count": null,
      "outputs": [
        {
          "output_type": "execute_result",
          "data": {
            "text/plain": [
              "[array(['<1H OCEAN', 'INLAND', 'ISLAND', 'NEAR BAY', 'NEAR OCEAN'],\n",
              "       dtype=object)]"
            ]
          },
          "metadata": {},
          "execution_count": 60
        }
      ]
    },
    {
      "cell_type": "code",
      "source": [
        "from sklearn.preprocessing import OneHotEncoder\n",
        "\n",
        "cat_encoder = OneHotEncoder()\n",
        "\n",
        "housing_cat1_hot = cat_encoder.fit_transform(housing_cat)\n",
        "print(housing_cat1_hot)\n",
        "housing_cat1_hot.toarray()"
      ],
      "metadata": {
        "colab": {
          "base_uri": "https://localhost:8080/"
        },
        "id": "mmqs5SP7OXzp",
        "outputId": "1a06dc8e-7289-45b1-daad-38d953e2e386"
      },
      "execution_count": null,
      "outputs": [
        {
          "output_type": "stream",
          "name": "stdout",
          "text": [
            "  (0, 3)\t1.0\n",
            "  (1, 0)\t1.0\n",
            "  (2, 1)\t1.0\n",
            "  (3, 1)\t1.0\n",
            "  (4, 4)\t1.0\n",
            "  (5, 1)\t1.0\n",
            "  (6, 0)\t1.0\n",
            "  (7, 3)\t1.0\n",
            "  (8, 0)\t1.0\n",
            "  (9, 0)\t1.0\n",
            "  (10, 1)\t1.0\n",
            "  (11, 0)\t1.0\n",
            "  (12, 0)\t1.0\n",
            "  (13, 1)\t1.0\n",
            "  (14, 4)\t1.0\n",
            "  (15, 0)\t1.0\n",
            "  (16, 1)\t1.0\n",
            "  (17, 3)\t1.0\n",
            "  (18, 1)\t1.0\n",
            "  (19, 0)\t1.0\n",
            "  (20, 0)\t1.0\n",
            "  (21, 4)\t1.0\n",
            "  (22, 1)\t1.0\n",
            "  (23, 3)\t1.0\n",
            "  (24, 1)\t1.0\n",
            "  :\t:\n",
            "  (16487, 1)\t1.0\n",
            "  (16488, 0)\t1.0\n",
            "  (16489, 0)\t1.0\n",
            "  (16490, 3)\t1.0\n",
            "  (16491, 1)\t1.0\n",
            "  (16492, 4)\t1.0\n",
            "  (16493, 4)\t1.0\n",
            "  (16494, 1)\t1.0\n",
            "  (16495, 0)\t1.0\n",
            "  (16496, 1)\t1.0\n",
            "  (16497, 0)\t1.0\n",
            "  (16498, 0)\t1.0\n",
            "  (16499, 4)\t1.0\n",
            "  (16500, 0)\t1.0\n",
            "  (16501, 0)\t1.0\n",
            "  (16502, 0)\t1.0\n",
            "  (16503, 0)\t1.0\n",
            "  (16504, 0)\t1.0\n",
            "  (16505, 0)\t1.0\n",
            "  (16506, 1)\t1.0\n",
            "  (16507, 0)\t1.0\n",
            "  (16508, 1)\t1.0\n",
            "  (16509, 4)\t1.0\n",
            "  (16510, 0)\t1.0\n",
            "  (16511, 4)\t1.0\n"
          ]
        },
        {
          "output_type": "execute_result",
          "data": {
            "text/plain": [
              "array([[0., 0., 0., 1., 0.],\n",
              "       [1., 0., 0., 0., 0.],\n",
              "       [0., 1., 0., 0., 0.],\n",
              "       ...,\n",
              "       [0., 0., 0., 0., 1.],\n",
              "       [1., 0., 0., 0., 0.],\n",
              "       [0., 0., 0., 0., 1.]])"
            ]
          },
          "metadata": {},
          "execution_count": 61
        }
      ]
    },
    {
      "cell_type": "code",
      "source": [
        "cat_encoder = OneHotEncoder(sparse=False)\n",
        "housing_cat1_hot = cat_encoder.fit_transform(housing_cat)\n",
        "housing_cat1_hot"
      ],
      "metadata": {
        "colab": {
          "base_uri": "https://localhost:8080/"
        },
        "id": "gkFu66EDQZeL",
        "outputId": "84f450b5-62cc-4776-bd13-b23f43601e88"
      },
      "execution_count": null,
      "outputs": [
        {
          "output_type": "execute_result",
          "data": {
            "text/plain": [
              "array([[0., 0., 0., 1., 0.],\n",
              "       [1., 0., 0., 0., 0.],\n",
              "       [0., 1., 0., 0., 0.],\n",
              "       ...,\n",
              "       [0., 0., 0., 0., 1.],\n",
              "       [1., 0., 0., 0., 0.],\n",
              "       [0., 0., 0., 0., 1.]])"
            ]
          },
          "metadata": {},
          "execution_count": 62
        }
      ]
    },
    {
      "cell_type": "code",
      "source": [
        "cat_encoder.categories_"
      ],
      "metadata": {
        "colab": {
          "base_uri": "https://localhost:8080/"
        },
        "id": "rnxd4rZ4QvSR",
        "outputId": "8acd7a71-f7ac-4144-8960-cd3f4ede84ef"
      },
      "execution_count": null,
      "outputs": [
        {
          "output_type": "execute_result",
          "data": {
            "text/plain": [
              "[array(['<1H OCEAN', 'INLAND', 'ISLAND', 'NEAR BAY', 'NEAR OCEAN'],\n",
              "       dtype=object)]"
            ]
          },
          "metadata": {},
          "execution_count": 63
        }
      ]
    },
    {
      "cell_type": "code",
      "source": [
        "df_test = pd.DataFrame({\"ocean_proximity\": [\"INLAND\",\"NEAR BAY\"]})\n",
        "pd.get_dummies(df_test)"
      ],
      "metadata": {
        "colab": {
          "base_uri": "https://localhost:8080/",
          "height": 112
        },
        "id": "guHgAvF5QygA",
        "outputId": "742310c7-4e52-4ecd-f44b-7d6d0b7f519d"
      },
      "execution_count": null,
      "outputs": [
        {
          "output_type": "execute_result",
          "data": {
            "text/plain": [
              "   ocean_proximity_INLAND  ocean_proximity_NEAR BAY\n",
              "0                       1                         0\n",
              "1                       0                         1"
            ],
            "text/html": [
              "\n",
              "  <div id=\"df-b2a2a9d7-b9be-483e-a630-720f4192d127\">\n",
              "    <div class=\"colab-df-container\">\n",
              "      <div>\n",
              "<style scoped>\n",
              "    .dataframe tbody tr th:only-of-type {\n",
              "        vertical-align: middle;\n",
              "    }\n",
              "\n",
              "    .dataframe tbody tr th {\n",
              "        vertical-align: top;\n",
              "    }\n",
              "\n",
              "    .dataframe thead th {\n",
              "        text-align: right;\n",
              "    }\n",
              "</style>\n",
              "<table border=\"1\" class=\"dataframe\">\n",
              "  <thead>\n",
              "    <tr style=\"text-align: right;\">\n",
              "      <th></th>\n",
              "      <th>ocean_proximity_INLAND</th>\n",
              "      <th>ocean_proximity_NEAR BAY</th>\n",
              "    </tr>\n",
              "  </thead>\n",
              "  <tbody>\n",
              "    <tr>\n",
              "      <th>0</th>\n",
              "      <td>1</td>\n",
              "      <td>0</td>\n",
              "    </tr>\n",
              "    <tr>\n",
              "      <th>1</th>\n",
              "      <td>0</td>\n",
              "      <td>1</td>\n",
              "    </tr>\n",
              "  </tbody>\n",
              "</table>\n",
              "</div>\n",
              "      <button class=\"colab-df-convert\" onclick=\"convertToInteractive('df-b2a2a9d7-b9be-483e-a630-720f4192d127')\"\n",
              "              title=\"Convert this dataframe to an interactive table.\"\n",
              "              style=\"display:none;\">\n",
              "        \n",
              "  <svg xmlns=\"http://www.w3.org/2000/svg\" height=\"24px\"viewBox=\"0 0 24 24\"\n",
              "       width=\"24px\">\n",
              "    <path d=\"M0 0h24v24H0V0z\" fill=\"none\"/>\n",
              "    <path d=\"M18.56 5.44l.94 2.06.94-2.06 2.06-.94-2.06-.94-.94-2.06-.94 2.06-2.06.94zm-11 1L8.5 8.5l.94-2.06 2.06-.94-2.06-.94L8.5 2.5l-.94 2.06-2.06.94zm10 10l.94 2.06.94-2.06 2.06-.94-2.06-.94-.94-2.06-.94 2.06-2.06.94z\"/><path d=\"M17.41 7.96l-1.37-1.37c-.4-.4-.92-.59-1.43-.59-.52 0-1.04.2-1.43.59L10.3 9.45l-7.72 7.72c-.78.78-.78 2.05 0 2.83L4 21.41c.39.39.9.59 1.41.59.51 0 1.02-.2 1.41-.59l7.78-7.78 2.81-2.81c.8-.78.8-2.07 0-2.86zM5.41 20L4 18.59l7.72-7.72 1.47 1.35L5.41 20z\"/>\n",
              "  </svg>\n",
              "      </button>\n",
              "      \n",
              "  <style>\n",
              "    .colab-df-container {\n",
              "      display:flex;\n",
              "      flex-wrap:wrap;\n",
              "      gap: 12px;\n",
              "    }\n",
              "\n",
              "    .colab-df-convert {\n",
              "      background-color: #E8F0FE;\n",
              "      border: none;\n",
              "      border-radius: 50%;\n",
              "      cursor: pointer;\n",
              "      display: none;\n",
              "      fill: #1967D2;\n",
              "      height: 32px;\n",
              "      padding: 0 0 0 0;\n",
              "      width: 32px;\n",
              "    }\n",
              "\n",
              "    .colab-df-convert:hover {\n",
              "      background-color: #E2EBFA;\n",
              "      box-shadow: 0px 1px 2px rgba(60, 64, 67, 0.3), 0px 1px 3px 1px rgba(60, 64, 67, 0.15);\n",
              "      fill: #174EA6;\n",
              "    }\n",
              "\n",
              "    [theme=dark] .colab-df-convert {\n",
              "      background-color: #3B4455;\n",
              "      fill: #D2E3FC;\n",
              "    }\n",
              "\n",
              "    [theme=dark] .colab-df-convert:hover {\n",
              "      background-color: #434B5C;\n",
              "      box-shadow: 0px 1px 3px 1px rgba(0, 0, 0, 0.15);\n",
              "      filter: drop-shadow(0px 1px 2px rgba(0, 0, 0, 0.3));\n",
              "      fill: #FFFFFF;\n",
              "    }\n",
              "  </style>\n",
              "\n",
              "      <script>\n",
              "        const buttonEl =\n",
              "          document.querySelector('#df-b2a2a9d7-b9be-483e-a630-720f4192d127 button.colab-df-convert');\n",
              "        buttonEl.style.display =\n",
              "          google.colab.kernel.accessAllowed ? 'block' : 'none';\n",
              "\n",
              "        async function convertToInteractive(key) {\n",
              "          const element = document.querySelector('#df-b2a2a9d7-b9be-483e-a630-720f4192d127');\n",
              "          const dataTable =\n",
              "            await google.colab.kernel.invokeFunction('convertToInteractive',\n",
              "                                                     [key], {});\n",
              "          if (!dataTable) return;\n",
              "\n",
              "          const docLinkHtml = 'Like what you see? Visit the ' +\n",
              "            '<a target=\"_blank\" href=https://colab.research.google.com/notebooks/data_table.ipynb>data table notebook</a>'\n",
              "            + ' to learn more about interactive tables.';\n",
              "          element.innerHTML = '';\n",
              "          dataTable['output_type'] = 'display_data';\n",
              "          await google.colab.output.renderOutput(dataTable, element);\n",
              "          const docLink = document.createElement('div');\n",
              "          docLink.innerHTML = docLinkHtml;\n",
              "          element.appendChild(docLink);\n",
              "        }\n",
              "      </script>\n",
              "    </div>\n",
              "  </div>\n",
              "  "
            ]
          },
          "metadata": {},
          "execution_count": 64
        }
      ]
    },
    {
      "cell_type": "code",
      "source": [
        "cat_encoder.transform(df_test)"
      ],
      "metadata": {
        "colab": {
          "base_uri": "https://localhost:8080/"
        },
        "id": "OjOAXD79ROBs",
        "outputId": "4415365f-7bae-4dc7-fcfc-4b573d3e6cf2"
      },
      "execution_count": null,
      "outputs": [
        {
          "output_type": "execute_result",
          "data": {
            "text/plain": [
              "array([[0., 1., 0., 0., 0.],\n",
              "       [0., 0., 0., 1., 0.]])"
            ]
          },
          "metadata": {},
          "execution_count": 65
        }
      ]
    },
    {
      "cell_type": "code",
      "source": [
        "df_test_unknown = pd.DataFrame({\"ocean_proximity\": [\"<2H OCEAN\",\"ISLAND\"]})\n",
        "pd.get_dummies(df_test_unknown)"
      ],
      "metadata": {
        "colab": {
          "base_uri": "https://localhost:8080/",
          "height": 112
        },
        "id": "li2XNHDERUeM",
        "outputId": "9a9f1d42-3a8b-48cf-d722-e47d8044edf6"
      },
      "execution_count": null,
      "outputs": [
        {
          "output_type": "execute_result",
          "data": {
            "text/plain": [
              "   ocean_proximity_<2H OCEAN  ocean_proximity_ISLAND\n",
              "0                          1                       0\n",
              "1                          0                       1"
            ],
            "text/html": [
              "\n",
              "  <div id=\"df-d1963c7b-6e20-44ea-b9e7-7a6ea3357484\">\n",
              "    <div class=\"colab-df-container\">\n",
              "      <div>\n",
              "<style scoped>\n",
              "    .dataframe tbody tr th:only-of-type {\n",
              "        vertical-align: middle;\n",
              "    }\n",
              "\n",
              "    .dataframe tbody tr th {\n",
              "        vertical-align: top;\n",
              "    }\n",
              "\n",
              "    .dataframe thead th {\n",
              "        text-align: right;\n",
              "    }\n",
              "</style>\n",
              "<table border=\"1\" class=\"dataframe\">\n",
              "  <thead>\n",
              "    <tr style=\"text-align: right;\">\n",
              "      <th></th>\n",
              "      <th>ocean_proximity_&lt;2H OCEAN</th>\n",
              "      <th>ocean_proximity_ISLAND</th>\n",
              "    </tr>\n",
              "  </thead>\n",
              "  <tbody>\n",
              "    <tr>\n",
              "      <th>0</th>\n",
              "      <td>1</td>\n",
              "      <td>0</td>\n",
              "    </tr>\n",
              "    <tr>\n",
              "      <th>1</th>\n",
              "      <td>0</td>\n",
              "      <td>1</td>\n",
              "    </tr>\n",
              "  </tbody>\n",
              "</table>\n",
              "</div>\n",
              "      <button class=\"colab-df-convert\" onclick=\"convertToInteractive('df-d1963c7b-6e20-44ea-b9e7-7a6ea3357484')\"\n",
              "              title=\"Convert this dataframe to an interactive table.\"\n",
              "              style=\"display:none;\">\n",
              "        \n",
              "  <svg xmlns=\"http://www.w3.org/2000/svg\" height=\"24px\"viewBox=\"0 0 24 24\"\n",
              "       width=\"24px\">\n",
              "    <path d=\"M0 0h24v24H0V0z\" fill=\"none\"/>\n",
              "    <path d=\"M18.56 5.44l.94 2.06.94-2.06 2.06-.94-2.06-.94-.94-2.06-.94 2.06-2.06.94zm-11 1L8.5 8.5l.94-2.06 2.06-.94-2.06-.94L8.5 2.5l-.94 2.06-2.06.94zm10 10l.94 2.06.94-2.06 2.06-.94-2.06-.94-.94-2.06-.94 2.06-2.06.94z\"/><path d=\"M17.41 7.96l-1.37-1.37c-.4-.4-.92-.59-1.43-.59-.52 0-1.04.2-1.43.59L10.3 9.45l-7.72 7.72c-.78.78-.78 2.05 0 2.83L4 21.41c.39.39.9.59 1.41.59.51 0 1.02-.2 1.41-.59l7.78-7.78 2.81-2.81c.8-.78.8-2.07 0-2.86zM5.41 20L4 18.59l7.72-7.72 1.47 1.35L5.41 20z\"/>\n",
              "  </svg>\n",
              "      </button>\n",
              "      \n",
              "  <style>\n",
              "    .colab-df-container {\n",
              "      display:flex;\n",
              "      flex-wrap:wrap;\n",
              "      gap: 12px;\n",
              "    }\n",
              "\n",
              "    .colab-df-convert {\n",
              "      background-color: #E8F0FE;\n",
              "      border: none;\n",
              "      border-radius: 50%;\n",
              "      cursor: pointer;\n",
              "      display: none;\n",
              "      fill: #1967D2;\n",
              "      height: 32px;\n",
              "      padding: 0 0 0 0;\n",
              "      width: 32px;\n",
              "    }\n",
              "\n",
              "    .colab-df-convert:hover {\n",
              "      background-color: #E2EBFA;\n",
              "      box-shadow: 0px 1px 2px rgba(60, 64, 67, 0.3), 0px 1px 3px 1px rgba(60, 64, 67, 0.15);\n",
              "      fill: #174EA6;\n",
              "    }\n",
              "\n",
              "    [theme=dark] .colab-df-convert {\n",
              "      background-color: #3B4455;\n",
              "      fill: #D2E3FC;\n",
              "    }\n",
              "\n",
              "    [theme=dark] .colab-df-convert:hover {\n",
              "      background-color: #434B5C;\n",
              "      box-shadow: 0px 1px 3px 1px rgba(0, 0, 0, 0.15);\n",
              "      filter: drop-shadow(0px 1px 2px rgba(0, 0, 0, 0.3));\n",
              "      fill: #FFFFFF;\n",
              "    }\n",
              "  </style>\n",
              "\n",
              "      <script>\n",
              "        const buttonEl =\n",
              "          document.querySelector('#df-d1963c7b-6e20-44ea-b9e7-7a6ea3357484 button.colab-df-convert');\n",
              "        buttonEl.style.display =\n",
              "          google.colab.kernel.accessAllowed ? 'block' : 'none';\n",
              "\n",
              "        async function convertToInteractive(key) {\n",
              "          const element = document.querySelector('#df-d1963c7b-6e20-44ea-b9e7-7a6ea3357484');\n",
              "          const dataTable =\n",
              "            await google.colab.kernel.invokeFunction('convertToInteractive',\n",
              "                                                     [key], {});\n",
              "          if (!dataTable) return;\n",
              "\n",
              "          const docLinkHtml = 'Like what you see? Visit the ' +\n",
              "            '<a target=\"_blank\" href=https://colab.research.google.com/notebooks/data_table.ipynb>data table notebook</a>'\n",
              "            + ' to learn more about interactive tables.';\n",
              "          element.innerHTML = '';\n",
              "          dataTable['output_type'] = 'display_data';\n",
              "          await google.colab.output.renderOutput(dataTable, element);\n",
              "          const docLink = document.createElement('div');\n",
              "          docLink.innerHTML = docLinkHtml;\n",
              "          element.appendChild(docLink);\n",
              "        }\n",
              "      </script>\n",
              "    </div>\n",
              "  </div>\n",
              "  "
            ]
          },
          "metadata": {},
          "execution_count": 66
        }
      ]
    },
    {
      "cell_type": "code",
      "source": [
        "cat_encoder.handle_unknown = \"ignore\"\n",
        "cat_encoder.transform(df_test_unknown)"
      ],
      "metadata": {
        "colab": {
          "base_uri": "https://localhost:8080/"
        },
        "id": "hfHRLmIzRvX0",
        "outputId": "9c6867d5-2355-4be6-a4ad-8bbcd20a2c3e"
      },
      "execution_count": null,
      "outputs": [
        {
          "output_type": "execute_result",
          "data": {
            "text/plain": [
              "array([[0., 0., 0., 0., 0.],\n",
              "       [0., 0., 1., 0., 0.]])"
            ]
          },
          "metadata": {},
          "execution_count": 67
        }
      ]
    },
    {
      "cell_type": "code",
      "source": [
        "cat_encoder.feature_names_in_"
      ],
      "metadata": {
        "colab": {
          "base_uri": "https://localhost:8080/"
        },
        "id": "j3rEzcWWR5ft",
        "outputId": "b565f106-6e45-4871-cfc1-6ed2d0303392"
      },
      "execution_count": null,
      "outputs": [
        {
          "output_type": "execute_result",
          "data": {
            "text/plain": [
              "array(['ocean_proximity'], dtype=object)"
            ]
          },
          "metadata": {},
          "execution_count": 68
        }
      ]
    },
    {
      "cell_type": "code",
      "source": [
        "cat_encoder.get_feature_names_out()"
      ],
      "metadata": {
        "colab": {
          "base_uri": "https://localhost:8080/"
        },
        "id": "xGQyqN-qSA80",
        "outputId": "545d6b1c-e44f-42f9-a17d-1df04fe3d0d5"
      },
      "execution_count": null,
      "outputs": [
        {
          "output_type": "execute_result",
          "data": {
            "text/plain": [
              "array(['ocean_proximity_<1H OCEAN', 'ocean_proximity_INLAND',\n",
              "       'ocean_proximity_ISLAND', 'ocean_proximity_NEAR BAY',\n",
              "       'ocean_proximity_NEAR OCEAN'], dtype=object)"
            ]
          },
          "metadata": {},
          "execution_count": 69
        }
      ]
    },
    {
      "cell_type": "code",
      "source": [
        "df_output = pd.DataFrame(cat_encoder.transform(df_test_unknown),\n",
        "                         columns = cat_encoder.get_feature_names_out(),\n",
        "                          index = df_test_unknown.index)\n",
        "\n",
        "df_output"
      ],
      "metadata": {
        "colab": {
          "base_uri": "https://localhost:8080/",
          "height": 193
        },
        "id": "liIxHQkgSG7W",
        "outputId": "7089c646-f06f-442c-c623-433adf4ef313"
      },
      "execution_count": null,
      "outputs": [
        {
          "output_type": "execute_result",
          "data": {
            "text/plain": [
              "   ocean_proximity_<1H OCEAN  ocean_proximity_INLAND  ocean_proximity_ISLAND  \\\n",
              "0                        0.0                     0.0                     0.0   \n",
              "1                        0.0                     0.0                     1.0   \n",
              "\n",
              "   ocean_proximity_NEAR BAY  ocean_proximity_NEAR OCEAN  \n",
              "0                       0.0                         0.0  \n",
              "1                       0.0                         0.0  "
            ],
            "text/html": [
              "\n",
              "  <div id=\"df-80ab3e6a-4052-4c81-a551-c51308609d81\">\n",
              "    <div class=\"colab-df-container\">\n",
              "      <div>\n",
              "<style scoped>\n",
              "    .dataframe tbody tr th:only-of-type {\n",
              "        vertical-align: middle;\n",
              "    }\n",
              "\n",
              "    .dataframe tbody tr th {\n",
              "        vertical-align: top;\n",
              "    }\n",
              "\n",
              "    .dataframe thead th {\n",
              "        text-align: right;\n",
              "    }\n",
              "</style>\n",
              "<table border=\"1\" class=\"dataframe\">\n",
              "  <thead>\n",
              "    <tr style=\"text-align: right;\">\n",
              "      <th></th>\n",
              "      <th>ocean_proximity_&lt;1H OCEAN</th>\n",
              "      <th>ocean_proximity_INLAND</th>\n",
              "      <th>ocean_proximity_ISLAND</th>\n",
              "      <th>ocean_proximity_NEAR BAY</th>\n",
              "      <th>ocean_proximity_NEAR OCEAN</th>\n",
              "    </tr>\n",
              "  </thead>\n",
              "  <tbody>\n",
              "    <tr>\n",
              "      <th>0</th>\n",
              "      <td>0.0</td>\n",
              "      <td>0.0</td>\n",
              "      <td>0.0</td>\n",
              "      <td>0.0</td>\n",
              "      <td>0.0</td>\n",
              "    </tr>\n",
              "    <tr>\n",
              "      <th>1</th>\n",
              "      <td>0.0</td>\n",
              "      <td>0.0</td>\n",
              "      <td>1.0</td>\n",
              "      <td>0.0</td>\n",
              "      <td>0.0</td>\n",
              "    </tr>\n",
              "  </tbody>\n",
              "</table>\n",
              "</div>\n",
              "      <button class=\"colab-df-convert\" onclick=\"convertToInteractive('df-80ab3e6a-4052-4c81-a551-c51308609d81')\"\n",
              "              title=\"Convert this dataframe to an interactive table.\"\n",
              "              style=\"display:none;\">\n",
              "        \n",
              "  <svg xmlns=\"http://www.w3.org/2000/svg\" height=\"24px\"viewBox=\"0 0 24 24\"\n",
              "       width=\"24px\">\n",
              "    <path d=\"M0 0h24v24H0V0z\" fill=\"none\"/>\n",
              "    <path d=\"M18.56 5.44l.94 2.06.94-2.06 2.06-.94-2.06-.94-.94-2.06-.94 2.06-2.06.94zm-11 1L8.5 8.5l.94-2.06 2.06-.94-2.06-.94L8.5 2.5l-.94 2.06-2.06.94zm10 10l.94 2.06.94-2.06 2.06-.94-2.06-.94-.94-2.06-.94 2.06-2.06.94z\"/><path d=\"M17.41 7.96l-1.37-1.37c-.4-.4-.92-.59-1.43-.59-.52 0-1.04.2-1.43.59L10.3 9.45l-7.72 7.72c-.78.78-.78 2.05 0 2.83L4 21.41c.39.39.9.59 1.41.59.51 0 1.02-.2 1.41-.59l7.78-7.78 2.81-2.81c.8-.78.8-2.07 0-2.86zM5.41 20L4 18.59l7.72-7.72 1.47 1.35L5.41 20z\"/>\n",
              "  </svg>\n",
              "      </button>\n",
              "      \n",
              "  <style>\n",
              "    .colab-df-container {\n",
              "      display:flex;\n",
              "      flex-wrap:wrap;\n",
              "      gap: 12px;\n",
              "    }\n",
              "\n",
              "    .colab-df-convert {\n",
              "      background-color: #E8F0FE;\n",
              "      border: none;\n",
              "      border-radius: 50%;\n",
              "      cursor: pointer;\n",
              "      display: none;\n",
              "      fill: #1967D2;\n",
              "      height: 32px;\n",
              "      padding: 0 0 0 0;\n",
              "      width: 32px;\n",
              "    }\n",
              "\n",
              "    .colab-df-convert:hover {\n",
              "      background-color: #E2EBFA;\n",
              "      box-shadow: 0px 1px 2px rgba(60, 64, 67, 0.3), 0px 1px 3px 1px rgba(60, 64, 67, 0.15);\n",
              "      fill: #174EA6;\n",
              "    }\n",
              "\n",
              "    [theme=dark] .colab-df-convert {\n",
              "      background-color: #3B4455;\n",
              "      fill: #D2E3FC;\n",
              "    }\n",
              "\n",
              "    [theme=dark] .colab-df-convert:hover {\n",
              "      background-color: #434B5C;\n",
              "      box-shadow: 0px 1px 3px 1px rgba(0, 0, 0, 0.15);\n",
              "      filter: drop-shadow(0px 1px 2px rgba(0, 0, 0, 0.3));\n",
              "      fill: #FFFFFF;\n",
              "    }\n",
              "  </style>\n",
              "\n",
              "      <script>\n",
              "        const buttonEl =\n",
              "          document.querySelector('#df-80ab3e6a-4052-4c81-a551-c51308609d81 button.colab-df-convert');\n",
              "        buttonEl.style.display =\n",
              "          google.colab.kernel.accessAllowed ? 'block' : 'none';\n",
              "\n",
              "        async function convertToInteractive(key) {\n",
              "          const element = document.querySelector('#df-80ab3e6a-4052-4c81-a551-c51308609d81');\n",
              "          const dataTable =\n",
              "            await google.colab.kernel.invokeFunction('convertToInteractive',\n",
              "                                                     [key], {});\n",
              "          if (!dataTable) return;\n",
              "\n",
              "          const docLinkHtml = 'Like what you see? Visit the ' +\n",
              "            '<a target=\"_blank\" href=https://colab.research.google.com/notebooks/data_table.ipynb>data table notebook</a>'\n",
              "            + ' to learn more about interactive tables.';\n",
              "          element.innerHTML = '';\n",
              "          dataTable['output_type'] = 'display_data';\n",
              "          await google.colab.output.renderOutput(dataTable, element);\n",
              "          const docLink = document.createElement('div');\n",
              "          docLink.innerHTML = docLinkHtml;\n",
              "          element.appendChild(docLink);\n",
              "        }\n",
              "      </script>\n",
              "    </div>\n",
              "  </div>\n",
              "  "
            ]
          },
          "metadata": {},
          "execution_count": 70
        }
      ]
    },
    {
      "cell_type": "markdown",
      "source": [
        "**Feature Scaling**"
      ],
      "metadata": {
        "id": "rHQg9-KocWxX"
      }
    },
    {
      "cell_type": "code",
      "source": [
        "from sklearn.preprocessing import MinMaxScaler\n",
        "\n",
        "min_max_scaler = MinMaxScaler(feature_range=(-1,1))\n",
        "housing_num_min_max_scaled = min_max_scaler.fit_transform(housing_num)"
      ],
      "metadata": {
        "id": "qMatw383cyY6"
      },
      "execution_count": null,
      "outputs": []
    },
    {
      "cell_type": "code",
      "source": [
        "from sklearn.preprocessing import StandardScaler\n",
        "\n",
        "std_scaler = StandardScaler()\n",
        "housing_num_std_scaled = std_scaler.fit_transform(housing_num)"
      ],
      "metadata": {
        "id": "27AbOVQdlx6N"
      },
      "execution_count": null,
      "outputs": []
    },
    {
      "cell_type": "code",
      "source": [
        "fig, axs = plt.subplots(1,2, figsize=(8,3),sharey=True)\n",
        "housing[\"population\"].hist(ax=axs[0], bins=50)\n",
        "housing[\"population\"].apply(np.log).hist(ax=axs[1], bins=50)\n",
        "axs[0].set_xlabel(\"Population\")\n",
        "axs[1].set_xlabel(\"Log of population\")\n",
        "axs[0].set_ylabel(\"Number of districts\")\n",
        "save_fig(\"long_tail_plot\")\n",
        "plt.show()"
      ],
      "metadata": {
        "colab": {
          "base_uri": "https://localhost:8080/",
          "height": 217
        },
        "id": "Sonpnt_lneyf",
        "outputId": "ac58112d-0e81-4858-c0a4-f913001a78c2"
      },
      "execution_count": null,
      "outputs": [
        {
          "output_type": "display_data",
          "data": {
            "text/plain": [
              "<Figure size 576x216 with 2 Axes>"
            ],
            "image/png": "[encoded data removed]"
          },
          "metadata": {
            "needs_background": "light"
          }
        }
      ]
    },
    {
      "cell_type": "markdown",
      "source": [
        "What if we replace each value with its percentile?"
      ],
      "metadata": {
        "id": "mEluf0NvocV_"
      }
    },
    {
      "cell_type": "code",
      "source": [
        "percentiles = [np.percentile(housing[\"median_income\"],p) for p in range(1,100)]\n",
        "flattened_median_income = pd.cut(housing[\"median_income\"],\n",
        "                                 bins=[-np.inf] + percentiles + [np.inf],\n",
        "                                 labels = range(1,100+1))\n",
        "flattened_median_income.hist(bins=50)\n",
        "plt.xlabel(\"Median income percentile\")\n",
        "plt.ylabel(\"Number of districts\")\n",
        "plt.show()"
      ],
      "metadata": {
        "colab": {
          "base_uri": "https://localhost:8080/",
          "height": 285
        },
        "id": "fRx2qm1Ioxg6",
        "outputId": "f091aee7-ed2d-4bcd-8ad4-eacf2f2c1d8d"
      },
      "execution_count": null,
      "outputs": [
        {
          "output_type": "display_data",
          "data": {
            "text/plain": [
              "<Figure size 432x288 with 1 Axes>"
            ],
            "image/png": "[encoded data removed]"
          },
          "metadata": {
            "needs_background": "light"
          }
        }
      ]
    },
    {
      "cell_type": "code",
      "source": [
        "from sklearn.metrics.pairwise import rbf_kernel\n",
        "age_simil_35 = rbf_kernel(housing[[\"housing_median_age\"]], [[35]], gamma=0.1) # !!! dvojite zavorky definuji DataFrame, jinak je to Series\n",
        "\n",
        "\n",
        "#Single Post Underscore is used for naming your variables as Python Keywords and to avoid the clashes by adding an underscore at last of your variable name."
      ],
      "metadata": {
        "id": "1Y78G4gjqMju"
      },
      "execution_count": null,
      "outputs": []
    },
    {
      "cell_type": "code",
      "source": [
        "ages = np.linspace(housing[\"housing_median_age\"].min(),\n",
        "                   housing[\"housing_median_age\"].max(),\n",
        "                   500).reshape(-1,1)\n",
        "\n",
        "gamma1 = 0.1\n",
        "gamma2 = 0.03\n",
        "rbf1 = rbf_kernel(ages, [[35]], gamma = gamma1)\n",
        "rbf2 = rbf_kernel(ages, [[35]], gamma = gamma2)\n",
        "\n",
        "fig, ax1 = plt.subplots()\n",
        "\n",
        "ax1.set_xlabel(\"Housing meadina age\")\n",
        "ax1.set_ylabel(\"Number of districts\")\n",
        "ax1.hist(housing[\"housing_median_age\"], bins=50)\n",
        "\n",
        "ax2 = ax1.twinx()\n",
        "color = \"red\"\n",
        "ax2.plot(ages, rbf1, color=color, label = \"gammma = 0.10\")\n",
        "ax2.plot(ages, rbf2, color=color, label = \"gamma = 0.03\", linestyle = \"--\")\n",
        "ax2.tick_params(axis=\"y\", labelcolor = color)\n",
        "ax2.set_ylabel(\"Age similarity\", color = color)\n",
        "\n",
        "plt.legend(loc=\"upper left\")\n",
        "save_fig(\"age_plot_similarity\")\n",
        "\n",
        "plt.show()\n"
      ],
      "metadata": {
        "colab": {
          "base_uri": "https://localhost:8080/",
          "height": 289
        },
        "id": "GRjrdQm9wwF5",
        "outputId": "fbc97ddc-b48e-4661-d953-ffcbd6db7776"
      },
      "execution_count": null,
      "outputs": [
        {
          "output_type": "display_data",
          "data": {
            "text/plain": [
              "<Figure size 432x288 with 2 Axes>"
            ],
            "image/png": "[encoded data removed]"
          },
          "metadata": {
            "needs_background": "light"
          }
        }
      ]
    },
    {
      "cell_type": "code",
      "source": [
        "from sklearn.linear_model import LinearRegression\n",
        "\n",
        "target_scaler = StandardScaler()\n",
        "scaled_labels = target_scaler.fit_transform(housing_labels.to_frame())\n",
        "\n",
        "model = LinearRegression()\n",
        "model.fit(housing[[\"median_income\"]], scaled_labels)\n",
        "some_new_data = housing[[\"median_income\"]].iloc[:5] # pretend this is new data\n",
        "\n",
        "scaled_predistions = model.predict(some_new_data)\n",
        "predictions = target_scaler.inverse_transform(scaled_predistions)"
      ],
      "metadata": {
        "id": "vLb4KXMZ0Q6O"
      },
      "execution_count": null,
      "outputs": []
    },
    {
      "cell_type": "code",
      "source": [
        "predictions"
      ],
      "metadata": {
        "colab": {
          "base_uri": "https://localhost:8080/"
        },
        "id": "Aajkfa4e1riG",
        "outputId": "58821b80-ed2d-4082-8cab-9c80b8319921"
      },
      "execution_count": null,
      "outputs": [
        {
          "output_type": "execute_result",
          "data": {
            "text/plain": [
              "array([[131997.15275877],\n",
              "       [299359.35844434],\n",
              "       [146023.37185694],\n",
              "       [138840.33653057],\n",
              "       [192016.61557639]])"
            ]
          },
          "metadata": {},
          "execution_count": 78
        }
      ]
    },
    {
      "cell_type": "code",
      "source": [
        "from sklearn.compose import TransformedTargetRegressor\n",
        "\n",
        "model = TransformedTargetRegressor(LinearRegression(), transformer = StandardScaler())\n",
        "model.fit(housing[[\"median_income\"]], housing_labels)\n",
        "predictions = model.predict(some_new_data)\n",
        "\n",
        "type(housing[[\"median_income\"]])\n",
        "\n",
        "predictions"
      ],
      "metadata": {
        "colab": {
          "base_uri": "https://localhost:8080/"
        },
        "id": "Y5Mid_tS2FJC",
        "outputId": "f5603616-86d8-4dda-8e55-b0cf1aa65fd6"
      },
      "execution_count": null,
      "outputs": [
        {
          "output_type": "execute_result",
          "data": {
            "text/plain": [
              "array([131997.15275877, 299359.35844434, 146023.37185694, 138840.33653057,\n",
              "       192016.61557639])"
            ]
          },
          "metadata": {},
          "execution_count": 79
        }
      ]
    },
    {
      "cell_type": "markdown",
      "source": [
        "**Custom Transformers**"
      ],
      "metadata": {
        "id": "-03WQz4avxxX"
      }
    },
    {
      "cell_type": "markdown",
      "source": [
        "To create simple transformers:"
      ],
      "metadata": {
        "id": "nxgvh9PQv052"
      }
    },
    {
      "cell_type": "code",
      "source": [
        "from sklearn.preprocessing import FunctionTransformer\n",
        "\n",
        "log_transformer = FunctionTransformer(np.log, inverse_func=np.exp)\n",
        "log_pop = log_transformer.transform(housing[[\"population\"]])\n",
        "log_pop\n",
        "housing[[\"population\"]]\n",
        "type(housing)"
      ],
      "metadata": {
        "colab": {
          "base_uri": "https://localhost:8080/"
        },
        "id": "HfuWb74gwBo6",
        "outputId": "49495c05-8b07-4b75-8914-88d48434e5b7"
      },
      "execution_count": null,
      "outputs": [
        {
          "output_type": "execute_result",
          "data": {
            "text/plain": [
              "pandas.core.frame.DataFrame"
            ]
          },
          "metadata": {},
          "execution_count": 80
        }
      ]
    },
    {
      "cell_type": "code",
      "source": [
        "fig, axs = plt.subplots(1,3, figsize=(8,3),sharey=True)\n",
        "housing[\"population\"].hist(ax=axs[0], bins=50)\n",
        "housing[\"population\"].apply(np.log).hist(ax=axs[1], bins=50)\n",
        "log_pop[\"population\"].hist(bins=50)\n",
        "axs[0].set_xlabel(\"Population\")\n",
        "axs[1].set_xlabel(\"Log of population\")\n",
        "axs[0].set_ylabel(\"Number of districts\")\n",
        "save_fig(\"long_tail_plot\")\n",
        "plt.show()"
      ],
      "metadata": {
        "colab": {
          "base_uri": "https://localhost:8080/",
          "height": 217
        },
        "id": "mHsGPAMiv1qz",
        "outputId": "62377679-27af-4ed3-e67a-13a657e17645"
      },
      "execution_count": null,
      "outputs": [
        {
          "output_type": "display_data",
          "data": {
            "text/plain": [
              "<Figure size 576x216 with 3 Axes>"
            ],
            "image/png": "[encoded data removed]"
          },
          "metadata": {
            "needs_background": "light"
          }
        }
      ]
    },
    {
      "cell_type": "code",
      "source": [
        "rbf_transformer = FunctionTransformer(rbf_kernel, kw_args=dict(Y=[[35.]], gamma = 0.1))\n",
        "age_simil_35 = rbf_transformer.transform(housing[[\"housing_median_age\"]])"
      ],
      "metadata": {
        "id": "Tz8ozBrJzJ75"
      },
      "execution_count": null,
      "outputs": []
    },
    {
      "cell_type": "code",
      "source": [
        "age_simil_35"
      ],
      "metadata": {
        "colab": {
          "base_uri": "https://localhost:8080/"
        },
        "id": "ysAXIMvlzlbd",
        "outputId": "eed29216-3b87-4131-e957-591e30192aae"
      },
      "execution_count": null,
      "outputs": [
        {
          "output_type": "execute_result",
          "data": {
            "text/plain": [
              "array([[2.81118530e-13],\n",
              "       [8.20849986e-02],\n",
              "       [6.70320046e-01],\n",
              "       ...,\n",
              "       [9.55316054e-22],\n",
              "       [6.70320046e-01],\n",
              "       [3.03539138e-04]])"
            ]
          },
          "metadata": {},
          "execution_count": 83
        }
      ]
    },
    {
      "cell_type": "code",
      "source": [
        "sf_coords = 37.749, -122.41\n",
        "sf_transformer = FunctionTransformer(rbf_kernel, kw_args=dict(Y=[sf_coords], gamma=0.1))\n",
        "sf_simil = sf_transformer.transform(housing[[\"latitude\", \"longitude\"]])\n",
        "sf_simil"
      ],
      "metadata": {
        "colab": {
          "base_uri": "https://localhost:8080/"
        },
        "id": "PAtr45TYzw3S",
        "outputId": "2fd4ab48-4b45-4230-97a4-48b1f751b5a9"
      },
      "execution_count": null,
      "outputs": [
        {
          "output_type": "execute_result",
          "data": {
            "text/plain": [
              "array([[0.99972994],\n",
              "       [0.05358007],\n",
              "       [0.94570736],\n",
              "       ...,\n",
              "       [0.00399074],\n",
              "       [0.05136069],\n",
              "       [0.99920821]])"
            ]
          },
          "metadata": {},
          "execution_count": 84
        }
      ]
    },
    {
      "cell_type": "code",
      "source": [
        "ratio_transformer = FunctionTransformer(lambda X:X[:, [0]] / X[:,[1]])\n",
        "ratio_transformer.transform(np.array([[1.,2.], [3.,4.]]))"
      ],
      "metadata": {
        "colab": {
          "base_uri": "https://localhost:8080/"
        },
        "id": "1N7Ddoeh0UE8",
        "outputId": "c538e697-1efe-47b2-d6ed-f69540fd611b"
      },
      "execution_count": null,
      "outputs": [
        {
          "output_type": "execute_result",
          "data": {
            "text/plain": [
              "array([[0.5 ],\n",
              "       [0.75]])"
            ]
          },
          "metadata": {},
          "execution_count": 85
        }
      ]
    },
    {
      "cell_type": "code",
      "source": [
        "from sklearn.base import BaseEstimator, TransformerMixin\n",
        "from sklearn.utils.validation import check_array, check_is_fitted\n",
        "\n",
        "class StandardScalerClone(BaseEstimator, TransformerMixin):\n",
        "  def __init__(self, with_mean=True):\n",
        "    self.with_mean = with_mean\n",
        "\n",
        "  def fit(self, X, y=None):  #y is required even though we don't use it\n",
        "    X = check_array(X)  #chcecks that X is an array with finite float values\n",
        "    self.mean_ = X.mean(axis=0)\n",
        "    self.scale_ = X.std(axis=0)\n",
        "    self.n_features_in_ = X.shape[1] #every estimator stores this in fit()\n",
        "    return self #always return self!\n",
        "\n",
        "  def transform(self, X):\n",
        "    check_is_fitted(self)\n",
        "    X = check_array(X)\n",
        "    assert self.n_features_in_ == X.shape[1]\n",
        "    if self.with_mean:\n",
        "      X = X - self.mean_\n",
        "    return X / self.scale_"
      ],
      "metadata": {
        "id": "Pts2OsVG0yH6"
      },
      "execution_count": null,
      "outputs": []
    },
    {
      "cell_type": "code",
      "source": [
        "from sklearn.cluster import KMeans\n",
        "\n",
        "class ClusterSimilarity(BaseEstimator, TransformerMixin):\n",
        "  def __init__(self, n_clusters=10, gamma=1.0, random_state=None):\n",
        "    self.n_clusters = n_clusters\n",
        "    self.gamma = gamma\n",
        "    self.random_state = random_state\n",
        "\n",
        "  def fit(self, X, y=None, sample_weight=None):\n",
        "    self.kmeans_ = KMeans(self.n_clusters, random_state=self.random_state)\n",
        "    self.kmeans_.fit(X, sample_weight=sample_weight)\n",
        "    return self # always return self!\n",
        "\n",
        "  def transform(self, X):\n",
        "    return rbf_kernel(X, self.kmeans_.cluster_centers_, gamma=self.gamma)\n",
        "\n",
        "  def get_feauture_names_out(self,names=None):\n",
        "    return [f\"Cluster {i} similarity\" for i in range(self.n_clusters)]"
      ],
      "metadata": {
        "id": "QQ8cIQp5YXUA"
      },
      "execution_count": null,
      "outputs": []
    },
    {
      "cell_type": "code",
      "source": [
        "cluster_simil = ClusterSimilarity(n_clusters=10, gamma=1., random_state=42)\n",
        "similarities = cluster_simil.fit_transform(housing[[\"latitude\", \"longitude\"]],\n",
        "                                           sample_weight=housing_labels)"
      ],
      "metadata": {
        "id": "SS4fmjUAaIiH"
      },
      "execution_count": null,
      "outputs": []
    },
    {
      "cell_type": "code",
      "source": [
        "similarities[:3].round(2)"
      ],
      "metadata": {
        "id": "ttXU5_e1asjT",
        "colab": {
          "base_uri": "https://localhost:8080/"
        },
        "outputId": "00777633-a4b0-434b-d961-d8ee874cb507"
      },
      "execution_count": null,
      "outputs": [
        {
          "output_type": "execute_result",
          "data": {
            "text/plain": [
              "array([[0.  , 0.14, 0.  , 0.  , 0.  , 0.08, 0.  , 0.99, 0.  , 0.6 ],\n",
              "       [0.63, 0.  , 0.99, 0.  , 0.  , 0.  , 0.04, 0.  , 0.11, 0.  ],\n",
              "       [0.  , 0.29, 0.  , 0.  , 0.01, 0.44, 0.  , 0.7 , 0.  , 0.3 ]])"
            ]
          },
          "metadata": {},
          "execution_count": 89
        }
      ]
    },
    {
      "cell_type": "markdown",
      "source": [
        "**Transformation Pipelines**\n",
        "\n",
        "Now let's build a pipeline to preprocess the numerical attributes."
      ],
      "metadata": {
        "id": "lnlOaWJ8e8rZ"
      }
    },
    {
      "cell_type": "code",
      "source": [
        "from sklearn.pipeline import Pipeline\n",
        "\n",
        "num_pipeline = Pipeline([(\"impute\", SimpleImputer(strategy=\"median\")), (\"standardize\", StandardScaler())])"
      ],
      "metadata": {
        "id": "zgJMnSMoe7eq"
      },
      "execution_count": null,
      "outputs": []
    },
    {
      "cell_type": "code",
      "source": [
        "from sklearn.pipeline import make_pipeline\n",
        "\n",
        "num_pipeline = make_pipeline(SimpleImputer(strategy=\"median\"), StandardScaler())\n",
        "\n",
        "num_pipeline"
      ],
      "metadata": {
        "colab": {
          "base_uri": "https://localhost:8080/"
        },
        "id": "OrH6rlkEfrWL",
        "outputId": "4c889841-89fa-4e12-efed-905a6e576c61"
      },
      "execution_count": null,
      "outputs": [
        {
          "output_type": "execute_result",
          "data": {
            "text/plain": [
              "Pipeline(steps=[('simpleimputer', SimpleImputer(strategy='median')),\n",
              "                ('standardscaler', StandardScaler())])"
            ]
          },
          "metadata": {},
          "execution_count": 91
        }
      ]
    },
    {
      "cell_type": "code",
      "source": [
        "from sklearn import set_config\n",
        "set_config(display=\"diagram\")\n",
        "num_pipeline"
      ],
      "metadata": {
        "colab": {
          "base_uri": "https://localhost:8080/",
          "height": 126
        },
        "id": "qrL3tQvEf5a8",
        "outputId": "c3c46fd4-a324-4e85-80d2-588ae4e07bb6"
      },
      "execution_count": null,
      "outputs": [
        {
          "output_type": "execute_result",
          "data": {
            "text/plain": [
              "Pipeline(steps=[('simpleimputer', SimpleImputer(strategy='median')),\n",
              "                ('standardscaler', StandardScaler())])"
            ],
            "text/html": [
              "<style>#sk-708ef4ee-f69d-4d3f-8b71-42e2bf8940b7 {color: black;background-color: white;}#sk-708ef4ee-f69d-4d3f-8b71-42e2bf8940b7 pre{padding: 0;}#sk-708ef4ee-f69d-4d3f-8b71-42e2bf8940b7 div.sk-toggleable {background-color: white;}#sk-708ef4ee-f69d-4d3f-8b71-42e2bf8940b7 label.sk-toggleable__label {cursor: pointer;display: block;width: 100%;margin-bottom: 0;padding: 0.3em;box-sizing: border-box;text-align: center;}#sk-708ef4ee-f69d-4d3f-8b71-42e2bf8940b7 label.sk-toggleable__label-arrow:before {content: \"▸\";float: left;margin-right: 0.25em;color: #696969;}#sk-708ef4ee-f69d-4d3f-8b71-42e2bf8940b7 label.sk-toggleable__label-arrow:hover:before {color: black;}#sk-708ef4ee-f69d-4d3f-8b71-42e2bf8940b7 div.sk-estimator:hover label.sk-toggleable__label-arrow:before {color: black;}#sk-708ef4ee-f69d-4d3f-8b71-42e2bf8940b7 div.sk-toggleable__content {max-height: 0;max-width: 0;overflow: hidden;text-align: left;background-color: #f0f8ff;}#sk-708ef4ee-f69d-4d3f-8b71-42e2bf8940b7 div.sk-toggleable__content pre {margin: 0.2em;color: black;border-radius: 0.25em;background-color: #f0f8ff;}#sk-708ef4ee-f69d-4d3f-8b71-42e2bf8940b7 input.sk-toggleable__control:checked~div.sk-toggleable__content {max-height: 200px;max-width: 100%;overflow: auto;}#sk-708ef4ee-f69d-4d3f-8b71-42e2bf8940b7 input.sk-toggleable__control:checked~label.sk-toggleable__label-arrow:before {content: \"▾\";}#sk-708ef4ee-f69d-4d3f-8b71-42e2bf8940b7 div.sk-estimator input.sk-toggleable__control:checked~label.sk-toggleable__label {background-color: #d4ebff;}#sk-708ef4ee-f69d-4d3f-8b71-42e2bf8940b7 div.sk-label input.sk-toggleable__control:checked~label.sk-toggleable__label {background-color: #d4ebff;}#sk-708ef4ee-f69d-4d3f-8b71-42e2bf8940b7 input.sk-hidden--visually {border: 0;clip: rect(1px 1px 1px 1px);clip: rect(1px, 1px, 1px, 1px);height: 1px;margin: -1px;overflow: hidden;padding: 0;position: absolute;width: 1px;}#sk-708ef4ee-f69d-4d3f-8b71-42e2bf8940b7 div.sk-estimator {font-family: monospace;background-color: #f0f8ff;border: 1px dotted black;border-radius: 0.25em;box-sizing: border-box;margin-bottom: 0.5em;}#sk-708ef4ee-f69d-4d3f-8b71-42e2bf8940b7 div.sk-estimator:hover {background-color: #d4ebff;}#sk-708ef4ee-f69d-4d3f-8b71-42e2bf8940b7 div.sk-parallel-item::after {content: \"\";width: 100%;border-bottom: 1px solid gray;flex-grow: 1;}#sk-708ef4ee-f69d-4d3f-8b71-42e2bf8940b7 div.sk-label:hover label.sk-toggleable__label {background-color: #d4ebff;}#sk-708ef4ee-f69d-4d3f-8b71-42e2bf8940b7 div.sk-serial::before {content: \"\";position: absolute;border-left: 1px solid gray;box-sizing: border-box;top: 2em;bottom: 0;left: 50%;}#sk-708ef4ee-f69d-4d3f-8b71-42e2bf8940b7 div.sk-serial {display: flex;flex-direction: column;align-items: center;background-color: white;padding-right: 0.2em;padding-left: 0.2em;}#sk-708ef4ee-f69d-4d3f-8b71-42e2bf8940b7 div.sk-item {z-index: 1;}#sk-708ef4ee-f69d-4d3f-8b71-42e2bf8940b7 div.sk-parallel {display: flex;align-items: stretch;justify-content: center;background-color: white;}#sk-708ef4ee-f69d-4d3f-8b71-42e2bf8940b7 div.sk-parallel::before {content: \"\";position: absolute;border-left: 1px solid gray;box-sizing: border-box;top: 2em;bottom: 0;left: 50%;}#sk-708ef4ee-f69d-4d3f-8b71-42e2bf8940b7 div.sk-parallel-item {display: flex;flex-direction: column;position: relative;background-color: white;}#sk-708ef4ee-f69d-4d3f-8b71-42e2bf8940b7 div.sk-parallel-item:first-child::after {align-self: flex-end;width: 50%;}#sk-708ef4ee-f69d-4d3f-8b71-42e2bf8940b7 div.sk-parallel-item:last-child::after {align-self: flex-start;width: 50%;}#sk-708ef4ee-f69d-4d3f-8b71-42e2bf8940b7 div.sk-parallel-item:only-child::after {width: 0;}#sk-708ef4ee-f69d-4d3f-8b71-42e2bf8940b7 div.sk-dashed-wrapped {border: 1px dashed gray;margin: 0 0.4em 0.5em 0.4em;box-sizing: border-box;padding-bottom: 0.4em;background-color: white;position: relative;}#sk-708ef4ee-f69d-4d3f-8b71-42e2bf8940b7 div.sk-label label {font-family: monospace;font-weight: bold;background-color: white;display: inline-block;line-height: 1.2em;}#sk-708ef4ee-f69d-4d3f-8b71-42e2bf8940b7 div.sk-label-container {position: relative;z-index: 2;text-align: center;}#sk-708ef4ee-f69d-4d3f-8b71-42e2bf8940b7 div.sk-container {/* jupyter's `normalize.less` sets `[hidden] { display: none; }` but bootstrap.min.css set `[hidden] { display: none !important; }` so we also need the `!important` here to be able to override the default hidden behavior on the sphinx rendered scikit-learn.org. See: https://github.com/scikit-learn/scikit-learn/issues/21755 */display: inline-block !important;position: relative;}#sk-708ef4ee-f69d-4d3f-8b71-42e2bf8940b7 div.sk-text-repr-fallback {display: none;}</style><div id=\"sk-708ef4ee-f69d-4d3f-8b71-42e2bf8940b7\" class=\"sk-top-container\"><div class=\"sk-text-repr-fallback\"><pre>Pipeline(steps=[(&#x27;simpleimputer&#x27;, SimpleImputer(strategy=&#x27;median&#x27;)),\n",
              "                (&#x27;standardscaler&#x27;, StandardScaler())])</pre><b>Please rerun this cell to show the HTML repr or trust the notebook.</b></div><div class=\"sk-container\" hidden><div class=\"sk-item sk-dashed-wrapped\"><div class=\"sk-label-container\"><div class=\"sk-label sk-toggleable\"><input class=\"sk-toggleable__control sk-hidden--visually\" id=\"662771e8-93f3-4740-927b-c128789b82b6\" type=\"checkbox\" ><label for=\"662771e8-93f3-4740-927b-c128789b82b6\" class=\"sk-toggleable__label sk-toggleable__label-arrow\">Pipeline</label><div class=\"sk-toggleable__content\"><pre>Pipeline(steps=[(&#x27;simpleimputer&#x27;, SimpleImputer(strategy=&#x27;median&#x27;)),\n",
              "                (&#x27;standardscaler&#x27;, StandardScaler())])</pre></div></div></div><div class=\"sk-serial\"><div class=\"sk-item\"><div class=\"sk-estimator sk-toggleable\"><input class=\"sk-toggleable__control sk-hidden--visually\" id=\"ec7d2197-6938-4a00-98ef-32143e8df4d0\" type=\"checkbox\" ><label for=\"ec7d2197-6938-4a00-98ef-32143e8df4d0\" class=\"sk-toggleable__label sk-toggleable__label-arrow\">SimpleImputer</label><div class=\"sk-toggleable__content\"><pre>SimpleImputer(strategy=&#x27;median&#x27;)</pre></div></div></div><div class=\"sk-item\"><div class=\"sk-estimator sk-toggleable\"><input class=\"sk-toggleable__control sk-hidden--visually\" id=\"9f55ad3a-436d-4b8c-af21-b187086402b3\" type=\"checkbox\" ><label for=\"9f55ad3a-436d-4b8c-af21-b187086402b3\" class=\"sk-toggleable__label sk-toggleable__label-arrow\">StandardScaler</label><div class=\"sk-toggleable__content\"><pre>StandardScaler()</pre></div></div></div></div></div></div></div>"
            ]
          },
          "metadata": {},
          "execution_count": 92
        }
      ]
    },
    {
      "cell_type": "code",
      "source": [
        "housing_num_prepared = num_pipeline.fit_transform(housing_num)\n",
        "housing_num_prepared[:2].round(2)"
      ],
      "metadata": {
        "colab": {
          "base_uri": "https://localhost:8080/"
        },
        "id": "g_JEp1pdghi1",
        "outputId": "db5cbea9-2a42-498e-8806-f4b413b69248"
      },
      "execution_count": null,
      "outputs": [
        {
          "output_type": "execute_result",
          "data": {
            "text/plain": [
              "array([[-1.42,  1.01,  1.86,  0.31,  1.37,  0.14,  1.39, -0.94],\n",
              "       [ 0.6 , -0.7 ,  0.91, -0.31, -0.44, -0.69, -0.37,  1.17]])"
            ]
          },
          "metadata": {},
          "execution_count": 93
        }
      ]
    },
    {
      "cell_type": "code",
      "source": [
        "def monkey_patch_get_signatures_names_out():\n",
        "  \"\"\"Monkey patch some classes which did not handle get_feature_names_out() correctly in Scikit-Learn\"\"\"\n",
        "  from inspect import Signature, signature, Parameter\n",
        "  import pandas as pd\n",
        "  from sklearn.impute import SimpleImputer\n",
        "  from sklearn.pipeline import make_pipeline, Pipeline\n",
        "  from sklearn.preprocessing import FunctionTransformer, StandardScaler\n",
        "\n",
        "  default_get_feature_names_out = StandardScaler.get_feature_names_out\n",
        "\n",
        "  if not hasattr(SimpleImputer, \"get_feature_names_out\"):\n",
        "    print(\"Monkey-patching SimpleImputer.get_feature_names_out()\")\n",
        "    SimpleImputer.get_feature_names_out = default_get_feature_names_out\n",
        "\n",
        "  if not hasattr(FunctionTransformer, \"get_feature_names_out\"):\n",
        "    print(\"Monkey-patching FunctionTransformer.get_feature_names_out()\")\n",
        "    orig_init = FunctionTransformer.__init__\n",
        "    orig_sig = signature(orig_init)\n",
        "\n",
        "    def __init__(*args, feature_names_out=None, **kwargs):\n",
        "      orig_sig.bind(*args,**kwargs)\n",
        "      orig_init(*args, **kwargs)\n",
        "      args[0].feature_names_out = feature_names_out\n",
        "\n",
        "    __init__.__signature__ = Signature(\n",
        "        list(signature(orig_init).parameters.values()) +\n",
        "        [Parameter(\"feature_names_out\", Parameter.KEYWORD_ONLY)])\n",
        "\n",
        "    def get_feature_names_out(self, names=None):\n",
        "      if callable(self.feature_names_out):\n",
        "        return self.feature_names_out(self, names)\n",
        "      assert self.feature_names_out == \"one-to-one\"\n",
        "      return default_get_feature_names_out(self, names)\n",
        "\n",
        "    FunctionTransformer.__init__ = __init__\n",
        "    FunctionTransformer.get_feature_names_out = get_feature_names_out\n",
        "\n",
        "\n",
        "monkey_patch_get_signatures_names_out()"
      ],
      "metadata": {
        "id": "iF_HkC2lhNn4",
        "colab": {
          "base_uri": "https://localhost:8080/"
        },
        "outputId": "9493d468-cfba-4671-eece-9654d97e8050"
      },
      "execution_count": null,
      "outputs": [
        {
          "output_type": "stream",
          "name": "stdout",
          "text": [
            "Monkey-patching SimpleImputer.get_feature_names_out()\n",
            "Monkey-patching FunctionTransformer.get_feature_names_out()\n"
          ]
        }
      ]
    },
    {
      "cell_type": "code",
      "source": [
        "df_housing_num_prepared = pd.DataFrame(\n",
        "    housing_num_prepared, columns=num_pipeline.get_feature_names_out(),\n",
        "    index=housing_num.index)"
      ],
      "metadata": {
        "id": "9U2DPXR3oVly"
      },
      "execution_count": null,
      "outputs": []
    },
    {
      "cell_type": "code",
      "source": [
        "df_housing_num_prepared.head(2) # extra code"
      ],
      "metadata": {
        "colab": {
          "base_uri": "https://localhost:8080/",
          "height": 176
        },
        "id": "6v_8BLvOoqUF",
        "outputId": "86569304-67f2-493e-ad04-09c7b6fb9025"
      },
      "execution_count": null,
      "outputs": [
        {
          "output_type": "execute_result",
          "data": {
            "text/plain": [
              "       longitude  latitude  housing_median_age  total_rooms  total_bedrooms  \\\n",
              "13096  -1.423037  1.013606            1.861119     0.311912        1.368167   \n",
              "14973   0.596394 -0.702103            0.907630    -0.308620       -0.435925   \n",
              "\n",
              "       population  households  median_income  \n",
              "13096    0.137460    1.394812      -0.936491  \n",
              "14973   -0.693771   -0.373485       1.171942  "
            ],
            "text/html": [
              "\n",
              "  <div id=\"df-9fbdcbbc-d060-4f80-b798-cb016a54e9a4\">\n",
              "    <div class=\"colab-df-container\">\n",
              "      <div>\n",
              "<style scoped>\n",
              "    .dataframe tbody tr th:only-of-type {\n",
              "        vertical-align: middle;\n",
              "    }\n",
              "\n",
              "    .dataframe tbody tr th {\n",
              "        vertical-align: top;\n",
              "    }\n",
              "\n",
              "    .dataframe thead th {\n",
              "        text-align: right;\n",
              "    }\n",
              "</style>\n",
              "<table border=\"1\" class=\"dataframe\">\n",
              "  <thead>\n",
              "    <tr style=\"text-align: right;\">\n",
              "      <th></th>\n",
              "      <th>longitude</th>\n",
              "      <th>latitude</th>\n",
              "      <th>housing_median_age</th>\n",
              "      <th>total_rooms</th>\n",
              "      <th>total_bedrooms</th>\n",
              "      <th>population</th>\n",
              "      <th>households</th>\n",
              "      <th>median_income</th>\n",
              "    </tr>\n",
              "  </thead>\n",
              "  <tbody>\n",
              "    <tr>\n",
              "      <th>13096</th>\n",
              "      <td>-1.423037</td>\n",
              "      <td>1.013606</td>\n",
              "      <td>1.861119</td>\n",
              "      <td>0.311912</td>\n",
              "      <td>1.368167</td>\n",
              "      <td>0.137460</td>\n",
              "      <td>1.394812</td>\n",
              "      <td>-0.936491</td>\n",
              "    </tr>\n",
              "    <tr>\n",
              "      <th>14973</th>\n",
              "      <td>0.596394</td>\n",
              "      <td>-0.702103</td>\n",
              "      <td>0.907630</td>\n",
              "      <td>-0.308620</td>\n",
              "      <td>-0.435925</td>\n",
              "      <td>-0.693771</td>\n",
              "      <td>-0.373485</td>\n",
              "      <td>1.171942</td>\n",
              "    </tr>\n",
              "  </tbody>\n",
              "</table>\n",
              "</div>\n",
              "      <button class=\"colab-df-convert\" onclick=\"convertToInteractive('df-9fbdcbbc-d060-4f80-b798-cb016a54e9a4')\"\n",
              "              title=\"Convert this dataframe to an interactive table.\"\n",
              "              style=\"display:none;\">\n",
              "        \n",
              "  <svg xmlns=\"http://www.w3.org/2000/svg\" height=\"24px\"viewBox=\"0 0 24 24\"\n",
              "       width=\"24px\">\n",
              "    <path d=\"M0 0h24v24H0V0z\" fill=\"none\"/>\n",
              "    <path d=\"M18.56 5.44l.94 2.06.94-2.06 2.06-.94-2.06-.94-.94-2.06-.94 2.06-2.06.94zm-11 1L8.5 8.5l.94-2.06 2.06-.94-2.06-.94L8.5 2.5l-.94 2.06-2.06.94zm10 10l.94 2.06.94-2.06 2.06-.94-2.06-.94-.94-2.06-.94 2.06-2.06.94z\"/><path d=\"M17.41 7.96l-1.37-1.37c-.4-.4-.92-.59-1.43-.59-.52 0-1.04.2-1.43.59L10.3 9.45l-7.72 7.72c-.78.78-.78 2.05 0 2.83L4 21.41c.39.39.9.59 1.41.59.51 0 1.02-.2 1.41-.59l7.78-7.78 2.81-2.81c.8-.78.8-2.07 0-2.86zM5.41 20L4 18.59l7.72-7.72 1.47 1.35L5.41 20z\"/>\n",
              "  </svg>\n",
              "      </button>\n",
              "      \n",
              "  <style>\n",
              "    .colab-df-container {\n",
              "      display:flex;\n",
              "      flex-wrap:wrap;\n",
              "      gap: 12px;\n",
              "    }\n",
              "\n",
              "    .colab-df-convert {\n",
              "      background-color: #E8F0FE;\n",
              "      border: none;\n",
              "      border-radius: 50%;\n",
              "      cursor: pointer;\n",
              "      display: none;\n",
              "      fill: #1967D2;\n",
              "      height: 32px;\n",
              "      padding: 0 0 0 0;\n",
              "      width: 32px;\n",
              "    }\n",
              "\n",
              "    .colab-df-convert:hover {\n",
              "      background-color: #E2EBFA;\n",
              "      box-shadow: 0px 1px 2px rgba(60, 64, 67, 0.3), 0px 1px 3px 1px rgba(60, 64, 67, 0.15);\n",
              "      fill: #174EA6;\n",
              "    }\n",
              "\n",
              "    [theme=dark] .colab-df-convert {\n",
              "      background-color: #3B4455;\n",
              "      fill: #D2E3FC;\n",
              "    }\n",
              "\n",
              "    [theme=dark] .colab-df-convert:hover {\n",
              "      background-color: #434B5C;\n",
              "      box-shadow: 0px 1px 3px 1px rgba(0, 0, 0, 0.15);\n",
              "      filter: drop-shadow(0px 1px 2px rgba(0, 0, 0, 0.3));\n",
              "      fill: #FFFFFF;\n",
              "    }\n",
              "  </style>\n",
              "\n",
              "      <script>\n",
              "        const buttonEl =\n",
              "          document.querySelector('#df-9fbdcbbc-d060-4f80-b798-cb016a54e9a4 button.colab-df-convert');\n",
              "        buttonEl.style.display =\n",
              "          google.colab.kernel.accessAllowed ? 'block' : 'none';\n",
              "\n",
              "        async function convertToInteractive(key) {\n",
              "          const element = document.querySelector('#df-9fbdcbbc-d060-4f80-b798-cb016a54e9a4');\n",
              "          const dataTable =\n",
              "            await google.colab.kernel.invokeFunction('convertToInteractive',\n",
              "                                                     [key], {});\n",
              "          if (!dataTable) return;\n",
              "\n",
              "          const docLinkHtml = 'Like what you see? Visit the ' +\n",
              "            '<a target=\"_blank\" href=https://colab.research.google.com/notebooks/data_table.ipynb>data table notebook</a>'\n",
              "            + ' to learn more about interactive tables.';\n",
              "          element.innerHTML = '';\n",
              "          dataTable['output_type'] = 'display_data';\n",
              "          await google.colab.output.renderOutput(dataTable, element);\n",
              "          const docLink = document.createElement('div');\n",
              "          docLink.innerHTML = docLinkHtml;\n",
              "          element.appendChild(docLink);\n",
              "        }\n",
              "      </script>\n",
              "    </div>\n",
              "  </div>\n",
              "  "
            ]
          },
          "metadata": {},
          "execution_count": 96
        }
      ]
    },
    {
      "cell_type": "code",
      "source": [
        "num_pipeline.steps"
      ],
      "metadata": {
        "colab": {
          "base_uri": "https://localhost:8080/"
        },
        "id": "aaLeAcvfrBzJ",
        "outputId": "3fae0517-87a7-47be-b20c-f273ddd14d06"
      },
      "execution_count": null,
      "outputs": [
        {
          "output_type": "execute_result",
          "data": {
            "text/plain": [
              "[('simpleimputer', SimpleImputer(strategy='median')),\n",
              " ('standardscaler', StandardScaler())]"
            ]
          },
          "metadata": {},
          "execution_count": 97
        }
      ]
    },
    {
      "cell_type": "code",
      "source": [
        "num_pipeline[1]"
      ],
      "metadata": {
        "colab": {
          "base_uri": "https://localhost:8080/",
          "height": 75
        },
        "id": "Yt3sY2rsrHcG",
        "outputId": "d6c51a03-a8dc-4713-8b95-95d3bc29e1da"
      },
      "execution_count": null,
      "outputs": [
        {
          "output_type": "execute_result",
          "data": {
            "text/plain": [
              "StandardScaler()"
            ],
            "text/html": [
              "<style>#sk-7c815cf5-0657-4a82-b37e-f70b4fe873ac {color: black;background-color: white;}#sk-7c815cf5-0657-4a82-b37e-f70b4fe873ac pre{padding: 0;}#sk-7c815cf5-0657-4a82-b37e-f70b4fe873ac div.sk-toggleable {background-color: white;}#sk-7c815cf5-0657-4a82-b37e-f70b4fe873ac label.sk-toggleable__label {cursor: pointer;display: block;width: 100%;margin-bottom: 0;padding: 0.3em;box-sizing: border-box;text-align: center;}#sk-7c815cf5-0657-4a82-b37e-f70b4fe873ac label.sk-toggleable__label-arrow:before {content: \"▸\";float: left;margin-right: 0.25em;color: #696969;}#sk-7c815cf5-0657-4a82-b37e-f70b4fe873ac label.sk-toggleable__label-arrow:hover:before {color: black;}#sk-7c815cf5-0657-4a82-b37e-f70b4fe873ac div.sk-estimator:hover label.sk-toggleable__label-arrow:before {color: black;}#sk-7c815cf5-0657-4a82-b37e-f70b4fe873ac div.sk-toggleable__content {max-height: 0;max-width: 0;overflow: hidden;text-align: left;background-color: #f0f8ff;}#sk-7c815cf5-0657-4a82-b37e-f70b4fe873ac div.sk-toggleable__content pre {margin: 0.2em;color: black;border-radius: 0.25em;background-color: #f0f8ff;}#sk-7c815cf5-0657-4a82-b37e-f70b4fe873ac input.sk-toggleable__control:checked~div.sk-toggleable__content {max-height: 200px;max-width: 100%;overflow: auto;}#sk-7c815cf5-0657-4a82-b37e-f70b4fe873ac input.sk-toggleable__control:checked~label.sk-toggleable__label-arrow:before {content: \"▾\";}#sk-7c815cf5-0657-4a82-b37e-f70b4fe873ac div.sk-estimator input.sk-toggleable__control:checked~label.sk-toggleable__label {background-color: #d4ebff;}#sk-7c815cf5-0657-4a82-b37e-f70b4fe873ac div.sk-label input.sk-toggleable__control:checked~label.sk-toggleable__label {background-color: #d4ebff;}#sk-7c815cf5-0657-4a82-b37e-f70b4fe873ac input.sk-hidden--visually {border: 0;clip: rect(1px 1px 1px 1px);clip: rect(1px, 1px, 1px, 1px);height: 1px;margin: -1px;overflow: hidden;padding: 0;position: absolute;width: 1px;}#sk-7c815cf5-0657-4a82-b37e-f70b4fe873ac div.sk-estimator {font-family: monospace;background-color: #f0f8ff;border: 1px dotted black;border-radius: 0.25em;box-sizing: border-box;margin-bottom: 0.5em;}#sk-7c815cf5-0657-4a82-b37e-f70b4fe873ac div.sk-estimator:hover {background-color: #d4ebff;}#sk-7c815cf5-0657-4a82-b37e-f70b4fe873ac div.sk-parallel-item::after {content: \"\";width: 100%;border-bottom: 1px solid gray;flex-grow: 1;}#sk-7c815cf5-0657-4a82-b37e-f70b4fe873ac div.sk-label:hover label.sk-toggleable__label {background-color: #d4ebff;}#sk-7c815cf5-0657-4a82-b37e-f70b4fe873ac div.sk-serial::before {content: \"\";position: absolute;border-left: 1px solid gray;box-sizing: border-box;top: 2em;bottom: 0;left: 50%;}#sk-7c815cf5-0657-4a82-b37e-f70b4fe873ac div.sk-serial {display: flex;flex-direction: column;align-items: center;background-color: white;padding-right: 0.2em;padding-left: 0.2em;}#sk-7c815cf5-0657-4a82-b37e-f70b4fe873ac div.sk-item {z-index: 1;}#sk-7c815cf5-0657-4a82-b37e-f70b4fe873ac div.sk-parallel {display: flex;align-items: stretch;justify-content: center;background-color: white;}#sk-7c815cf5-0657-4a82-b37e-f70b4fe873ac div.sk-parallel::before {content: \"\";position: absolute;border-left: 1px solid gray;box-sizing: border-box;top: 2em;bottom: 0;left: 50%;}#sk-7c815cf5-0657-4a82-b37e-f70b4fe873ac div.sk-parallel-item {display: flex;flex-direction: column;position: relative;background-color: white;}#sk-7c815cf5-0657-4a82-b37e-f70b4fe873ac div.sk-parallel-item:first-child::after {align-self: flex-end;width: 50%;}#sk-7c815cf5-0657-4a82-b37e-f70b4fe873ac div.sk-parallel-item:last-child::after {align-self: flex-start;width: 50%;}#sk-7c815cf5-0657-4a82-b37e-f70b4fe873ac div.sk-parallel-item:only-child::after {width: 0;}#sk-7c815cf5-0657-4a82-b37e-f70b4fe873ac div.sk-dashed-wrapped {border: 1px dashed gray;margin: 0 0.4em 0.5em 0.4em;box-sizing: border-box;padding-bottom: 0.4em;background-color: white;position: relative;}#sk-7c815cf5-0657-4a82-b37e-f70b4fe873ac div.sk-label label {font-family: monospace;font-weight: bold;background-color: white;display: inline-block;line-height: 1.2em;}#sk-7c815cf5-0657-4a82-b37e-f70b4fe873ac div.sk-label-container {position: relative;z-index: 2;text-align: center;}#sk-7c815cf5-0657-4a82-b37e-f70b4fe873ac div.sk-container {/* jupyter's `normalize.less` sets `[hidden] { display: none; }` but bootstrap.min.css set `[hidden] { display: none !important; }` so we also need the `!important` here to be able to override the default hidden behavior on the sphinx rendered scikit-learn.org. See: https://github.com/scikit-learn/scikit-learn/issues/21755 */display: inline-block !important;position: relative;}#sk-7c815cf5-0657-4a82-b37e-f70b4fe873ac div.sk-text-repr-fallback {display: none;}</style><div id=\"sk-7c815cf5-0657-4a82-b37e-f70b4fe873ac\" class=\"sk-top-container\"><div class=\"sk-text-repr-fallback\"><pre>StandardScaler()</pre><b>Please rerun this cell to show the HTML repr or trust the notebook.</b></div><div class=\"sk-container\" hidden><div class=\"sk-item\"><div class=\"sk-estimator sk-toggleable\"><input class=\"sk-toggleable__control sk-hidden--visually\" id=\"45e53e13-0243-4986-ad70-23fcd03feb4c\" type=\"checkbox\" checked><label for=\"45e53e13-0243-4986-ad70-23fcd03feb4c\" class=\"sk-toggleable__label sk-toggleable__label-arrow\">StandardScaler</label><div class=\"sk-toggleable__content\"><pre>StandardScaler()</pre></div></div></div></div></div>"
            ]
          },
          "metadata": {},
          "execution_count": 98
        }
      ]
    },
    {
      "cell_type": "code",
      "source": [
        "num_pipeline[:-1]"
      ],
      "metadata": {
        "colab": {
          "base_uri": "https://localhost:8080/",
          "height": 92
        },
        "id": "0d6eBj6GrOrb",
        "outputId": "1f279818-0065-45d9-e227-7c2f09157ab2"
      },
      "execution_count": null,
      "outputs": [
        {
          "output_type": "execute_result",
          "data": {
            "text/plain": [
              "Pipeline(steps=[('simpleimputer', SimpleImputer(strategy='median'))])"
            ],
            "text/html": [
              "<style>#sk-b3c82f2a-0613-4467-bb9d-d8c48ec1eb27 {color: black;background-color: white;}#sk-b3c82f2a-0613-4467-bb9d-d8c48ec1eb27 pre{padding: 0;}#sk-b3c82f2a-0613-4467-bb9d-d8c48ec1eb27 div.sk-toggleable {background-color: white;}#sk-b3c82f2a-0613-4467-bb9d-d8c48ec1eb27 label.sk-toggleable__label {cursor: pointer;display: block;width: 100%;margin-bottom: 0;padding: 0.3em;box-sizing: border-box;text-align: center;}#sk-b3c82f2a-0613-4467-bb9d-d8c48ec1eb27 label.sk-toggleable__label-arrow:before {content: \"▸\";float: left;margin-right: 0.25em;color: #696969;}#sk-b3c82f2a-0613-4467-bb9d-d8c48ec1eb27 label.sk-toggleable__label-arrow:hover:before {color: black;}#sk-b3c82f2a-0613-4467-bb9d-d8c48ec1eb27 div.sk-estimator:hover label.sk-toggleable__label-arrow:before {color: black;}#sk-b3c82f2a-0613-4467-bb9d-d8c48ec1eb27 div.sk-toggleable__content {max-height: 0;max-width: 0;overflow: hidden;text-align: left;background-color: #f0f8ff;}#sk-b3c82f2a-0613-4467-bb9d-d8c48ec1eb27 div.sk-toggleable__content pre {margin: 0.2em;color: black;border-radius: 0.25em;background-color: #f0f8ff;}#sk-b3c82f2a-0613-4467-bb9d-d8c48ec1eb27 input.sk-toggleable__control:checked~div.sk-toggleable__content {max-height: 200px;max-width: 100%;overflow: auto;}#sk-b3c82f2a-0613-4467-bb9d-d8c48ec1eb27 input.sk-toggleable__control:checked~label.sk-toggleable__label-arrow:before {content: \"▾\";}#sk-b3c82f2a-0613-4467-bb9d-d8c48ec1eb27 div.sk-estimator input.sk-toggleable__control:checked~label.sk-toggleable__label {background-color: #d4ebff;}#sk-b3c82f2a-0613-4467-bb9d-d8c48ec1eb27 div.sk-label input.sk-toggleable__control:checked~label.sk-toggleable__label {background-color: #d4ebff;}#sk-b3c82f2a-0613-4467-bb9d-d8c48ec1eb27 input.sk-hidden--visually {border: 0;clip: rect(1px 1px 1px 1px);clip: rect(1px, 1px, 1px, 1px);height: 1px;margin: -1px;overflow: hidden;padding: 0;position: absolute;width: 1px;}#sk-b3c82f2a-0613-4467-bb9d-d8c48ec1eb27 div.sk-estimator {font-family: monospace;background-color: #f0f8ff;border: 1px dotted black;border-radius: 0.25em;box-sizing: border-box;margin-bottom: 0.5em;}#sk-b3c82f2a-0613-4467-bb9d-d8c48ec1eb27 div.sk-estimator:hover {background-color: #d4ebff;}#sk-b3c82f2a-0613-4467-bb9d-d8c48ec1eb27 div.sk-parallel-item::after {content: \"\";width: 100%;border-bottom: 1px solid gray;flex-grow: 1;}#sk-b3c82f2a-0613-4467-bb9d-d8c48ec1eb27 div.sk-label:hover label.sk-toggleable__label {background-color: #d4ebff;}#sk-b3c82f2a-0613-4467-bb9d-d8c48ec1eb27 div.sk-serial::before {content: \"\";position: absolute;border-left: 1px solid gray;box-sizing: border-box;top: 2em;bottom: 0;left: 50%;}#sk-b3c82f2a-0613-4467-bb9d-d8c48ec1eb27 div.sk-serial {display: flex;flex-direction: column;align-items: center;background-color: white;padding-right: 0.2em;padding-left: 0.2em;}#sk-b3c82f2a-0613-4467-bb9d-d8c48ec1eb27 div.sk-item {z-index: 1;}#sk-b3c82f2a-0613-4467-bb9d-d8c48ec1eb27 div.sk-parallel {display: flex;align-items: stretch;justify-content: center;background-color: white;}#sk-b3c82f2a-0613-4467-bb9d-d8c48ec1eb27 div.sk-parallel::before {content: \"\";position: absolute;border-left: 1px solid gray;box-sizing: border-box;top: 2em;bottom: 0;left: 50%;}#sk-b3c82f2a-0613-4467-bb9d-d8c48ec1eb27 div.sk-parallel-item {display: flex;flex-direction: column;position: relative;background-color: white;}#sk-b3c82f2a-0613-4467-bb9d-d8c48ec1eb27 div.sk-parallel-item:first-child::after {align-self: flex-end;width: 50%;}#sk-b3c82f2a-0613-4467-bb9d-d8c48ec1eb27 div.sk-parallel-item:last-child::after {align-self: flex-start;width: 50%;}#sk-b3c82f2a-0613-4467-bb9d-d8c48ec1eb27 div.sk-parallel-item:only-child::after {width: 0;}#sk-b3c82f2a-0613-4467-bb9d-d8c48ec1eb27 div.sk-dashed-wrapped {border: 1px dashed gray;margin: 0 0.4em 0.5em 0.4em;box-sizing: border-box;padding-bottom: 0.4em;background-color: white;position: relative;}#sk-b3c82f2a-0613-4467-bb9d-d8c48ec1eb27 div.sk-label label {font-family: monospace;font-weight: bold;background-color: white;display: inline-block;line-height: 1.2em;}#sk-b3c82f2a-0613-4467-bb9d-d8c48ec1eb27 div.sk-label-container {position: relative;z-index: 2;text-align: center;}#sk-b3c82f2a-0613-4467-bb9d-d8c48ec1eb27 div.sk-container {/* jupyter's `normalize.less` sets `[hidden] { display: none; }` but bootstrap.min.css set `[hidden] { display: none !important; }` so we also need the `!important` here to be able to override the default hidden behavior on the sphinx rendered scikit-learn.org. See: https://github.com/scikit-learn/scikit-learn/issues/21755 */display: inline-block !important;position: relative;}#sk-b3c82f2a-0613-4467-bb9d-d8c48ec1eb27 div.sk-text-repr-fallback {display: none;}</style><div id=\"sk-b3c82f2a-0613-4467-bb9d-d8c48ec1eb27\" class=\"sk-top-container\"><div class=\"sk-text-repr-fallback\"><pre>Pipeline(steps=[(&#x27;simpleimputer&#x27;, SimpleImputer(strategy=&#x27;median&#x27;))])</pre><b>Please rerun this cell to show the HTML repr or trust the notebook.</b></div><div class=\"sk-container\" hidden><div class=\"sk-item sk-dashed-wrapped\"><div class=\"sk-label-container\"><div class=\"sk-label sk-toggleable\"><input class=\"sk-toggleable__control sk-hidden--visually\" id=\"b38da712-c4ab-41f4-91a3-c584106bbf59\" type=\"checkbox\" ><label for=\"b38da712-c4ab-41f4-91a3-c584106bbf59\" class=\"sk-toggleable__label sk-toggleable__label-arrow\">Pipeline</label><div class=\"sk-toggleable__content\"><pre>Pipeline(steps=[(&#x27;simpleimputer&#x27;, SimpleImputer(strategy=&#x27;median&#x27;))])</pre></div></div></div><div class=\"sk-serial\"><div class=\"sk-item\"><div class=\"sk-estimator sk-toggleable\"><input class=\"sk-toggleable__control sk-hidden--visually\" id=\"3ae9c604-5e61-453d-9d0c-5524dde31bf6\" type=\"checkbox\" ><label for=\"3ae9c604-5e61-453d-9d0c-5524dde31bf6\" class=\"sk-toggleable__label sk-toggleable__label-arrow\">SimpleImputer</label><div class=\"sk-toggleable__content\"><pre>SimpleImputer(strategy=&#x27;median&#x27;)</pre></div></div></div></div></div></div></div>"
            ]
          },
          "metadata": {},
          "execution_count": 99
        }
      ]
    },
    {
      "cell_type": "code",
      "source": [
        "num_pipeline.named_steps[\"simpleimputer\"]"
      ],
      "metadata": {
        "colab": {
          "base_uri": "https://localhost:8080/",
          "height": 75
        },
        "id": "dOPoyA-crWzy",
        "outputId": "7aee91d3-b3c7-41e7-b73d-d583627b39ad"
      },
      "execution_count": null,
      "outputs": [
        {
          "output_type": "execute_result",
          "data": {
            "text/plain": [
              "SimpleImputer(strategy='median')"
            ],
            "text/html": [
              "<style>#sk-709de70b-9920-4909-9a8b-abde37e715cb {color: black;background-color: white;}#sk-709de70b-9920-4909-9a8b-abde37e715cb pre{padding: 0;}#sk-709de70b-9920-4909-9a8b-abde37e715cb div.sk-toggleable {background-color: white;}#sk-709de70b-9920-4909-9a8b-abde37e715cb label.sk-toggleable__label {cursor: pointer;display: block;width: 100%;margin-bottom: 0;padding: 0.3em;box-sizing: border-box;text-align: center;}#sk-709de70b-9920-4909-9a8b-abde37e715cb label.sk-toggleable__label-arrow:before {content: \"▸\";float: left;margin-right: 0.25em;color: #696969;}#sk-709de70b-9920-4909-9a8b-abde37e715cb label.sk-toggleable__label-arrow:hover:before {color: black;}#sk-709de70b-9920-4909-9a8b-abde37e715cb div.sk-estimator:hover label.sk-toggleable__label-arrow:before {color: black;}#sk-709de70b-9920-4909-9a8b-abde37e715cb div.sk-toggleable__content {max-height: 0;max-width: 0;overflow: hidden;text-align: left;background-color: #f0f8ff;}#sk-709de70b-9920-4909-9a8b-abde37e715cb div.sk-toggleable__content pre {margin: 0.2em;color: black;border-radius: 0.25em;background-color: #f0f8ff;}#sk-709de70b-9920-4909-9a8b-abde37e715cb input.sk-toggleable__control:checked~div.sk-toggleable__content {max-height: 200px;max-width: 100%;overflow: auto;}#sk-709de70b-9920-4909-9a8b-abde37e715cb input.sk-toggleable__control:checked~label.sk-toggleable__label-arrow:before {content: \"▾\";}#sk-709de70b-9920-4909-9a8b-abde37e715cb div.sk-estimator input.sk-toggleable__control:checked~label.sk-toggleable__label {background-color: #d4ebff;}#sk-709de70b-9920-4909-9a8b-abde37e715cb div.sk-label input.sk-toggleable__control:checked~label.sk-toggleable__label {background-color: #d4ebff;}#sk-709de70b-9920-4909-9a8b-abde37e715cb input.sk-hidden--visually {border: 0;clip: rect(1px 1px 1px 1px);clip: rect(1px, 1px, 1px, 1px);height: 1px;margin: -1px;overflow: hidden;padding: 0;position: absolute;width: 1px;}#sk-709de70b-9920-4909-9a8b-abde37e715cb div.sk-estimator {font-family: monospace;background-color: #f0f8ff;border: 1px dotted black;border-radius: 0.25em;box-sizing: border-box;margin-bottom: 0.5em;}#sk-709de70b-9920-4909-9a8b-abde37e715cb div.sk-estimator:hover {background-color: #d4ebff;}#sk-709de70b-9920-4909-9a8b-abde37e715cb div.sk-parallel-item::after {content: \"\";width: 100%;border-bottom: 1px solid gray;flex-grow: 1;}#sk-709de70b-9920-4909-9a8b-abde37e715cb div.sk-label:hover label.sk-toggleable__label {background-color: #d4ebff;}#sk-709de70b-9920-4909-9a8b-abde37e715cb div.sk-serial::before {content: \"\";position: absolute;border-left: 1px solid gray;box-sizing: border-box;top: 2em;bottom: 0;left: 50%;}#sk-709de70b-9920-4909-9a8b-abde37e715cb div.sk-serial {display: flex;flex-direction: column;align-items: center;background-color: white;padding-right: 0.2em;padding-left: 0.2em;}#sk-709de70b-9920-4909-9a8b-abde37e715cb div.sk-item {z-index: 1;}#sk-709de70b-9920-4909-9a8b-abde37e715cb div.sk-parallel {display: flex;align-items: stretch;justify-content: center;background-color: white;}#sk-709de70b-9920-4909-9a8b-abde37e715cb div.sk-parallel::before {content: \"\";position: absolute;border-left: 1px solid gray;box-sizing: border-box;top: 2em;bottom: 0;left: 50%;}#sk-709de70b-9920-4909-9a8b-abde37e715cb div.sk-parallel-item {display: flex;flex-direction: column;position: relative;background-color: white;}#sk-709de70b-9920-4909-9a8b-abde37e715cb div.sk-parallel-item:first-child::after {align-self: flex-end;width: 50%;}#sk-709de70b-9920-4909-9a8b-abde37e715cb div.sk-parallel-item:last-child::after {align-self: flex-start;width: 50%;}#sk-709de70b-9920-4909-9a8b-abde37e715cb div.sk-parallel-item:only-child::after {width: 0;}#sk-709de70b-9920-4909-9a8b-abde37e715cb div.sk-dashed-wrapped {border: 1px dashed gray;margin: 0 0.4em 0.5em 0.4em;box-sizing: border-box;padding-bottom: 0.4em;background-color: white;position: relative;}#sk-709de70b-9920-4909-9a8b-abde37e715cb div.sk-label label {font-family: monospace;font-weight: bold;background-color: white;display: inline-block;line-height: 1.2em;}#sk-709de70b-9920-4909-9a8b-abde37e715cb div.sk-label-container {position: relative;z-index: 2;text-align: center;}#sk-709de70b-9920-4909-9a8b-abde37e715cb div.sk-container {/* jupyter's `normalize.less` sets `[hidden] { display: none; }` but bootstrap.min.css set `[hidden] { display: none !important; }` so we also need the `!important` here to be able to override the default hidden behavior on the sphinx rendered scikit-learn.org. See: https://github.com/scikit-learn/scikit-learn/issues/21755 */display: inline-block !important;position: relative;}#sk-709de70b-9920-4909-9a8b-abde37e715cb div.sk-text-repr-fallback {display: none;}</style><div id=\"sk-709de70b-9920-4909-9a8b-abde37e715cb\" class=\"sk-top-container\"><div class=\"sk-text-repr-fallback\"><pre>SimpleImputer(strategy=&#x27;median&#x27;)</pre><b>Please rerun this cell to show the HTML repr or trust the notebook.</b></div><div class=\"sk-container\" hidden><div class=\"sk-item\"><div class=\"sk-estimator sk-toggleable\"><input class=\"sk-toggleable__control sk-hidden--visually\" id=\"bda5eb7a-2b96-4307-a7bb-2b5440c83294\" type=\"checkbox\" checked><label for=\"bda5eb7a-2b96-4307-a7bb-2b5440c83294\" class=\"sk-toggleable__label sk-toggleable__label-arrow\">SimpleImputer</label><div class=\"sk-toggleable__content\"><pre>SimpleImputer(strategy=&#x27;median&#x27;)</pre></div></div></div></div></div>"
            ]
          },
          "metadata": {},
          "execution_count": 100
        }
      ]
    },
    {
      "cell_type": "code",
      "source": [
        "num_pipeline.set_params(simpleimputer__strategy=\"median\") #double underscore"
      ],
      "metadata": {
        "colab": {
          "base_uri": "https://localhost:8080/",
          "height": 126
        },
        "id": "LZbnDdFArgJ8",
        "outputId": "d7955e2c-3c61-4c9f-d3f5-1691c3d5afae"
      },
      "execution_count": null,
      "outputs": [
        {
          "output_type": "execute_result",
          "data": {
            "text/plain": [
              "Pipeline(steps=[('simpleimputer', SimpleImputer(strategy='median')),\n",
              "                ('standardscaler', StandardScaler())])"
            ],
            "text/html": [
              "<style>#sk-d4fae311-3e3b-49f5-abb5-bd1001086817 {color: black;background-color: white;}#sk-d4fae311-3e3b-49f5-abb5-bd1001086817 pre{padding: 0;}#sk-d4fae311-3e3b-49f5-abb5-bd1001086817 div.sk-toggleable {background-color: white;}#sk-d4fae311-3e3b-49f5-abb5-bd1001086817 label.sk-toggleable__label {cursor: pointer;display: block;width: 100%;margin-bottom: 0;padding: 0.3em;box-sizing: border-box;text-align: center;}#sk-d4fae311-3e3b-49f5-abb5-bd1001086817 label.sk-toggleable__label-arrow:before {content: \"▸\";float: left;margin-right: 0.25em;color: #696969;}#sk-d4fae311-3e3b-49f5-abb5-bd1001086817 label.sk-toggleable__label-arrow:hover:before {color: black;}#sk-d4fae311-3e3b-49f5-abb5-bd1001086817 div.sk-estimator:hover label.sk-toggleable__label-arrow:before {color: black;}#sk-d4fae311-3e3b-49f5-abb5-bd1001086817 div.sk-toggleable__content {max-height: 0;max-width: 0;overflow: hidden;text-align: left;background-color: #f0f8ff;}#sk-d4fae311-3e3b-49f5-abb5-bd1001086817 div.sk-toggleable__content pre {margin: 0.2em;color: black;border-radius: 0.25em;background-color: #f0f8ff;}#sk-d4fae311-3e3b-49f5-abb5-bd1001086817 input.sk-toggleable__control:checked~div.sk-toggleable__content {max-height: 200px;max-width: 100%;overflow: auto;}#sk-d4fae311-3e3b-49f5-abb5-bd1001086817 input.sk-toggleable__control:checked~label.sk-toggleable__label-arrow:before {content: \"▾\";}#sk-d4fae311-3e3b-49f5-abb5-bd1001086817 div.sk-estimator input.sk-toggleable__control:checked~label.sk-toggleable__label {background-color: #d4ebff;}#sk-d4fae311-3e3b-49f5-abb5-bd1001086817 div.sk-label input.sk-toggleable__control:checked~label.sk-toggleable__label {background-color: #d4ebff;}#sk-d4fae311-3e3b-49f5-abb5-bd1001086817 input.sk-hidden--visually {border: 0;clip: rect(1px 1px 1px 1px);clip: rect(1px, 1px, 1px, 1px);height: 1px;margin: -1px;overflow: hidden;padding: 0;position: absolute;width: 1px;}#sk-d4fae311-3e3b-49f5-abb5-bd1001086817 div.sk-estimator {font-family: monospace;background-color: #f0f8ff;border: 1px dotted black;border-radius: 0.25em;box-sizing: border-box;margin-bottom: 0.5em;}#sk-d4fae311-3e3b-49f5-abb5-bd1001086817 div.sk-estimator:hover {background-color: #d4ebff;}#sk-d4fae311-3e3b-49f5-abb5-bd1001086817 div.sk-parallel-item::after {content: \"\";width: 100%;border-bottom: 1px solid gray;flex-grow: 1;}#sk-d4fae311-3e3b-49f5-abb5-bd1001086817 div.sk-label:hover label.sk-toggleable__label {background-color: #d4ebff;}#sk-d4fae311-3e3b-49f5-abb5-bd1001086817 div.sk-serial::before {content: \"\";position: absolute;border-left: 1px solid gray;box-sizing: border-box;top: 2em;bottom: 0;left: 50%;}#sk-d4fae311-3e3b-49f5-abb5-bd1001086817 div.sk-serial {display: flex;flex-direction: column;align-items: center;background-color: white;padding-right: 0.2em;padding-left: 0.2em;}#sk-d4fae311-3e3b-49f5-abb5-bd1001086817 div.sk-item {z-index: 1;}#sk-d4fae311-3e3b-49f5-abb5-bd1001086817 div.sk-parallel {display: flex;align-items: stretch;justify-content: center;background-color: white;}#sk-d4fae311-3e3b-49f5-abb5-bd1001086817 div.sk-parallel::before {content: \"\";position: absolute;border-left: 1px solid gray;box-sizing: border-box;top: 2em;bottom: 0;left: 50%;}#sk-d4fae311-3e3b-49f5-abb5-bd1001086817 div.sk-parallel-item {display: flex;flex-direction: column;position: relative;background-color: white;}#sk-d4fae311-3e3b-49f5-abb5-bd1001086817 div.sk-parallel-item:first-child::after {align-self: flex-end;width: 50%;}#sk-d4fae311-3e3b-49f5-abb5-bd1001086817 div.sk-parallel-item:last-child::after {align-self: flex-start;width: 50%;}#sk-d4fae311-3e3b-49f5-abb5-bd1001086817 div.sk-parallel-item:only-child::after {width: 0;}#sk-d4fae311-3e3b-49f5-abb5-bd1001086817 div.sk-dashed-wrapped {border: 1px dashed gray;margin: 0 0.4em 0.5em 0.4em;box-sizing: border-box;padding-bottom: 0.4em;background-color: white;position: relative;}#sk-d4fae311-3e3b-49f5-abb5-bd1001086817 div.sk-label label {font-family: monospace;font-weight: bold;background-color: white;display: inline-block;line-height: 1.2em;}#sk-d4fae311-3e3b-49f5-abb5-bd1001086817 div.sk-label-container {position: relative;z-index: 2;text-align: center;}#sk-d4fae311-3e3b-49f5-abb5-bd1001086817 div.sk-container {/* jupyter's `normalize.less` sets `[hidden] { display: none; }` but bootstrap.min.css set `[hidden] { display: none !important; }` so we also need the `!important` here to be able to override the default hidden behavior on the sphinx rendered scikit-learn.org. See: https://github.com/scikit-learn/scikit-learn/issues/21755 */display: inline-block !important;position: relative;}#sk-d4fae311-3e3b-49f5-abb5-bd1001086817 div.sk-text-repr-fallback {display: none;}</style><div id=\"sk-d4fae311-3e3b-49f5-abb5-bd1001086817\" class=\"sk-top-container\"><div class=\"sk-text-repr-fallback\"><pre>Pipeline(steps=[(&#x27;simpleimputer&#x27;, SimpleImputer(strategy=&#x27;median&#x27;)),\n",
              "                (&#x27;standardscaler&#x27;, StandardScaler())])</pre><b>Please rerun this cell to show the HTML repr or trust the notebook.</b></div><div class=\"sk-container\" hidden><div class=\"sk-item sk-dashed-wrapped\"><div class=\"sk-label-container\"><div class=\"sk-label sk-toggleable\"><input class=\"sk-toggleable__control sk-hidden--visually\" id=\"a95eac5b-444e-49d3-85c1-baff92d47bd1\" type=\"checkbox\" ><label for=\"a95eac5b-444e-49d3-85c1-baff92d47bd1\" class=\"sk-toggleable__label sk-toggleable__label-arrow\">Pipeline</label><div class=\"sk-toggleable__content\"><pre>Pipeline(steps=[(&#x27;simpleimputer&#x27;, SimpleImputer(strategy=&#x27;median&#x27;)),\n",
              "                (&#x27;standardscaler&#x27;, StandardScaler())])</pre></div></div></div><div class=\"sk-serial\"><div class=\"sk-item\"><div class=\"sk-estimator sk-toggleable\"><input class=\"sk-toggleable__control sk-hidden--visually\" id=\"64afcc13-b1fe-41ba-853d-24bcceff02a1\" type=\"checkbox\" ><label for=\"64afcc13-b1fe-41ba-853d-24bcceff02a1\" class=\"sk-toggleable__label sk-toggleable__label-arrow\">SimpleImputer</label><div class=\"sk-toggleable__content\"><pre>SimpleImputer(strategy=&#x27;median&#x27;)</pre></div></div></div><div class=\"sk-item\"><div class=\"sk-estimator sk-toggleable\"><input class=\"sk-toggleable__control sk-hidden--visually\" id=\"db4f4ef4-fdeb-445a-8e94-a474864ec361\" type=\"checkbox\" ><label for=\"db4f4ef4-fdeb-445a-8e94-a474864ec361\" class=\"sk-toggleable__label sk-toggleable__label-arrow\">StandardScaler</label><div class=\"sk-toggleable__content\"><pre>StandardScaler()</pre></div></div></div></div></div></div></div>"
            ]
          },
          "metadata": {},
          "execution_count": 101
        }
      ]
    },
    {
      "cell_type": "code",
      "source": [
        "from sklearn.compose import ColumnTransformer\n",
        "\n",
        "num_attribs = [\"longitude\", \"latitude\", \"housing_median_age\", \"total_rooms\",\n",
        "                \"total_bedrooms\", \"population\", \"households\", \"median_income\"]\n",
        "cat_attribs = [\"ocean_proximity\"]\n",
        "\n",
        "cat_pipeline = make_pipeline(\n",
        "    SimpleImputer(strategy=\"most_frequent\"), OneHotEncoder(handle_unknown=\"ignore\"))\n",
        "\n",
        "preprocessing = ColumnTransformer([\n",
        "    (\"num\", num_pipeline, num_attribs), (\"cat\", cat_pipeline, cat_attribs),\n",
        "])\n"
      ],
      "metadata": {
        "id": "qHq2N__Jsr3H"
      },
      "execution_count": null,
      "outputs": []
    },
    {
      "cell_type": "code",
      "source": [
        "from sklearn.compose import make_column_selector, make_column_transformer\n",
        "\n",
        "preprocessing = make_column_transformer(\n",
        "    (num_pipeline, make_column_selector(dtype_include = np.number)),\n",
        "    (cat_pipeline, make_column_selector(dtype_include=object)),\n",
        ")"
      ],
      "metadata": {
        "id": "ScYIUMu5t4O0"
      },
      "execution_count": null,
      "outputs": []
    },
    {
      "cell_type": "code",
      "source": [
        "housing_prepared = preprocessing.fit_transform(housing)"
      ],
      "metadata": {
        "id": "bK7UXuKkuUtt"
      },
      "execution_count": null,
      "outputs": []
    },
    {
      "cell_type": "code",
      "source": [
        "# extra code - shows, how you get a DataFrame out if you want\n",
        "housing_prepared_fr = pd.DataFrame(\n",
        "    housing_prepared,\n",
        "    columns=preprocessing.get_feature_names_out(),\n",
        "    index=housing.index)\n",
        "housing_prepared_fr.head(10)\n",
        "# housing_prepared_fr.describe()\n",
        "# housing_prepared_fr.size\n"
      ],
      "metadata": {
        "colab": {
          "base_uri": "https://localhost:8080/",
          "height": 462
        },
        "id": "fwqGtvH-ugWK",
        "outputId": "4e49cb1b-b6a7-46b7-d1c6-8bb1aa99183e"
      },
      "execution_count": null,
      "outputs": [
        {
          "output_type": "execute_result",
          "data": {
            "text/plain": [
              "       pipeline-1__longitude  pipeline-1__latitude  \\\n",
              "13096              -1.423037              1.013606   \n",
              "14973               0.596394             -0.702103   \n",
              "3785               -1.203098              1.276119   \n",
              "14689               1.231216             -0.884924   \n",
              "20507               0.711362             -0.875549   \n",
              "1286               -0.868193              1.088610   \n",
              "18078               0.606392             -0.838047   \n",
              "4396               -1.278077              0.830784   \n",
              "18031               0.566403             -0.622412   \n",
              "6753                0.721359             -0.739605   \n",
              "\n",
              "       pipeline-1__housing_median_age  pipeline-1__total_rooms  \\\n",
              "13096                        1.861119                 0.311912   \n",
              "14973                        0.907630                -0.308620   \n",
              "3785                         0.351428                -0.712240   \n",
              "14689                       -0.919891                 0.702262   \n",
              "20507                        0.589800                 0.790125   \n",
              "1286                         1.861119                -0.370856   \n",
              "18078                        0.430885                -0.710868   \n",
              "4396                         0.589800                 0.982782   \n",
              "18031                       -0.522604                 0.248303   \n",
              "6753                        -0.919891                -0.423482   \n",
              "\n",
              "       pipeline-1__total_bedrooms  pipeline-1__population  \\\n",
              "13096                    1.368167                0.137460   \n",
              "14973                   -0.435925               -0.693771   \n",
              "3785                    -0.760709               -0.788768   \n",
              "14689                    0.742306                0.383175   \n",
              "20507                    1.595753                0.444376   \n",
              "1286                    -0.561571               -0.668194   \n",
              "18078                   -0.808122               -0.837181   \n",
              "4396                     0.858470                0.560383   \n",
              "18031                    0.673556                1.128543   \n",
              "6753                     0.080885                0.150248   \n",
              "\n",
              "       pipeline-1__households  pipeline-1__median_income  \\\n",
              "13096                1.394812                  -0.936491   \n",
              "14973               -0.373485                   1.171942   \n",
              "3785                -0.775727                  -0.759789   \n",
              "14689                0.731375                  -0.850281   \n",
              "20507                1.755263                  -0.180365   \n",
              "1286                -0.472739                  -0.276883   \n",
              "18078               -0.893265                   1.185526   \n",
              "4396                 1.018690                   0.811824   \n",
              "18031                0.642568                  -0.593710   \n",
              "6753                 0.177639                  -1.418129   \n",
              "\n",
              "       pipeline-2__ocean_proximity_<1H OCEAN  \\\n",
              "13096                                    0.0   \n",
              "14973                                    1.0   \n",
              "3785                                     0.0   \n",
              "14689                                    0.0   \n",
              "20507                                    0.0   \n",
              "1286                                     0.0   \n",
              "18078                                    1.0   \n",
              "4396                                     0.0   \n",
              "18031                                    1.0   \n",
              "6753                                     1.0   \n",
              "\n",
              "       pipeline-2__ocean_proximity_INLAND  pipeline-2__ocean_proximity_ISLAND  \\\n",
              "13096                                 0.0                                 0.0   \n",
              "14973                                 0.0                                 0.0   \n",
              "3785                                  1.0                                 0.0   \n",
              "14689                                 1.0                                 0.0   \n",
              "20507                                 0.0                                 0.0   \n",
              "1286                                  1.0                                 0.0   \n",
              "18078                                 0.0                                 0.0   \n",
              "4396                                  0.0                                 0.0   \n",
              "18031                                 0.0                                 0.0   \n",
              "6753                                  0.0                                 0.0   \n",
              "\n",
              "       pipeline-2__ocean_proximity_NEAR BAY  \\\n",
              "13096                                   1.0   \n",
              "14973                                   0.0   \n",
              "3785                                    0.0   \n",
              "14689                                   0.0   \n",
              "20507                                   0.0   \n",
              "1286                                    0.0   \n",
              "18078                                   0.0   \n",
              "4396                                    1.0   \n",
              "18031                                   0.0   \n",
              "6753                                    0.0   \n",
              "\n",
              "       pipeline-2__ocean_proximity_NEAR OCEAN  \n",
              "13096                                     0.0  \n",
              "14973                                     0.0  \n",
              "3785                                      0.0  \n",
              "14689                                     0.0  \n",
              "20507                                     1.0  \n",
              "1286                                      0.0  \n",
              "18078                                     0.0  \n",
              "4396                                      0.0  \n",
              "18031                                     0.0  \n",
              "6753                                      0.0  "
            ],
            "text/html": [
              "\n",
              "  <div id=\"df-8593499c-ecab-483b-a6a0-c79b43e73335\">\n",
              "    <div class=\"colab-df-container\">\n",
              "      <div>\n",
              "<style scoped>\n",
              "    .dataframe tbody tr th:only-of-type {\n",
              "        vertical-align: middle;\n",
              "    }\n",
              "\n",
              "    .dataframe tbody tr th {\n",
              "        vertical-align: top;\n",
              "    }\n",
              "\n",
              "    .dataframe thead th {\n",
              "        text-align: right;\n",
              "    }\n",
              "</style>\n",
              "<table border=\"1\" class=\"dataframe\">\n",
              "  <thead>\n",
              "    <tr style=\"text-align: right;\">\n",
              "      <th></th>\n",
              "      <th>pipeline-1__longitude</th>\n",
              "      <th>pipeline-1__latitude</th>\n",
              "      <th>pipeline-1__housing_median_age</th>\n",
              "      <th>pipeline-1__total_rooms</th>\n",
              "      <th>pipeline-1__total_bedrooms</th>\n",
              "      <th>pipeline-1__population</th>\n",
              "      <th>pipeline-1__households</th>\n",
              "      <th>pipeline-1__median_income</th>\n",
              "      <th>pipeline-2__ocean_proximity_&lt;1H OCEAN</th>\n",
              "      <th>pipeline-2__ocean_proximity_INLAND</th>\n",
              "      <th>pipeline-2__ocean_proximity_ISLAND</th>\n",
              "      <th>pipeline-2__ocean_proximity_NEAR BAY</th>\n",
              "      <th>pipeline-2__ocean_proximity_NEAR OCEAN</th>\n",
              "    </tr>\n",
              "  </thead>\n",
              "  <tbody>\n",
              "    <tr>\n",
              "      <th>13096</th>\n",
              "      <td>-1.423037</td>\n",
              "      <td>1.013606</td>\n",
              "      <td>1.861119</td>\n",
              "      <td>0.311912</td>\n",
              "      <td>1.368167</td>\n",
              "      <td>0.137460</td>\n",
              "      <td>1.394812</td>\n",
              "      <td>-0.936491</td>\n",
              "      <td>0.0</td>\n",
              "      <td>0.0</td>\n",
              "      <td>0.0</td>\n",
              "      <td>1.0</td>\n",
              "      <td>0.0</td>\n",
              "    </tr>\n",
              "    <tr>\n",
              "      <th>14973</th>\n",
              "      <td>0.596394</td>\n",
              "      <td>-0.702103</td>\n",
              "      <td>0.907630</td>\n",
              "      <td>-0.308620</td>\n",
              "      <td>-0.435925</td>\n",
              "      <td>-0.693771</td>\n",
              "      <td>-0.373485</td>\n",
              "      <td>1.171942</td>\n",
              "      <td>1.0</td>\n",
              "      <td>0.0</td>\n",
              "      <td>0.0</td>\n",
              "      <td>0.0</td>\n",
              "      <td>0.0</td>\n",
              "    </tr>\n",
              "    <tr>\n",
              "      <th>3785</th>\n",
              "      <td>-1.203098</td>\n",
              "      <td>1.276119</td>\n",
              "      <td>0.351428</td>\n",
              "      <td>-0.712240</td>\n",
              "      <td>-0.760709</td>\n",
              "      <td>-0.788768</td>\n",
              "      <td>-0.775727</td>\n",
              "      <td>-0.759789</td>\n",
              "      <td>0.0</td>\n",
              "      <td>1.0</td>\n",
              "      <td>0.0</td>\n",
              "      <td>0.0</td>\n",
              "      <td>0.0</td>\n",
              "    </tr>\n",
              "    <tr>\n",
              "      <th>14689</th>\n",
              "      <td>1.231216</td>\n",
              "      <td>-0.884924</td>\n",
              "      <td>-0.919891</td>\n",
              "      <td>0.702262</td>\n",
              "      <td>0.742306</td>\n",
              "      <td>0.383175</td>\n",
              "      <td>0.731375</td>\n",
              "      <td>-0.850281</td>\n",
              "      <td>0.0</td>\n",
              "      <td>1.0</td>\n",
              "      <td>0.0</td>\n",
              "      <td>0.0</td>\n",
              "      <td>0.0</td>\n",
              "    </tr>\n",
              "    <tr>\n",
              "      <th>20507</th>\n",
              "      <td>0.711362</td>\n",
              "      <td>-0.875549</td>\n",
              "      <td>0.589800</td>\n",
              "      <td>0.790125</td>\n",
              "      <td>1.595753</td>\n",
              "      <td>0.444376</td>\n",
              "      <td>1.755263</td>\n",
              "      <td>-0.180365</td>\n",
              "      <td>0.0</td>\n",
              "      <td>0.0</td>\n",
              "      <td>0.0</td>\n",
              "      <td>0.0</td>\n",
              "      <td>1.0</td>\n",
              "    </tr>\n",
              "    <tr>\n",
              "      <th>1286</th>\n",
              "      <td>-0.868193</td>\n",
              "      <td>1.088610</td>\n",
              "      <td>1.861119</td>\n",
              "      <td>-0.370856</td>\n",
              "      <td>-0.561571</td>\n",
              "      <td>-0.668194</td>\n",
              "      <td>-0.472739</td>\n",
              "      <td>-0.276883</td>\n",
              "      <td>0.0</td>\n",
              "      <td>1.0</td>\n",
              "      <td>0.0</td>\n",
              "      <td>0.0</td>\n",
              "      <td>0.0</td>\n",
              "    </tr>\n",
              "    <tr>\n",
              "      <th>18078</th>\n",
              "      <td>0.606392</td>\n",
              "      <td>-0.838047</td>\n",
              "      <td>0.430885</td>\n",
              "      <td>-0.710868</td>\n",
              "      <td>-0.808122</td>\n",
              "      <td>-0.837181</td>\n",
              "      <td>-0.893265</td>\n",
              "      <td>1.185526</td>\n",
              "      <td>1.0</td>\n",
              "      <td>0.0</td>\n",
              "      <td>0.0</td>\n",
              "      <td>0.0</td>\n",
              "      <td>0.0</td>\n",
              "    </tr>\n",
              "    <tr>\n",
              "      <th>4396</th>\n",
              "      <td>-1.278077</td>\n",
              "      <td>0.830784</td>\n",
              "      <td>0.589800</td>\n",
              "      <td>0.982782</td>\n",
              "      <td>0.858470</td>\n",
              "      <td>0.560383</td>\n",
              "      <td>1.018690</td>\n",
              "      <td>0.811824</td>\n",
              "      <td>0.0</td>\n",
              "      <td>0.0</td>\n",
              "      <td>0.0</td>\n",
              "      <td>1.0</td>\n",
              "      <td>0.0</td>\n",
              "    </tr>\n",
              "    <tr>\n",
              "      <th>18031</th>\n",
              "      <td>0.566403</td>\n",
              "      <td>-0.622412</td>\n",
              "      <td>-0.522604</td>\n",
              "      <td>0.248303</td>\n",
              "      <td>0.673556</td>\n",
              "      <td>1.128543</td>\n",
              "      <td>0.642568</td>\n",
              "      <td>-0.593710</td>\n",
              "      <td>1.0</td>\n",
              "      <td>0.0</td>\n",
              "      <td>0.0</td>\n",
              "      <td>0.0</td>\n",
              "      <td>0.0</td>\n",
              "    </tr>\n",
              "    <tr>\n",
              "      <th>6753</th>\n",
              "      <td>0.721359</td>\n",
              "      <td>-0.739605</td>\n",
              "      <td>-0.919891</td>\n",
              "      <td>-0.423482</td>\n",
              "      <td>0.080885</td>\n",
              "      <td>0.150248</td>\n",
              "      <td>0.177639</td>\n",
              "      <td>-1.418129</td>\n",
              "      <td>1.0</td>\n",
              "      <td>0.0</td>\n",
              "      <td>0.0</td>\n",
              "      <td>0.0</td>\n",
              "      <td>0.0</td>\n",
              "    </tr>\n",
              "  </tbody>\n",
              "</table>\n",
              "</div>\n",
              "      <button class=\"colab-df-convert\" onclick=\"convertToInteractive('df-8593499c-ecab-483b-a6a0-c79b43e73335')\"\n",
              "              title=\"Convert this dataframe to an interactive table.\"\n",
              "              style=\"display:none;\">\n",
              "        \n",
              "  <svg xmlns=\"http://www.w3.org/2000/svg\" height=\"24px\"viewBox=\"0 0 24 24\"\n",
              "       width=\"24px\">\n",
              "    <path d=\"M0 0h24v24H0V0z\" fill=\"none\"/>\n",
              "    <path d=\"M18.56 5.44l.94 2.06.94-2.06 2.06-.94-2.06-.94-.94-2.06-.94 2.06-2.06.94zm-11 1L8.5 8.5l.94-2.06 2.06-.94-2.06-.94L8.5 2.5l-.94 2.06-2.06.94zm10 10l.94 2.06.94-2.06 2.06-.94-2.06-.94-.94-2.06-.94 2.06-2.06.94z\"/><path d=\"M17.41 7.96l-1.37-1.37c-.4-.4-.92-.59-1.43-.59-.52 0-1.04.2-1.43.59L10.3 9.45l-7.72 7.72c-.78.78-.78 2.05 0 2.83L4 21.41c.39.39.9.59 1.41.59.51 0 1.02-.2 1.41-.59l7.78-7.78 2.81-2.81c.8-.78.8-2.07 0-2.86zM5.41 20L4 18.59l7.72-7.72 1.47 1.35L5.41 20z\"/>\n",
              "  </svg>\n",
              "      </button>\n",
              "      \n",
              "  <style>\n",
              "    .colab-df-container {\n",
              "      display:flex;\n",
              "      flex-wrap:wrap;\n",
              "      gap: 12px;\n",
              "    }\n",
              "\n",
              "    .colab-df-convert {\n",
              "      background-color: #E8F0FE;\n",
              "      border: none;\n",
              "      border-radius: 50%;\n",
              "      cursor: pointer;\n",
              "      display: none;\n",
              "      fill: #1967D2;\n",
              "      height: 32px;\n",
              "      padding: 0 0 0 0;\n",
              "      width: 32px;\n",
              "    }\n",
              "\n",
              "    .colab-df-convert:hover {\n",
              "      background-color: #E2EBFA;\n",
              "      box-shadow: 0px 1px 2px rgba(60, 64, 67, 0.3), 0px 1px 3px 1px rgba(60, 64, 67, 0.15);\n",
              "      fill: #174EA6;\n",
              "    }\n",
              "\n",
              "    [theme=dark] .colab-df-convert {\n",
              "      background-color: #3B4455;\n",
              "      fill: #D2E3FC;\n",
              "    }\n",
              "\n",
              "    [theme=dark] .colab-df-convert:hover {\n",
              "      background-color: #434B5C;\n",
              "      box-shadow: 0px 1px 3px 1px rgba(0, 0, 0, 0.15);\n",
              "      filter: drop-shadow(0px 1px 2px rgba(0, 0, 0, 0.3));\n",
              "      fill: #FFFFFF;\n",
              "    }\n",
              "  </style>\n",
              "\n",
              "      <script>\n",
              "        const buttonEl =\n",
              "          document.querySelector('#df-8593499c-ecab-483b-a6a0-c79b43e73335 button.colab-df-convert');\n",
              "        buttonEl.style.display =\n",
              "          google.colab.kernel.accessAllowed ? 'block' : 'none';\n",
              "\n",
              "        async function convertToInteractive(key) {\n",
              "          const element = document.querySelector('#df-8593499c-ecab-483b-a6a0-c79b43e73335');\n",
              "          const dataTable =\n",
              "            await google.colab.kernel.invokeFunction('convertToInteractive',\n",
              "                                                     [key], {});\n",
              "          if (!dataTable) return;\n",
              "\n",
              "          const docLinkHtml = 'Like what you see? Visit the ' +\n",
              "            '<a target=\"_blank\" href=https://colab.research.google.com/notebooks/data_table.ipynb>data table notebook</a>'\n",
              "            + ' to learn more about interactive tables.';\n",
              "          element.innerHTML = '';\n",
              "          dataTable['output_type'] = 'display_data';\n",
              "          await google.colab.output.renderOutput(dataTable, element);\n",
              "          const docLink = document.createElement('div');\n",
              "          docLink.innerHTML = docLinkHtml;\n",
              "          element.appendChild(docLink);\n",
              "        }\n",
              "      </script>\n",
              "    </div>\n",
              "  </div>\n",
              "  "
            ]
          },
          "metadata": {},
          "execution_count": 105
        }
      ]
    },
    {
      "cell_type": "code",
      "source": [
        "def column_ratio(x):\n",
        "  return X[:, [0]] / X[:, [1]]\n",
        "\n",
        "def ratio_name(function_transformer, feature_names_in):\n",
        "  return [\"ratio\"]  # feature names out\n",
        "\n",
        "def ratio_pipeline():\n",
        "  return make_pipeline(\n",
        "      SimpleImputer(strategy=\"median\"),\n",
        "      FunctionTransformer(column_ratio, feature_names_out = ratio_name),\n",
        "      StandardScaler())\n",
        "\n",
        "log_pipeline = make_pipeline(\n",
        "    SimpleImputer(strategy=\"median\"),\n",
        "    FunctionTransformer(np.log, feature_names_out = \"one-to-one\"),\n",
        "    StandardScaler())\n",
        "\n",
        "cluster_simil = ClusterSimilarity(n_clusters=10, gamma=1., random_state=42)\n",
        "default_num_pipeline = make_pipeline(SimpleImputer(strategy=\"median\"), StandardScaler())\n",
        "\n",
        "preprocessing = ColumnTransformer([\n",
        "    (\"bedrooms\", ratio_pipeline(), [\"total_bedrooms\", \"total_rooms\"] ),\n",
        "    (\"rooms_per_house\", ratio_pipeline(), [\"total_rooms\", \"households\"]),\n",
        "   # (\"people_per_house\", ratio_pipeline(), [\"population\", \"households\"]),\n",
        "   # (\"log\", log_pipeline, [\"total_bedrooms\", \"total_rooms\", \"population\", \"households\", \"median_income\"]),\n",
        "    (\"geo\", cluster_simil, [\"latitude\", \"longitude\"]),\n",
        "    (\"cat\", cat_pipeline, make_column_selector(dtype_include=object)),\n",
        "],\n",
        "remainder=default_num_pipeline) # one column remaining: housing_median_age\n"
      ],
      "metadata": {
        "id": "3x-_lCXuvKq6"
      },
      "execution_count": null,
      "outputs": []
    },
    {
      "cell_type": "code",
      "source": [
        "housing.describe()"
      ],
      "metadata": {
        "colab": {
          "base_uri": "https://localhost:8080/",
          "height": 364
        },
        "id": "Srd3Nf0_eP7-",
        "outputId": "90401f66-6150-48a2-9c04-abd486cdc11d"
      },
      "execution_count": null,
      "outputs": [
        {
          "output_type": "execute_result",
          "data": {
            "text/plain": [
              "          longitude      latitude  housing_median_age   total_rooms  \\\n",
              "count  16512.000000  16512.000000        16512.000000  16512.000000   \n",
              "mean    -119.573125     35.637746           28.577156   2639.402798   \n",
              "std        2.000624      2.133294           12.585738   2185.287466   \n",
              "min     -124.350000     32.550000            1.000000      2.000000   \n",
              "25%     -121.800000     33.930000           18.000000   1447.000000   \n",
              "50%     -118.510000     34.260000           29.000000   2125.000000   \n",
              "75%     -118.010000     37.720000           37.000000   3154.000000   \n",
              "max     -114.490000     41.950000           52.000000  39320.000000   \n",
              "\n",
              "       total_bedrooms    population    households  median_income  \n",
              "count    16344.000000  16512.000000  16512.000000   16512.000000  \n",
              "mean       538.949094   1425.513929    499.990189       3.870428  \n",
              "std        423.862079   1094.795467    382.865787       1.891936  \n",
              "min          1.000000      3.000000      1.000000       0.499900  \n",
              "25%        296.000000    787.000000    279.000000       2.562500  \n",
              "50%        434.000000   1167.000000    408.000000       3.538500  \n",
              "75%        645.000000   1726.000000    603.000000       4.750000  \n",
              "max       6210.000000  16305.000000   5358.000000      15.000100  "
            ],
            "text/html": [
              "\n",
              "  <div id=\"df-df4aef72-d769-4b00-b5b3-5e1daf2e0cd3\">\n",
              "    <div class=\"colab-df-container\">\n",
              "      <div>\n",
              "<style scoped>\n",
              "    .dataframe tbody tr th:only-of-type {\n",
              "        vertical-align: middle;\n",
              "    }\n",
              "\n",
              "    .dataframe tbody tr th {\n",
              "        vertical-align: top;\n",
              "    }\n",
              "\n",
              "    .dataframe thead th {\n",
              "        text-align: right;\n",
              "    }\n",
              "</style>\n",
              "<table border=\"1\" class=\"dataframe\">\n",
              "  <thead>\n",
              "    <tr style=\"text-align: right;\">\n",
              "      <th></th>\n",
              "      <th>longitude</th>\n",
              "      <th>latitude</th>\n",
              "      <th>housing_median_age</th>\n",
              "      <th>total_rooms</th>\n",
              "      <th>total_bedrooms</th>\n",
              "      <th>population</th>\n",
              "      <th>households</th>\n",
              "      <th>median_income</th>\n",
              "    </tr>\n",
              "  </thead>\n",
              "  <tbody>\n",
              "    <tr>\n",
              "      <th>count</th>\n",
              "      <td>16512.000000</td>\n",
              "      <td>16512.000000</td>\n",
              "      <td>16512.000000</td>\n",
              "      <td>16512.000000</td>\n",
              "      <td>16344.000000</td>\n",
              "      <td>16512.000000</td>\n",
              "      <td>16512.000000</td>\n",
              "      <td>16512.000000</td>\n",
              "    </tr>\n",
              "    <tr>\n",
              "      <th>mean</th>\n",
              "      <td>-119.573125</td>\n",
              "      <td>35.637746</td>\n",
              "      <td>28.577156</td>\n",
              "      <td>2639.402798</td>\n",
              "      <td>538.949094</td>\n",
              "      <td>1425.513929</td>\n",
              "      <td>499.990189</td>\n",
              "      <td>3.870428</td>\n",
              "    </tr>\n",
              "    <tr>\n",
              "      <th>std</th>\n",
              "      <td>2.000624</td>\n",
              "      <td>2.133294</td>\n",
              "      <td>12.585738</td>\n",
              "      <td>2185.287466</td>\n",
              "      <td>423.862079</td>\n",
              "      <td>1094.795467</td>\n",
              "      <td>382.865787</td>\n",
              "      <td>1.891936</td>\n",
              "    </tr>\n",
              "    <tr>\n",
              "      <th>min</th>\n",
              "      <td>-124.350000</td>\n",
              "      <td>32.550000</td>\n",
              "      <td>1.000000</td>\n",
              "      <td>2.000000</td>\n",
              "      <td>1.000000</td>\n",
              "      <td>3.000000</td>\n",
              "      <td>1.000000</td>\n",
              "      <td>0.499900</td>\n",
              "    </tr>\n",
              "    <tr>\n",
              "      <th>25%</th>\n",
              "      <td>-121.800000</td>\n",
              "      <td>33.930000</td>\n",
              "      <td>18.000000</td>\n",
              "      <td>1447.000000</td>\n",
              "      <td>296.000000</td>\n",
              "      <td>787.000000</td>\n",
              "      <td>279.000000</td>\n",
              "      <td>2.562500</td>\n",
              "    </tr>\n",
              "    <tr>\n",
              "      <th>50%</th>\n",
              "      <td>-118.510000</td>\n",
              "      <td>34.260000</td>\n",
              "      <td>29.000000</td>\n",
              "      <td>2125.000000</td>\n",
              "      <td>434.000000</td>\n",
              "      <td>1167.000000</td>\n",
              "      <td>408.000000</td>\n",
              "      <td>3.538500</td>\n",
              "    </tr>\n",
              "    <tr>\n",
              "      <th>75%</th>\n",
              "      <td>-118.010000</td>\n",
              "      <td>37.720000</td>\n",
              "      <td>37.000000</td>\n",
              "      <td>3154.000000</td>\n",
              "      <td>645.000000</td>\n",
              "      <td>1726.000000</td>\n",
              "      <td>603.000000</td>\n",
              "      <td>4.750000</td>\n",
              "    </tr>\n",
              "    <tr>\n",
              "      <th>max</th>\n",
              "      <td>-114.490000</td>\n",
              "      <td>41.950000</td>\n",
              "      <td>52.000000</td>\n",
              "      <td>39320.000000</td>\n",
              "      <td>6210.000000</td>\n",
              "      <td>16305.000000</td>\n",
              "      <td>5358.000000</td>\n",
              "      <td>15.000100</td>\n",
              "    </tr>\n",
              "  </tbody>\n",
              "</table>\n",
              "</div>\n",
              "      <button class=\"colab-df-convert\" onclick=\"convertToInteractive('df-df4aef72-d769-4b00-b5b3-5e1daf2e0cd3')\"\n",
              "              title=\"Convert this dataframe to an interactive table.\"\n",
              "              style=\"display:none;\">\n",
              "        \n",
              "  <svg xmlns=\"http://www.w3.org/2000/svg\" height=\"24px\"viewBox=\"0 0 24 24\"\n",
              "       width=\"24px\">\n",
              "    <path d=\"M0 0h24v24H0V0z\" fill=\"none\"/>\n",
              "    <path d=\"M18.56 5.44l.94 2.06.94-2.06 2.06-.94-2.06-.94-.94-2.06-.94 2.06-2.06.94zm-11 1L8.5 8.5l.94-2.06 2.06-.94-2.06-.94L8.5 2.5l-.94 2.06-2.06.94zm10 10l.94 2.06.94-2.06 2.06-.94-2.06-.94-.94-2.06-.94 2.06-2.06.94z\"/><path d=\"M17.41 7.96l-1.37-1.37c-.4-.4-.92-.59-1.43-.59-.52 0-1.04.2-1.43.59L10.3 9.45l-7.72 7.72c-.78.78-.78 2.05 0 2.83L4 21.41c.39.39.9.59 1.41.59.51 0 1.02-.2 1.41-.59l7.78-7.78 2.81-2.81c.8-.78.8-2.07 0-2.86zM5.41 20L4 18.59l7.72-7.72 1.47 1.35L5.41 20z\"/>\n",
              "  </svg>\n",
              "      </button>\n",
              "      \n",
              "  <style>\n",
              "    .colab-df-container {\n",
              "      display:flex;\n",
              "      flex-wrap:wrap;\n",
              "      gap: 12px;\n",
              "    }\n",
              "\n",
              "    .colab-df-convert {\n",
              "      background-color: #E8F0FE;\n",
              "      border: none;\n",
              "      border-radius: 50%;\n",
              "      cursor: pointer;\n",
              "      display: none;\n",
              "      fill: #1967D2;\n",
              "      height: 32px;\n",
              "      padding: 0 0 0 0;\n",
              "      width: 32px;\n",
              "    }\n",
              "\n",
              "    .colab-df-convert:hover {\n",
              "      background-color: #E2EBFA;\n",
              "      box-shadow: 0px 1px 2px rgba(60, 64, 67, 0.3), 0px 1px 3px 1px rgba(60, 64, 67, 0.15);\n",
              "      fill: #174EA6;\n",
              "    }\n",
              "\n",
              "    [theme=dark] .colab-df-convert {\n",
              "      background-color: #3B4455;\n",
              "      fill: #D2E3FC;\n",
              "    }\n",
              "\n",
              "    [theme=dark] .colab-df-convert:hover {\n",
              "      background-color: #434B5C;\n",
              "      box-shadow: 0px 1px 3px 1px rgba(0, 0, 0, 0.15);\n",
              "      filter: drop-shadow(0px 1px 2px rgba(0, 0, 0, 0.3));\n",
              "      fill: #FFFFFF;\n",
              "    }\n",
              "  </style>\n",
              "\n",
              "      <script>\n",
              "        const buttonEl =\n",
              "          document.querySelector('#df-df4aef72-d769-4b00-b5b3-5e1daf2e0cd3 button.colab-df-convert');\n",
              "        buttonEl.style.display =\n",
              "          google.colab.kernel.accessAllowed ? 'block' : 'none';\n",
              "\n",
              "        async function convertToInteractive(key) {\n",
              "          const element = document.querySelector('#df-df4aef72-d769-4b00-b5b3-5e1daf2e0cd3');\n",
              "          const dataTable =\n",
              "            await google.colab.kernel.invokeFunction('convertToInteractive',\n",
              "                                                     [key], {});\n",
              "          if (!dataTable) return;\n",
              "\n",
              "          const docLinkHtml = 'Like what you see? Visit the ' +\n",
              "            '<a target=\"_blank\" href=https://colab.research.google.com/notebooks/data_table.ipynb>data table notebook</a>'\n",
              "            + ' to learn more about interactive tables.';\n",
              "          element.innerHTML = '';\n",
              "          dataTable['output_type'] = 'display_data';\n",
              "          await google.colab.output.renderOutput(dataTable, element);\n",
              "          const docLink = document.createElement('div');\n",
              "          docLink.innerHTML = docLinkHtml;\n",
              "          element.appendChild(docLink);\n",
              "        }\n",
              "      </script>\n",
              "    </div>\n",
              "  </div>\n",
              "  "
            ]
          },
          "metadata": {},
          "execution_count": 107
        }
      ]
    },
    {
      "cell_type": "code",
      "source": [
        "housing.shape"
      ],
      "metadata": {
        "colab": {
          "base_uri": "https://localhost:8080/"
        },
        "id": "hB3ARosReVok",
        "outputId": "919e98d8-80b4-4ba4-8cef-43279a6370db"
      },
      "execution_count": null,
      "outputs": [
        {
          "output_type": "execute_result",
          "data": {
            "text/plain": [
              "(16512, 9)"
            ]
          },
          "metadata": {},
          "execution_count": 108
        }
      ]
    },
    {
      "cell_type": "code",
      "source": [
        "housing_prepared = preprocessing.fit_transform(housing)\n",
        "housing_prepared.shape"
      ],
      "metadata": {
        "colab": {
          "base_uri": "https://localhost:8080/"
        },
        "id": "MsjhWj8wyzC5",
        "outputId": "fb4ac81c-db36-4ee0-a39c-929e5b851bdd"
      },
      "execution_count": null,
      "outputs": [
        {
          "output_type": "execute_result",
          "data": {
            "text/plain": [
              "(16512, 20)"
            ]
          },
          "metadata": {},
          "execution_count": 109
        }
      ]
    },
    {
      "cell_type": "code",
      "source": [
        "# preprocessing.get_feature_names_out() nefunguje!!!"
      ],
      "metadata": {
        "id": "Vdw9zEzlzMBT"
      },
      "execution_count": null,
      "outputs": []
    },
    {
      "cell_type": "markdown",
      "source": [
        "**Select and Train a Model**"
      ],
      "metadata": {
        "id": "3ZD-T2aSl28B"
      }
    },
    {
      "cell_type": "code",
      "source": [
        "from sklearn.linear_model import LinearRegression\n",
        "\n",
        "lin_reg = make_pipeline(preprocessing, LinearRegression())\n",
        "lin_reg.fit(housing, housing_labels)"
      ],
      "metadata": {
        "colab": {
          "base_uri": "https://localhost:8080/",
          "height": 279
        },
        "id": "4NYAAr31l9Ou",
        "outputId": "971afa7d-2160-4e99-8381-c738dfc38909"
      },
      "execution_count": null,
      "outputs": [
        {
          "output_type": "execute_result",
          "data": {
            "text/plain": [
              "Pipeline(steps=[('columntransformer',\n",
              "                 ColumnTransformer(remainder=Pipeline(steps=[('simpleimputer',\n",
              "                                                              SimpleImputer(strategy='median')),\n",
              "                                                             ('standardscaler',\n",
              "                                                              StandardScaler())]),\n",
              "                                   transformers=[('bedrooms',\n",
              "                                                  Pipeline(steps=[('simpleimputer',\n",
              "                                                                   SimpleImputer(strategy='median')),\n",
              "                                                                  ('functiontransformer',\n",
              "                                                                   FunctionTransformer(feature_names_out=<function ratio_name at 0x7fa...\n",
              "                                                  ['total_rooms',\n",
              "                                                   'households']),\n",
              "                                                 ('geo',\n",
              "                                                  ClusterSimilarity(random_state=42),\n",
              "                                                  ['latitude', 'longitude']),\n",
              "                                                 ('cat',\n",
              "                                                  Pipeline(steps=[('simpleimputer',\n",
              "                                                                   SimpleImputer(strategy='most_frequent')),\n",
              "                                                                  ('onehotencoder',\n",
              "                                                                   OneHotEncoder(handle_unknown='ignore'))]),\n",
              "                                                  <sklearn.compose._column_transformer.make_column_selector object at 0x7fa33c0429a0>)])),\n",
              "                ('linearregression', LinearRegression())])"
            ],
            "text/html": [
              "<style>#sk-3c254501-50fc-402f-95da-bbf10d7b5e70 {color: black;background-color: white;}#sk-3c254501-50fc-402f-95da-bbf10d7b5e70 pre{padding: 0;}#sk-3c254501-50fc-402f-95da-bbf10d7b5e70 div.sk-toggleable {background-color: white;}#sk-3c254501-50fc-402f-95da-bbf10d7b5e70 label.sk-toggleable__label {cursor: pointer;display: block;width: 100%;margin-bottom: 0;padding: 0.3em;box-sizing: border-box;text-align: center;}#sk-3c254501-50fc-402f-95da-bbf10d7b5e70 label.sk-toggleable__label-arrow:before {content: \"▸\";float: left;margin-right: 0.25em;color: #696969;}#sk-3c254501-50fc-402f-95da-bbf10d7b5e70 label.sk-toggleable__label-arrow:hover:before {color: black;}#sk-3c254501-50fc-402f-95da-bbf10d7b5e70 div.sk-estimator:hover label.sk-toggleable__label-arrow:before {color: black;}#sk-3c254501-50fc-402f-95da-bbf10d7b5e70 div.sk-toggleable__content {max-height: 0;max-width: 0;overflow: hidden;text-align: left;background-color: #f0f8ff;}#sk-3c254501-50fc-402f-95da-bbf10d7b5e70 div.sk-toggleable__content pre {margin: 0.2em;color: black;border-radius: 0.25em;background-color: #f0f8ff;}#sk-3c254501-50fc-402f-95da-bbf10d7b5e70 input.sk-toggleable__control:checked~div.sk-toggleable__content {max-height: 200px;max-width: 100%;overflow: auto;}#sk-3c254501-50fc-402f-95da-bbf10d7b5e70 input.sk-toggleable__control:checked~label.sk-toggleable__label-arrow:before {content: \"▾\";}#sk-3c254501-50fc-402f-95da-bbf10d7b5e70 div.sk-estimator input.sk-toggleable__control:checked~label.sk-toggleable__label {background-color: #d4ebff;}#sk-3c254501-50fc-402f-95da-bbf10d7b5e70 div.sk-label input.sk-toggleable__control:checked~label.sk-toggleable__label {background-color: #d4ebff;}#sk-3c254501-50fc-402f-95da-bbf10d7b5e70 input.sk-hidden--visually {border: 0;clip: rect(1px 1px 1px 1px);clip: rect(1px, 1px, 1px, 1px);height: 1px;margin: -1px;overflow: hidden;padding: 0;position: absolute;width: 1px;}#sk-3c254501-50fc-402f-95da-bbf10d7b5e70 div.sk-estimator {font-family: monospace;background-color: #f0f8ff;border: 1px dotted black;border-radius: 0.25em;box-sizing: border-box;margin-bottom: 0.5em;}#sk-3c254501-50fc-402f-95da-bbf10d7b5e70 div.sk-estimator:hover {background-color: #d4ebff;}#sk-3c254501-50fc-402f-95da-bbf10d7b5e70 div.sk-parallel-item::after {content: \"\";width: 100%;border-bottom: 1px solid gray;flex-grow: 1;}#sk-3c254501-50fc-402f-95da-bbf10d7b5e70 div.sk-label:hover label.sk-toggleable__label {background-color: #d4ebff;}#sk-3c254501-50fc-402f-95da-bbf10d7b5e70 div.sk-serial::before {content: \"\";position: absolute;border-left: 1px solid gray;box-sizing: border-box;top: 2em;bottom: 0;left: 50%;}#sk-3c254501-50fc-402f-95da-bbf10d7b5e70 div.sk-serial {display: flex;flex-direction: column;align-items: center;background-color: white;padding-right: 0.2em;padding-left: 0.2em;}#sk-3c254501-50fc-402f-95da-bbf10d7b5e70 div.sk-item {z-index: 1;}#sk-3c254501-50fc-402f-95da-bbf10d7b5e70 div.sk-parallel {display: flex;align-items: stretch;justify-content: center;background-color: white;}#sk-3c254501-50fc-402f-95da-bbf10d7b5e70 div.sk-parallel::before {content: \"\";position: absolute;border-left: 1px solid gray;box-sizing: border-box;top: 2em;bottom: 0;left: 50%;}#sk-3c254501-50fc-402f-95da-bbf10d7b5e70 div.sk-parallel-item {display: flex;flex-direction: column;position: relative;background-color: white;}#sk-3c254501-50fc-402f-95da-bbf10d7b5e70 div.sk-parallel-item:first-child::after {align-self: flex-end;width: 50%;}#sk-3c254501-50fc-402f-95da-bbf10d7b5e70 div.sk-parallel-item:last-child::after {align-self: flex-start;width: 50%;}#sk-3c254501-50fc-402f-95da-bbf10d7b5e70 div.sk-parallel-item:only-child::after {width: 0;}#sk-3c254501-50fc-402f-95da-bbf10d7b5e70 div.sk-dashed-wrapped {border: 1px dashed gray;margin: 0 0.4em 0.5em 0.4em;box-sizing: border-box;padding-bottom: 0.4em;background-color: white;position: relative;}#sk-3c254501-50fc-402f-95da-bbf10d7b5e70 div.sk-label label {font-family: monospace;font-weight: bold;background-color: white;display: inline-block;line-height: 1.2em;}#sk-3c254501-50fc-402f-95da-bbf10d7b5e70 div.sk-label-container {position: relative;z-index: 2;text-align: center;}#sk-3c254501-50fc-402f-95da-bbf10d7b5e70 div.sk-container {/* jupyter's `normalize.less` sets `[hidden] { display: none; }` but bootstrap.min.css set `[hidden] { display: none !important; }` so we also need the `!important` here to be able to override the default hidden behavior on the sphinx rendered scikit-learn.org. See: https://github.com/scikit-learn/scikit-learn/issues/21755 */display: inline-block !important;position: relative;}#sk-3c254501-50fc-402f-95da-bbf10d7b5e70 div.sk-text-repr-fallback {display: none;}</style><div id=\"sk-3c254501-50fc-402f-95da-bbf10d7b5e70\" class=\"sk-top-container\"><div class=\"sk-text-repr-fallback\"><pre>Pipeline(steps=[(&#x27;columntransformer&#x27;,\n",
              "                 ColumnTransformer(remainder=Pipeline(steps=[(&#x27;simpleimputer&#x27;,\n",
              "                                                              SimpleImputer(strategy=&#x27;median&#x27;)),\n",
              "                                                             (&#x27;standardscaler&#x27;,\n",
              "                                                              StandardScaler())]),\n",
              "                                   transformers=[(&#x27;bedrooms&#x27;,\n",
              "                                                  Pipeline(steps=[(&#x27;simpleimputer&#x27;,\n",
              "                                                                   SimpleImputer(strategy=&#x27;median&#x27;)),\n",
              "                                                                  (&#x27;functiontransformer&#x27;,\n",
              "                                                                   FunctionTransformer(feature_names_out=&lt;function ratio_name at 0x7fa...\n",
              "                                                  [&#x27;total_rooms&#x27;,\n",
              "                                                   &#x27;households&#x27;]),\n",
              "                                                 (&#x27;geo&#x27;,\n",
              "                                                  ClusterSimilarity(random_state=42),\n",
              "                                                  [&#x27;latitude&#x27;, &#x27;longitude&#x27;]),\n",
              "                                                 (&#x27;cat&#x27;,\n",
              "                                                  Pipeline(steps=[(&#x27;simpleimputer&#x27;,\n",
              "                                                                   SimpleImputer(strategy=&#x27;most_frequent&#x27;)),\n",
              "                                                                  (&#x27;onehotencoder&#x27;,\n",
              "                                                                   OneHotEncoder(handle_unknown=&#x27;ignore&#x27;))]),\n",
              "                                                  &lt;sklearn.compose._column_transformer.make_column_selector object at 0x7fa33c0429a0&gt;)])),\n",
              "                (&#x27;linearregression&#x27;, LinearRegression())])</pre><b>Please rerun this cell to show the HTML repr or trust the notebook.</b></div><div class=\"sk-container\" hidden><div class=\"sk-item sk-dashed-wrapped\"><div class=\"sk-label-container\"><div class=\"sk-label sk-toggleable\"><input class=\"sk-toggleable__control sk-hidden--visually\" id=\"4fe34530-fdd6-434c-acb8-fb1a0446b171\" type=\"checkbox\" ><label for=\"4fe34530-fdd6-434c-acb8-fb1a0446b171\" class=\"sk-toggleable__label sk-toggleable__label-arrow\">Pipeline</label><div class=\"sk-toggleable__content\"><pre>Pipeline(steps=[(&#x27;columntransformer&#x27;,\n",
              "                 ColumnTransformer(remainder=Pipeline(steps=[(&#x27;simpleimputer&#x27;,\n",
              "                                                              SimpleImputer(strategy=&#x27;median&#x27;)),\n",
              "                                                             (&#x27;standardscaler&#x27;,\n",
              "                                                              StandardScaler())]),\n",
              "                                   transformers=[(&#x27;bedrooms&#x27;,\n",
              "                                                  Pipeline(steps=[(&#x27;simpleimputer&#x27;,\n",
              "                                                                   SimpleImputer(strategy=&#x27;median&#x27;)),\n",
              "                                                                  (&#x27;functiontransformer&#x27;,\n",
              "                                                                   FunctionTransformer(feature_names_out=&lt;function ratio_name at 0x7fa...\n",
              "                                                  [&#x27;total_rooms&#x27;,\n",
              "                                                   &#x27;households&#x27;]),\n",
              "                                                 (&#x27;geo&#x27;,\n",
              "                                                  ClusterSimilarity(random_state=42),\n",
              "                                                  [&#x27;latitude&#x27;, &#x27;longitude&#x27;]),\n",
              "                                                 (&#x27;cat&#x27;,\n",
              "                                                  Pipeline(steps=[(&#x27;simpleimputer&#x27;,\n",
              "                                                                   SimpleImputer(strategy=&#x27;most_frequent&#x27;)),\n",
              "                                                                  (&#x27;onehotencoder&#x27;,\n",
              "                                                                   OneHotEncoder(handle_unknown=&#x27;ignore&#x27;))]),\n",
              "                                                  &lt;sklearn.compose._column_transformer.make_column_selector object at 0x7fa33c0429a0&gt;)])),\n",
              "                (&#x27;linearregression&#x27;, LinearRegression())])</pre></div></div></div><div class=\"sk-serial\"><div class=\"sk-item sk-dashed-wrapped\"><div class=\"sk-label-container\"><div class=\"sk-label sk-toggleable\"><input class=\"sk-toggleable__control sk-hidden--visually\" id=\"3427a307-9479-4d50-9de4-74df0ecfef06\" type=\"checkbox\" ><label for=\"3427a307-9479-4d50-9de4-74df0ecfef06\" class=\"sk-toggleable__label sk-toggleable__label-arrow\">columntransformer: ColumnTransformer</label><div class=\"sk-toggleable__content\"><pre>ColumnTransformer(remainder=Pipeline(steps=[(&#x27;simpleimputer&#x27;,\n",
              "                                             SimpleImputer(strategy=&#x27;median&#x27;)),\n",
              "                                            (&#x27;standardscaler&#x27;,\n",
              "                                             StandardScaler())]),\n",
              "                  transformers=[(&#x27;bedrooms&#x27;,\n",
              "                                 Pipeline(steps=[(&#x27;simpleimputer&#x27;,\n",
              "                                                  SimpleImputer(strategy=&#x27;median&#x27;)),\n",
              "                                                 (&#x27;functiontransformer&#x27;,\n",
              "                                                  FunctionTransformer(feature_names_out=&lt;function ratio_name at 0x7fa33bee3b80&gt;,\n",
              "                                                                      func=&lt;function column_ratio...\n",
              "                                                 (&#x27;standardscaler&#x27;,\n",
              "                                                  StandardScaler())]),\n",
              "                                 [&#x27;total_rooms&#x27;, &#x27;households&#x27;]),\n",
              "                                (&#x27;geo&#x27;, ClusterSimilarity(random_state=42),\n",
              "                                 [&#x27;latitude&#x27;, &#x27;longitude&#x27;]),\n",
              "                                (&#x27;cat&#x27;,\n",
              "                                 Pipeline(steps=[(&#x27;simpleimputer&#x27;,\n",
              "                                                  SimpleImputer(strategy=&#x27;most_frequent&#x27;)),\n",
              "                                                 (&#x27;onehotencoder&#x27;,\n",
              "                                                  OneHotEncoder(handle_unknown=&#x27;ignore&#x27;))]),\n",
              "                                 &lt;sklearn.compose._column_transformer.make_column_selector object at 0x7fa33c0429a0&gt;)])</pre></div></div></div><div class=\"sk-parallel\"><div class=\"sk-parallel-item\"><div class=\"sk-item\"><div class=\"sk-label-container\"><div class=\"sk-label sk-toggleable\"><input class=\"sk-toggleable__control sk-hidden--visually\" id=\"11a870ba-58d9-4b06-8f9a-ccdd9ae817a1\" type=\"checkbox\" ><label for=\"11a870ba-58d9-4b06-8f9a-ccdd9ae817a1\" class=\"sk-toggleable__label sk-toggleable__label-arrow\">bedrooms</label><div class=\"sk-toggleable__content\"><pre>[&#x27;total_bedrooms&#x27;, &#x27;total_rooms&#x27;]</pre></div></div></div><div class=\"sk-serial\"><div class=\"sk-item\"><div class=\"sk-serial\"><div class=\"sk-item\"><div class=\"sk-estimator sk-toggleable\"><input class=\"sk-toggleable__control sk-hidden--visually\" id=\"3fefef42-9530-41d3-a86d-79e101835f76\" type=\"checkbox\" ><label for=\"3fefef42-9530-41d3-a86d-79e101835f76\" class=\"sk-toggleable__label sk-toggleable__label-arrow\">SimpleImputer</label><div class=\"sk-toggleable__content\"><pre>SimpleImputer(strategy=&#x27;median&#x27;)</pre></div></div></div><div class=\"sk-item\"><div class=\"sk-estimator sk-toggleable\"><input class=\"sk-toggleable__control sk-hidden--visually\" id=\"f0bb6643-c92e-42b8-955f-6d51cf8197d6\" type=\"checkbox\" ><label for=\"f0bb6643-c92e-42b8-955f-6d51cf8197d6\" class=\"sk-toggleable__label sk-toggleable__label-arrow\">FunctionTransformer</label><div class=\"sk-toggleable__content\"><pre>FunctionTransformer(feature_names_out=&lt;function ratio_name at 0x7fa33bee3b80&gt;,\n",
              "                    func=&lt;function column_ratio at 0x7fa33bee3820&gt;)</pre></div></div></div><div class=\"sk-item\"><div class=\"sk-estimator sk-toggleable\"><input class=\"sk-toggleable__control sk-hidden--visually\" id=\"cbec7f0c-93da-4d97-bd15-07f57f9ebc74\" type=\"checkbox\" ><label for=\"cbec7f0c-93da-4d97-bd15-07f57f9ebc74\" class=\"sk-toggleable__label sk-toggleable__label-arrow\">StandardScaler</label><div class=\"sk-toggleable__content\"><pre>StandardScaler()</pre></div></div></div></div></div></div></div></div><div class=\"sk-parallel-item\"><div class=\"sk-item\"><div class=\"sk-label-container\"><div class=\"sk-label sk-toggleable\"><input class=\"sk-toggleable__control sk-hidden--visually\" id=\"bf1a3a5f-ff79-4531-9637-2e3dc329d160\" type=\"checkbox\" ><label for=\"bf1a3a5f-ff79-4531-9637-2e3dc329d160\" class=\"sk-toggleable__label sk-toggleable__label-arrow\">rooms_per_house</label><div class=\"sk-toggleable__content\"><pre>[&#x27;total_rooms&#x27;, &#x27;households&#x27;]</pre></div></div></div><div class=\"sk-serial\"><div class=\"sk-item\"><div class=\"sk-serial\"><div class=\"sk-item\"><div class=\"sk-estimator sk-toggleable\"><input class=\"sk-toggleable__control sk-hidden--visually\" id=\"dd822363-094e-4de9-a2a6-bc7de5159db0\" type=\"checkbox\" ><label for=\"dd822363-094e-4de9-a2a6-bc7de5159db0\" class=\"sk-toggleable__label sk-toggleable__label-arrow\">SimpleImputer</label><div class=\"sk-toggleable__content\"><pre>SimpleImputer(strategy=&#x27;median&#x27;)</pre></div></div></div><div class=\"sk-item\"><div class=\"sk-estimator sk-toggleable\"><input class=\"sk-toggleable__control sk-hidden--visually\" id=\"ef0c23fc-c994-47c6-b819-a6b576d9d9c0\" type=\"checkbox\" ><label for=\"ef0c23fc-c994-47c6-b819-a6b576d9d9c0\" class=\"sk-toggleable__label sk-toggleable__label-arrow\">FunctionTransformer</label><div class=\"sk-toggleable__content\"><pre>FunctionTransformer(feature_names_out=&lt;function ratio_name at 0x7fa33bee3b80&gt;,\n",
              "                    func=&lt;function column_ratio at 0x7fa33bee3820&gt;)</pre></div></div></div><div class=\"sk-item\"><div class=\"sk-estimator sk-toggleable\"><input class=\"sk-toggleable__control sk-hidden--visually\" id=\"622c7d47-df3e-4bca-ae6f-56e0c139449f\" type=\"checkbox\" ><label for=\"622c7d47-df3e-4bca-ae6f-56e0c139449f\" class=\"sk-toggleable__label sk-toggleable__label-arrow\">StandardScaler</label><div class=\"sk-toggleable__content\"><pre>StandardScaler()</pre></div></div></div></div></div></div></div></div><div class=\"sk-parallel-item\"><div class=\"sk-item\"><div class=\"sk-label-container\"><div class=\"sk-label sk-toggleable\"><input class=\"sk-toggleable__control sk-hidden--visually\" id=\"e842536b-c11d-43a2-ac2a-8e1d6b280841\" type=\"checkbox\" ><label for=\"e842536b-c11d-43a2-ac2a-8e1d6b280841\" class=\"sk-toggleable__label sk-toggleable__label-arrow\">geo</label><div class=\"sk-toggleable__content\"><pre>[&#x27;latitude&#x27;, &#x27;longitude&#x27;]</pre></div></div></div><div class=\"sk-serial\"><div class=\"sk-item\"><div class=\"sk-estimator sk-toggleable\"><input class=\"sk-toggleable__control sk-hidden--visually\" id=\"08909fd1-e9f8-405b-acd1-497ec22d4ff5\" type=\"checkbox\" ><label for=\"08909fd1-e9f8-405b-acd1-497ec22d4ff5\" class=\"sk-toggleable__label sk-toggleable__label-arrow\">ClusterSimilarity</label><div class=\"sk-toggleable__content\"><pre>ClusterSimilarity(random_state=42)</pre></div></div></div></div></div></div><div class=\"sk-parallel-item\"><div class=\"sk-item\"><div class=\"sk-label-container\"><div class=\"sk-label sk-toggleable\"><input class=\"sk-toggleable__control sk-hidden--visually\" id=\"2e9256a6-e0b7-435a-a0e9-d79ed3cd2c98\" type=\"checkbox\" ><label for=\"2e9256a6-e0b7-435a-a0e9-d79ed3cd2c98\" class=\"sk-toggleable__label sk-toggleable__label-arrow\">cat</label><div class=\"sk-toggleable__content\"><pre>&lt;sklearn.compose._column_transformer.make_column_selector object at 0x7fa33c0429a0&gt;</pre></div></div></div><div class=\"sk-serial\"><div class=\"sk-item\"><div class=\"sk-serial\"><div class=\"sk-item\"><div class=\"sk-estimator sk-toggleable\"><input class=\"sk-toggleable__control sk-hidden--visually\" id=\"eeefa940-d6fd-4122-91f2-149a4a140f57\" type=\"checkbox\" ><label for=\"eeefa940-d6fd-4122-91f2-149a4a140f57\" class=\"sk-toggleable__label sk-toggleable__label-arrow\">SimpleImputer</label><div class=\"sk-toggleable__content\"><pre>SimpleImputer(strategy=&#x27;most_frequent&#x27;)</pre></div></div></div><div class=\"sk-item\"><div class=\"sk-estimator sk-toggleable\"><input class=\"sk-toggleable__control sk-hidden--visually\" id=\"2dcb0467-df52-4707-babd-1bb469c0aa86\" type=\"checkbox\" ><label for=\"2dcb0467-df52-4707-babd-1bb469c0aa86\" class=\"sk-toggleable__label sk-toggleable__label-arrow\">OneHotEncoder</label><div class=\"sk-toggleable__content\"><pre>OneHotEncoder(handle_unknown=&#x27;ignore&#x27;)</pre></div></div></div></div></div></div></div></div><div class=\"sk-parallel-item\"><div class=\"sk-item\"><div class=\"sk-label-container\"><div class=\"sk-label sk-toggleable\"><input class=\"sk-toggleable__control sk-hidden--visually\" id=\"ba9d86be-8d91-41b3-bdc7-4b6bff74e585\" type=\"checkbox\" ><label for=\"ba9d86be-8d91-41b3-bdc7-4b6bff74e585\" class=\"sk-toggleable__label sk-toggleable__label-arrow\">remainder</label><div class=\"sk-toggleable__content\"><pre>[&#x27;housing_median_age&#x27;, &#x27;population&#x27;, &#x27;median_income&#x27;]</pre></div></div></div><div class=\"sk-serial\"><div class=\"sk-item\"><div class=\"sk-serial\"><div class=\"sk-item\"><div class=\"sk-estimator sk-toggleable\"><input class=\"sk-toggleable__control sk-hidden--visually\" id=\"76f62f2f-0b81-4267-99e3-b0c8beab0495\" type=\"checkbox\" ><label for=\"76f62f2f-0b81-4267-99e3-b0c8beab0495\" class=\"sk-toggleable__label sk-toggleable__label-arrow\">SimpleImputer</label><div class=\"sk-toggleable__content\"><pre>SimpleImputer(strategy=&#x27;median&#x27;)</pre></div></div></div><div class=\"sk-item\"><div class=\"sk-estimator sk-toggleable\"><input class=\"sk-toggleable__control sk-hidden--visually\" id=\"37e094f3-a396-462c-8382-8bf7f3762fbf\" type=\"checkbox\" ><label for=\"37e094f3-a396-462c-8382-8bf7f3762fbf\" class=\"sk-toggleable__label sk-toggleable__label-arrow\">StandardScaler</label><div class=\"sk-toggleable__content\"><pre>StandardScaler()</pre></div></div></div></div></div></div></div></div></div></div><div class=\"sk-item\"><div class=\"sk-estimator sk-toggleable\"><input class=\"sk-toggleable__control sk-hidden--visually\" id=\"732b6427-32de-4368-b4fa-b6c9c3e1c5c3\" type=\"checkbox\" ><label for=\"732b6427-32de-4368-b4fa-b6c9c3e1c5c3\" class=\"sk-toggleable__label sk-toggleable__label-arrow\">LinearRegression</label><div class=\"sk-toggleable__content\"><pre>LinearRegression()</pre></div></div></div></div></div></div></div>"
            ]
          },
          "metadata": {},
          "execution_count": 111
        }
      ]
    },
    {
      "cell_type": "code",
      "source": [],
      "metadata": {
        "id": "B0jrJ7AJ-HK8"
      },
      "execution_count": null,
      "outputs": []
    },
    {
      "cell_type": "code",
      "source": [
        "# out-of-the-main-theme\n",
        "# default constructor\n",
        "\n",
        "class DefCon:\n",
        "  def __init__(self):\n",
        "    self.construct = 1 + 2  # toto se provede\n",
        "\n",
        "  # a method for printing data members\n",
        "  def print_constructor(self):\n",
        "    print(self.construct)\n",
        "\n",
        "# creating objects of the class\n",
        "obj = DefCon()\n",
        "\n",
        "# calling the instance method using the object obj\n",
        "print(obj)\n",
        "obj.print_constructor()"
      ],
      "metadata": {
        "colab": {
          "base_uri": "https://localhost:8080/"
        },
        "id": "NBtbdoezuJZE",
        "outputId": "9383d096-f602-4bae-cc4c-2504b081a354"
      },
      "execution_count": null,
      "outputs": [
        {
          "output_type": "stream",
          "name": "stdout",
          "text": [
            "<__main__.DefCon object at 0x7fa33c71d520>\n",
            "3\n"
          ]
        }
      ]
    },
    {
      "cell_type": "code",
      "source": [
        "# out-of-the-main-theme\n",
        "# parameterized constructor\n",
        "\n",
        "class Addition:\n",
        "  \"\"\"an aexample class\"\"\" # __doc__ docstring\n",
        "  first = 0\n",
        "  second = 0\n",
        "  answer = 0\n",
        "\n",
        "  # parameterized constructor\n",
        "  def __init__(self, f, s):\n",
        "    self.first = f\n",
        "    self.second = s\n",
        "\n",
        "  def display(self):\n",
        "    print(\"First number = \" + str(self.first))\n",
        "    print(\"Second number = \" + str(self.second))\n",
        "    print(\"Addition of two numbers = \" + str(self.answer))\n",
        "\n",
        "  def calculate(self):    # a function object\n",
        "    self.answer = self.first + self.second\n",
        "\n",
        "obj1 = Addition(100,200)\n",
        "\n",
        "#perform Addition on object obj1\n",
        "obj1.calculate()\n",
        "obj1.display()\n",
        "obj1.first\n",
        "obj1.second"
      ],
      "metadata": {
        "colab": {
          "base_uri": "https://localhost:8080/"
        },
        "id": "bnFJt2cqx8fk",
        "outputId": "f419c8f3-85fd-4f3d-8364-bba73c1c07a2"
      },
      "execution_count": null,
      "outputs": [
        {
          "output_type": "stream",
          "name": "stdout",
          "text": [
            "First number = 100\n",
            "Second number = 200\n",
            "Addition of two numbers = 300\n"
          ]
        },
        {
          "output_type": "execute_result",
          "data": {
            "text/plain": [
              "200"
            ]
          },
          "metadata": {},
          "execution_count": 113
        }
      ]
    },
    {
      "cell_type": "markdown",
      "source": [
        "---\n",
        "\n",
        "**Classes**\n",
        "\n",
        "adapted from [python.org](https://docs.python.org/3/tutorial/classes.html#)\n"
      ],
      "metadata": {
        "id": "RbnQuoTFw16v"
      }
    },
    {
      "cell_type": "markdown",
      "source": [
        "A class is a new type of object allowing new instances to be made. Each instance can have attributes attached to it.\n",
        "Class instance can also have methods.\n",
        "\n",
        "Objects have individuality.\n",
        "Alias - pointers.\n",
        "Namespace - mapping from names to objects.\n",
        "Most namespaces are currently implemented as Python dictionairies.\n",
        "Class objects support two types of operations - class instantiation and attribute references (obj.name).\n",
        "\n",
        "Class instantiation uses a fucntion notation pretending that the class object is a parametereless function that return a new instance of the class.\n",
        "\n",
        "\n",
        "Eg. x = MyClass() creates a new isntance of the class and assings this object to the local variable x. The isntantiation operation - calling a class object creates an empty object.\n",
        "A class may define a special method __init__() for the newly created class instance. Instances customized to specific initial state. When a class defines an init method, class instantiation invokes init for the newly created class instance.   \n",
        "\n",
        "Instance objects\n",
        "The only operations understood by instance objects are attribute references. There are two types of valid attribute names: data attributes and methods. They spring into existence when tere are first assigned to.\n",
        "A method of class instance objects.\n",
        "\n",
        "Classes are not usable to implement pure abstract data types.\n",
        "\n",
        "Python has two built-in function tath work with inheritance. Base class and derived class. isinstance(obj, int) to check the instance's type. Issubclass() to check the class inheritance.\n",
        "\n"
      ],
      "metadata": {
        "id": "xNjZB2WDyGlm"
      }
    },
    {
      "cell_type": "code",
      "source": [
        "class Dog:\n",
        "  kind = \"canine\"           # class variable shared by all instances\n",
        "  # tricks = []             # a bad design,\n",
        "  def __init__(self, name):\n",
        "    self.name = name        # instsnce variable unique to each instance\n",
        "    self.tricks = []        # uses an instance variable, create a unique list for each dog\n",
        "  def add_trick(self, trick):\n",
        "    self.tricks.append(trick)\n",
        "\n",
        "\n",
        "d = Dog(\"Rosalie\")\n",
        "e = Dog(\"Unknown gentleman\")\n",
        "d.add_trick(\"roll over\")\n",
        "e.add_trick(\"apport\")\n",
        "d.kind    # shared by all dogs\n",
        "d.name    # unique to d\n",
        "d.tricks\n",
        "e.tricks"
      ],
      "metadata": {
        "colab": {
          "base_uri": "https://localhost:8080/"
        },
        "id": "sEuCb6ef_XK8",
        "outputId": "600d47ae-216a-4287-dc6d-4ee262c6682f"
      },
      "execution_count": null,
      "outputs": [
        {
          "output_type": "execute_result",
          "data": {
            "text/plain": [
              "['apport']"
            ]
          },
          "metadata": {},
          "execution_count": 114
        }
      ]
    },
    {
      "cell_type": "code",
      "source": [
        "# generator\n",
        "def reverse(data):\n",
        "    for index in range(len(data)-1, -1, -1):\n",
        "        yield data[index]\n",
        "\n",
        "# print(list(reverse(housing))) nefunguje!!!"
      ],
      "metadata": {
        "id": "dWiIdzJKFDJt"
      },
      "execution_count": null,
      "outputs": []
    },
    {
      "cell_type": "code",
      "source": [],
      "metadata": {
        "id": "qu5uQZC58_WZ"
      },
      "execution_count": null,
      "outputs": []
    },
    {
      "cell_type": "code",
      "source": [
        "# the iterator protocol; adding the iterator behaviour to my class\n",
        "class Reverse:\n",
        "  \"\"\"Iterator or looping over a sequence backwards\"\"\"\n",
        "  def __init__(self, data):\n",
        "    self.data = data\n",
        "    self.index = len(data)\n",
        "  def __iter__(self):\n",
        "    return self\n",
        "  def __next__(self):\n",
        "    if self.index == 0:\n",
        "      raise StopIteration\n",
        "    self.index = self.index - 1\n",
        "    return self.data[self.index]"
      ],
      "metadata": {
        "id": "Z88HrAVcF-1p"
      },
      "execution_count": null,
      "outputs": []
    },
    {
      "cell_type": "code",
      "source": [
        "# testing the full preprocessing pipeline on a few training instances\n",
        "housing_predictions = lin_reg.predict(housing)\n",
        "housing_predictions[:5].round(-2) #-2 rounded to the nearest hundred"
      ],
      "metadata": {
        "colab": {
          "base_uri": "https://localhost:8080/"
        },
        "id": "MUgmZ8R_9Ai2",
        "outputId": "8b9aef83-9c3d-410f-a34d-2c81e0b4ff02"
      },
      "execution_count": null,
      "outputs": [
        {
          "output_type": "execute_result",
          "data": {
            "text/plain": [
              "array([190100., 329700., 129300.,  68500., 256900.])"
            ]
          },
          "metadata": {},
          "execution_count": 117
        }
      ]
    },
    {
      "cell_type": "code",
      "source": [
        "# comparing against the actual values\n",
        "housing_labels.iloc[:5].values"
      ],
      "metadata": {
        "colab": {
          "base_uri": "https://localhost:8080/"
        },
        "id": "u6RFFLob-IMM",
        "outputId": "ef03d4ad-0ba4-4c8d-eed6-f09584a09d3d"
      },
      "execution_count": null,
      "outputs": [
        {
          "output_type": "execute_result",
          "data": {
            "text/plain": [
              "array([458300., 483800., 101700.,  96100., 361800.])"
            ]
          },
          "metadata": {},
          "execution_count": 118
        }
      ]
    },
    {
      "cell_type": "code",
      "source": [
        "# extra code - computer the error ratios discussed in the book\n",
        "error_ratios = housing_predictions[:5].round(-2) / housing_labels.iloc[:5].values - 1\n",
        "print(\", \".join([f\"{100 * ratio:.1f}%\" for ratio in error_ratios]))"
      ],
      "metadata": {
        "colab": {
          "base_uri": "https://localhost:8080/"
        },
        "id": "1zyUfm4B-mSv",
        "outputId": "587b0b9b-0d07-4e17-9822-5d05158eaf94"
      },
      "execution_count": null,
      "outputs": [
        {
          "output_type": "stream",
          "name": "stdout",
          "text": [
            "-58.5%, -31.9%, 27.1%, -28.7%, -29.0%\n"
          ]
        }
      ]
    },
    {
      "cell_type": "code",
      "source": [
        "from sklearn.metrics import mean_squared_error\n",
        "lin_rmse = mean_squared_error(housing_labels, housing_predictions, squared=False)\n",
        "lin_rmse"
      ],
      "metadata": {
        "colab": {
          "base_uri": "https://localhost:8080/"
        },
        "id": "oCAYGm-a_bGm",
        "outputId": "b3124129-371d-4904-cc1f-1e1edab1cd32"
      },
      "execution_count": null,
      "outputs": [
        {
          "output_type": "execute_result",
          "data": {
            "text/plain": [
              "70366.81674906712"
            ]
          },
          "metadata": {},
          "execution_count": 123
        }
      ]
    },
    {
      "cell_type": "code",
      "source": [
        "from sklearn.tree import DecisionTreeRegressor\n",
        "tree_reg = make_pipeline(preprocessing, DecisionTreeRegressor(random_state=42))\n",
        "tree_reg.fit(housing, housing_labels)"
      ],
      "metadata": {
        "colab": {
          "base_uri": "https://localhost:8080/",
          "height": 279
        },
        "id": "rp3GNEZr_vtB",
        "outputId": "595433f7-4290-4238-f7cc-0d795603bf0d"
      },
      "execution_count": null,
      "outputs": [
        {
          "output_type": "execute_result",
          "data": {
            "text/plain": [
              "Pipeline(steps=[('columntransformer',\n",
              "                 ColumnTransformer(remainder=Pipeline(steps=[('simpleimputer',\n",
              "                                                              SimpleImputer(strategy='median')),\n",
              "                                                             ('standardscaler',\n",
              "                                                              StandardScaler())]),\n",
              "                                   transformers=[('bedrooms',\n",
              "                                                  Pipeline(steps=[('simpleimputer',\n",
              "                                                                   SimpleImputer(strategy='median')),\n",
              "                                                                  ('functiontransformer',\n",
              "                                                                   FunctionTransformer(feature_names_out=<function ratio_name at 0x7fa...\n",
              "                                                  ClusterSimilarity(random_state=42),\n",
              "                                                  ['latitude', 'longitude']),\n",
              "                                                 ('cat',\n",
              "                                                  Pipeline(steps=[('simpleimputer',\n",
              "                                                                   SimpleImputer(strategy='most_frequent')),\n",
              "                                                                  ('onehotencoder',\n",
              "                                                                   OneHotEncoder(handle_unknown='ignore'))]),\n",
              "                                                  <sklearn.compose._column_transformer.make_column_selector object at 0x7fa33c0429a0>)])),\n",
              "                ('decisiontreeregressor',\n",
              "                 DecisionTreeRegressor(random_state=42))])"
            ],
            "text/html": [
              "<style>#sk-55b8db52-10b4-49b3-a785-ea7ab5015347 {color: black;background-color: white;}#sk-55b8db52-10b4-49b3-a785-ea7ab5015347 pre{padding: 0;}#sk-55b8db52-10b4-49b3-a785-ea7ab5015347 div.sk-toggleable {background-color: white;}#sk-55b8db52-10b4-49b3-a785-ea7ab5015347 label.sk-toggleable__label {cursor: pointer;display: block;width: 100%;margin-bottom: 0;padding: 0.3em;box-sizing: border-box;text-align: center;}#sk-55b8db52-10b4-49b3-a785-ea7ab5015347 label.sk-toggleable__label-arrow:before {content: \"▸\";float: left;margin-right: 0.25em;color: #696969;}#sk-55b8db52-10b4-49b3-a785-ea7ab5015347 label.sk-toggleable__label-arrow:hover:before {color: black;}#sk-55b8db52-10b4-49b3-a785-ea7ab5015347 div.sk-estimator:hover label.sk-toggleable__label-arrow:before {color: black;}#sk-55b8db52-10b4-49b3-a785-ea7ab5015347 div.sk-toggleable__content {max-height: 0;max-width: 0;overflow: hidden;text-align: left;background-color: #f0f8ff;}#sk-55b8db52-10b4-49b3-a785-ea7ab5015347 div.sk-toggleable__content pre {margin: 0.2em;color: black;border-radius: 0.25em;background-color: #f0f8ff;}#sk-55b8db52-10b4-49b3-a785-ea7ab5015347 input.sk-toggleable__control:checked~div.sk-toggleable__content {max-height: 200px;max-width: 100%;overflow: auto;}#sk-55b8db52-10b4-49b3-a785-ea7ab5015347 input.sk-toggleable__control:checked~label.sk-toggleable__label-arrow:before {content: \"▾\";}#sk-55b8db52-10b4-49b3-a785-ea7ab5015347 div.sk-estimator input.sk-toggleable__control:checked~label.sk-toggleable__label {background-color: #d4ebff;}#sk-55b8db52-10b4-49b3-a785-ea7ab5015347 div.sk-label input.sk-toggleable__control:checked~label.sk-toggleable__label {background-color: #d4ebff;}#sk-55b8db52-10b4-49b3-a785-ea7ab5015347 input.sk-hidden--visually {border: 0;clip: rect(1px 1px 1px 1px);clip: rect(1px, 1px, 1px, 1px);height: 1px;margin: -1px;overflow: hidden;padding: 0;position: absolute;width: 1px;}#sk-55b8db52-10b4-49b3-a785-ea7ab5015347 div.sk-estimator {font-family: monospace;background-color: #f0f8ff;border: 1px dotted black;border-radius: 0.25em;box-sizing: border-box;margin-bottom: 0.5em;}#sk-55b8db52-10b4-49b3-a785-ea7ab5015347 div.sk-estimator:hover {background-color: #d4ebff;}#sk-55b8db52-10b4-49b3-a785-ea7ab5015347 div.sk-parallel-item::after {content: \"\";width: 100%;border-bottom: 1px solid gray;flex-grow: 1;}#sk-55b8db52-10b4-49b3-a785-ea7ab5015347 div.sk-label:hover label.sk-toggleable__label {background-color: #d4ebff;}#sk-55b8db52-10b4-49b3-a785-ea7ab5015347 div.sk-serial::before {content: \"\";position: absolute;border-left: 1px solid gray;box-sizing: border-box;top: 2em;bottom: 0;left: 50%;}#sk-55b8db52-10b4-49b3-a785-ea7ab5015347 div.sk-serial {display: flex;flex-direction: column;align-items: center;background-color: white;padding-right: 0.2em;padding-left: 0.2em;}#sk-55b8db52-10b4-49b3-a785-ea7ab5015347 div.sk-item {z-index: 1;}#sk-55b8db52-10b4-49b3-a785-ea7ab5015347 div.sk-parallel {display: flex;align-items: stretch;justify-content: center;background-color: white;}#sk-55b8db52-10b4-49b3-a785-ea7ab5015347 div.sk-parallel::before {content: \"\";position: absolute;border-left: 1px solid gray;box-sizing: border-box;top: 2em;bottom: 0;left: 50%;}#sk-55b8db52-10b4-49b3-a785-ea7ab5015347 div.sk-parallel-item {display: flex;flex-direction: column;position: relative;background-color: white;}#sk-55b8db52-10b4-49b3-a785-ea7ab5015347 div.sk-parallel-item:first-child::after {align-self: flex-end;width: 50%;}#sk-55b8db52-10b4-49b3-a785-ea7ab5015347 div.sk-parallel-item:last-child::after {align-self: flex-start;width: 50%;}#sk-55b8db52-10b4-49b3-a785-ea7ab5015347 div.sk-parallel-item:only-child::after {width: 0;}#sk-55b8db52-10b4-49b3-a785-ea7ab5015347 div.sk-dashed-wrapped {border: 1px dashed gray;margin: 0 0.4em 0.5em 0.4em;box-sizing: border-box;padding-bottom: 0.4em;background-color: white;position: relative;}#sk-55b8db52-10b4-49b3-a785-ea7ab5015347 div.sk-label label {font-family: monospace;font-weight: bold;background-color: white;display: inline-block;line-height: 1.2em;}#sk-55b8db52-10b4-49b3-a785-ea7ab5015347 div.sk-label-container {position: relative;z-index: 2;text-align: center;}#sk-55b8db52-10b4-49b3-a785-ea7ab5015347 div.sk-container {/* jupyter's `normalize.less` sets `[hidden] { display: none; }` but bootstrap.min.css set `[hidden] { display: none !important; }` so we also need the `!important` here to be able to override the default hidden behavior on the sphinx rendered scikit-learn.org. See: https://github.com/scikit-learn/scikit-learn/issues/21755 */display: inline-block !important;position: relative;}#sk-55b8db52-10b4-49b3-a785-ea7ab5015347 div.sk-text-repr-fallback {display: none;}</style><div id=\"sk-55b8db52-10b4-49b3-a785-ea7ab5015347\" class=\"sk-top-container\"><div class=\"sk-text-repr-fallback\"><pre>Pipeline(steps=[(&#x27;columntransformer&#x27;,\n",
              "                 ColumnTransformer(remainder=Pipeline(steps=[(&#x27;simpleimputer&#x27;,\n",
              "                                                              SimpleImputer(strategy=&#x27;median&#x27;)),\n",
              "                                                             (&#x27;standardscaler&#x27;,\n",
              "                                                              StandardScaler())]),\n",
              "                                   transformers=[(&#x27;bedrooms&#x27;,\n",
              "                                                  Pipeline(steps=[(&#x27;simpleimputer&#x27;,\n",
              "                                                                   SimpleImputer(strategy=&#x27;median&#x27;)),\n",
              "                                                                  (&#x27;functiontransformer&#x27;,\n",
              "                                                                   FunctionTransformer(feature_names_out=&lt;function ratio_name at 0x7fa...\n",
              "                                                  ClusterSimilarity(random_state=42),\n",
              "                                                  [&#x27;latitude&#x27;, &#x27;longitude&#x27;]),\n",
              "                                                 (&#x27;cat&#x27;,\n",
              "                                                  Pipeline(steps=[(&#x27;simpleimputer&#x27;,\n",
              "                                                                   SimpleImputer(strategy=&#x27;most_frequent&#x27;)),\n",
              "                                                                  (&#x27;onehotencoder&#x27;,\n",
              "                                                                   OneHotEncoder(handle_unknown=&#x27;ignore&#x27;))]),\n",
              "                                                  &lt;sklearn.compose._column_transformer.make_column_selector object at 0x7fa33c0429a0&gt;)])),\n",
              "                (&#x27;decisiontreeregressor&#x27;,\n",
              "                 DecisionTreeRegressor(random_state=42))])</pre><b>Please rerun this cell to show the HTML repr or trust the notebook.</b></div><div class=\"sk-container\" hidden><div class=\"sk-item sk-dashed-wrapped\"><div class=\"sk-label-container\"><div class=\"sk-label sk-toggleable\"><input class=\"sk-toggleable__control sk-hidden--visually\" id=\"7662f94a-4ac8-4908-b9ed-78fd5e6c7923\" type=\"checkbox\" ><label for=\"7662f94a-4ac8-4908-b9ed-78fd5e6c7923\" class=\"sk-toggleable__label sk-toggleable__label-arrow\">Pipeline</label><div class=\"sk-toggleable__content\"><pre>Pipeline(steps=[(&#x27;columntransformer&#x27;,\n",
              "                 ColumnTransformer(remainder=Pipeline(steps=[(&#x27;simpleimputer&#x27;,\n",
              "                                                              SimpleImputer(strategy=&#x27;median&#x27;)),\n",
              "                                                             (&#x27;standardscaler&#x27;,\n",
              "                                                              StandardScaler())]),\n",
              "                                   transformers=[(&#x27;bedrooms&#x27;,\n",
              "                                                  Pipeline(steps=[(&#x27;simpleimputer&#x27;,\n",
              "                                                                   SimpleImputer(strategy=&#x27;median&#x27;)),\n",
              "                                                                  (&#x27;functiontransformer&#x27;,\n",
              "                                                                   FunctionTransformer(feature_names_out=&lt;function ratio_name at 0x7fa...\n",
              "                                                  ClusterSimilarity(random_state=42),\n",
              "                                                  [&#x27;latitude&#x27;, &#x27;longitude&#x27;]),\n",
              "                                                 (&#x27;cat&#x27;,\n",
              "                                                  Pipeline(steps=[(&#x27;simpleimputer&#x27;,\n",
              "                                                                   SimpleImputer(strategy=&#x27;most_frequent&#x27;)),\n",
              "                                                                  (&#x27;onehotencoder&#x27;,\n",
              "                                                                   OneHotEncoder(handle_unknown=&#x27;ignore&#x27;))]),\n",
              "                                                  &lt;sklearn.compose._column_transformer.make_column_selector object at 0x7fa33c0429a0&gt;)])),\n",
              "                (&#x27;decisiontreeregressor&#x27;,\n",
              "                 DecisionTreeRegressor(random_state=42))])</pre></div></div></div><div class=\"sk-serial\"><div class=\"sk-item sk-dashed-wrapped\"><div class=\"sk-label-container\"><div class=\"sk-label sk-toggleable\"><input class=\"sk-toggleable__control sk-hidden--visually\" id=\"147d6901-1365-4b52-853b-a15bead66c64\" type=\"checkbox\" ><label for=\"147d6901-1365-4b52-853b-a15bead66c64\" class=\"sk-toggleable__label sk-toggleable__label-arrow\">columntransformer: ColumnTransformer</label><div class=\"sk-toggleable__content\"><pre>ColumnTransformer(remainder=Pipeline(steps=[(&#x27;simpleimputer&#x27;,\n",
              "                                             SimpleImputer(strategy=&#x27;median&#x27;)),\n",
              "                                            (&#x27;standardscaler&#x27;,\n",
              "                                             StandardScaler())]),\n",
              "                  transformers=[(&#x27;bedrooms&#x27;,\n",
              "                                 Pipeline(steps=[(&#x27;simpleimputer&#x27;,\n",
              "                                                  SimpleImputer(strategy=&#x27;median&#x27;)),\n",
              "                                                 (&#x27;functiontransformer&#x27;,\n",
              "                                                  FunctionTransformer(feature_names_out=&lt;function ratio_name at 0x7fa33bee3b80&gt;,\n",
              "                                                                      func=&lt;function column_ratio...\n",
              "                                                 (&#x27;standardscaler&#x27;,\n",
              "                                                  StandardScaler())]),\n",
              "                                 [&#x27;total_rooms&#x27;, &#x27;households&#x27;]),\n",
              "                                (&#x27;geo&#x27;, ClusterSimilarity(random_state=42),\n",
              "                                 [&#x27;latitude&#x27;, &#x27;longitude&#x27;]),\n",
              "                                (&#x27;cat&#x27;,\n",
              "                                 Pipeline(steps=[(&#x27;simpleimputer&#x27;,\n",
              "                                                  SimpleImputer(strategy=&#x27;most_frequent&#x27;)),\n",
              "                                                 (&#x27;onehotencoder&#x27;,\n",
              "                                                  OneHotEncoder(handle_unknown=&#x27;ignore&#x27;))]),\n",
              "                                 &lt;sklearn.compose._column_transformer.make_column_selector object at 0x7fa33c0429a0&gt;)])</pre></div></div></div><div class=\"sk-parallel\"><div class=\"sk-parallel-item\"><div class=\"sk-item\"><div class=\"sk-label-container\"><div class=\"sk-label sk-toggleable\"><input class=\"sk-toggleable__control sk-hidden--visually\" id=\"e395bbf1-0fbf-4790-9e7f-9f807cea6c64\" type=\"checkbox\" ><label for=\"e395bbf1-0fbf-4790-9e7f-9f807cea6c64\" class=\"sk-toggleable__label sk-toggleable__label-arrow\">bedrooms</label><div class=\"sk-toggleable__content\"><pre>[&#x27;total_bedrooms&#x27;, &#x27;total_rooms&#x27;]</pre></div></div></div><div class=\"sk-serial\"><div class=\"sk-item\"><div class=\"sk-serial\"><div class=\"sk-item\"><div class=\"sk-estimator sk-toggleable\"><input class=\"sk-toggleable__control sk-hidden--visually\" id=\"e71cabba-3683-42c5-b7f5-af2599dcddce\" type=\"checkbox\" ><label for=\"e71cabba-3683-42c5-b7f5-af2599dcddce\" class=\"sk-toggleable__label sk-toggleable__label-arrow\">SimpleImputer</label><div class=\"sk-toggleable__content\"><pre>SimpleImputer(strategy=&#x27;median&#x27;)</pre></div></div></div><div class=\"sk-item\"><div class=\"sk-estimator sk-toggleable\"><input class=\"sk-toggleable__control sk-hidden--visually\" id=\"84f165e9-3c56-4ab7-a561-52aadee35389\" type=\"checkbox\" ><label for=\"84f165e9-3c56-4ab7-a561-52aadee35389\" class=\"sk-toggleable__label sk-toggleable__label-arrow\">FunctionTransformer</label><div class=\"sk-toggleable__content\"><pre>FunctionTransformer(feature_names_out=&lt;function ratio_name at 0x7fa33bee3b80&gt;,\n",
              "                    func=&lt;function column_ratio at 0x7fa33bee3820&gt;)</pre></div></div></div><div class=\"sk-item\"><div class=\"sk-estimator sk-toggleable\"><input class=\"sk-toggleable__control sk-hidden--visually\" id=\"b5d8299a-2afc-4f2f-afcc-e27836598edd\" type=\"checkbox\" ><label for=\"b5d8299a-2afc-4f2f-afcc-e27836598edd\" class=\"sk-toggleable__label sk-toggleable__label-arrow\">StandardScaler</label><div class=\"sk-toggleable__content\"><pre>StandardScaler()</pre></div></div></div></div></div></div></div></div><div class=\"sk-parallel-item\"><div class=\"sk-item\"><div class=\"sk-label-container\"><div class=\"sk-label sk-toggleable\"><input class=\"sk-toggleable__control sk-hidden--visually\" id=\"1b807c1b-fdc9-477c-be93-a4f665378386\" type=\"checkbox\" ><label for=\"1b807c1b-fdc9-477c-be93-a4f665378386\" class=\"sk-toggleable__label sk-toggleable__label-arrow\">rooms_per_house</label><div class=\"sk-toggleable__content\"><pre>[&#x27;total_rooms&#x27;, &#x27;households&#x27;]</pre></div></div></div><div class=\"sk-serial\"><div class=\"sk-item\"><div class=\"sk-serial\"><div class=\"sk-item\"><div class=\"sk-estimator sk-toggleable\"><input class=\"sk-toggleable__control sk-hidden--visually\" id=\"92c37bd6-b902-4655-96a8-a39bc1b17fe3\" type=\"checkbox\" ><label for=\"92c37bd6-b902-4655-96a8-a39bc1b17fe3\" class=\"sk-toggleable__label sk-toggleable__label-arrow\">SimpleImputer</label><div class=\"sk-toggleable__content\"><pre>SimpleImputer(strategy=&#x27;median&#x27;)</pre></div></div></div><div class=\"sk-item\"><div class=\"sk-estimator sk-toggleable\"><input class=\"sk-toggleable__control sk-hidden--visually\" id=\"7ae8a604-43f8-4894-b73f-c73c7bcbbbdf\" type=\"checkbox\" ><label for=\"7ae8a604-43f8-4894-b73f-c73c7bcbbbdf\" class=\"sk-toggleable__label sk-toggleable__label-arrow\">FunctionTransformer</label><div class=\"sk-toggleable__content\"><pre>FunctionTransformer(feature_names_out=&lt;function ratio_name at 0x7fa33bee3b80&gt;,\n",
              "                    func=&lt;function column_ratio at 0x7fa33bee3820&gt;)</pre></div></div></div><div class=\"sk-item\"><div class=\"sk-estimator sk-toggleable\"><input class=\"sk-toggleable__control sk-hidden--visually\" id=\"edddcc06-6314-4984-aae2-966cca71005c\" type=\"checkbox\" ><label for=\"edddcc06-6314-4984-aae2-966cca71005c\" class=\"sk-toggleable__label sk-toggleable__label-arrow\">StandardScaler</label><div class=\"sk-toggleable__content\"><pre>StandardScaler()</pre></div></div></div></div></div></div></div></div><div class=\"sk-parallel-item\"><div class=\"sk-item\"><div class=\"sk-label-container\"><div class=\"sk-label sk-toggleable\"><input class=\"sk-toggleable__control sk-hidden--visually\" id=\"6cde40e7-580e-4cb2-b785-4f4ac8193179\" type=\"checkbox\" ><label for=\"6cde40e7-580e-4cb2-b785-4f4ac8193179\" class=\"sk-toggleable__label sk-toggleable__label-arrow\">geo</label><div class=\"sk-toggleable__content\"><pre>[&#x27;latitude&#x27;, &#x27;longitude&#x27;]</pre></div></div></div><div class=\"sk-serial\"><div class=\"sk-item\"><div class=\"sk-estimator sk-toggleable\"><input class=\"sk-toggleable__control sk-hidden--visually\" id=\"06f8cf78-9585-4494-b90f-0f53b9d8ca54\" type=\"checkbox\" ><label for=\"06f8cf78-9585-4494-b90f-0f53b9d8ca54\" class=\"sk-toggleable__label sk-toggleable__label-arrow\">ClusterSimilarity</label><div class=\"sk-toggleable__content\"><pre>ClusterSimilarity(random_state=42)</pre></div></div></div></div></div></div><div class=\"sk-parallel-item\"><div class=\"sk-item\"><div class=\"sk-label-container\"><div class=\"sk-label sk-toggleable\"><input class=\"sk-toggleable__control sk-hidden--visually\" id=\"d8aa4129-4e16-4a8e-a796-c7d4152a1e15\" type=\"checkbox\" ><label for=\"d8aa4129-4e16-4a8e-a796-c7d4152a1e15\" class=\"sk-toggleable__label sk-toggleable__label-arrow\">cat</label><div class=\"sk-toggleable__content\"><pre>&lt;sklearn.compose._column_transformer.make_column_selector object at 0x7fa33c0429a0&gt;</pre></div></div></div><div class=\"sk-serial\"><div class=\"sk-item\"><div class=\"sk-serial\"><div class=\"sk-item\"><div class=\"sk-estimator sk-toggleable\"><input class=\"sk-toggleable__control sk-hidden--visually\" id=\"ccbfabe9-edc5-4f9a-be3f-9f945cdbefe2\" type=\"checkbox\" ><label for=\"ccbfabe9-edc5-4f9a-be3f-9f945cdbefe2\" class=\"sk-toggleable__label sk-toggleable__label-arrow\">SimpleImputer</label><div class=\"sk-toggleable__content\"><pre>SimpleImputer(strategy=&#x27;most_frequent&#x27;)</pre></div></div></div><div class=\"sk-item\"><div class=\"sk-estimator sk-toggleable\"><input class=\"sk-toggleable__control sk-hidden--visually\" id=\"68e52d1d-55ba-4784-bbcd-548329cbf4ae\" type=\"checkbox\" ><label for=\"68e52d1d-55ba-4784-bbcd-548329cbf4ae\" class=\"sk-toggleable__label sk-toggleable__label-arrow\">OneHotEncoder</label><div class=\"sk-toggleable__content\"><pre>OneHotEncoder(handle_unknown=&#x27;ignore&#x27;)</pre></div></div></div></div></div></div></div></div><div class=\"sk-parallel-item\"><div class=\"sk-item\"><div class=\"sk-label-container\"><div class=\"sk-label sk-toggleable\"><input class=\"sk-toggleable__control sk-hidden--visually\" id=\"a49246a5-c0f3-4c90-bbc0-24489ad1a096\" type=\"checkbox\" ><label for=\"a49246a5-c0f3-4c90-bbc0-24489ad1a096\" class=\"sk-toggleable__label sk-toggleable__label-arrow\">remainder</label><div class=\"sk-toggleable__content\"><pre>[&#x27;housing_median_age&#x27;, &#x27;population&#x27;, &#x27;median_income&#x27;]</pre></div></div></div><div class=\"sk-serial\"><div class=\"sk-item\"><div class=\"sk-serial\"><div class=\"sk-item\"><div class=\"sk-estimator sk-toggleable\"><input class=\"sk-toggleable__control sk-hidden--visually\" id=\"8fc9b1c1-52ff-4cec-8154-0c592e6a6578\" type=\"checkbox\" ><label for=\"8fc9b1c1-52ff-4cec-8154-0c592e6a6578\" class=\"sk-toggleable__label sk-toggleable__label-arrow\">SimpleImputer</label><div class=\"sk-toggleable__content\"><pre>SimpleImputer(strategy=&#x27;median&#x27;)</pre></div></div></div><div class=\"sk-item\"><div class=\"sk-estimator sk-toggleable\"><input class=\"sk-toggleable__control sk-hidden--visually\" id=\"05cb5d59-d15a-4a21-ace6-88737c776b15\" type=\"checkbox\" ><label for=\"05cb5d59-d15a-4a21-ace6-88737c776b15\" class=\"sk-toggleable__label sk-toggleable__label-arrow\">StandardScaler</label><div class=\"sk-toggleable__content\"><pre>StandardScaler()</pre></div></div></div></div></div></div></div></div></div></div><div class=\"sk-item\"><div class=\"sk-estimator sk-toggleable\"><input class=\"sk-toggleable__control sk-hidden--visually\" id=\"bcb85f83-e226-4251-b4c9-980dfd7961fb\" type=\"checkbox\" ><label for=\"bcb85f83-e226-4251-b4c9-980dfd7961fb\" class=\"sk-toggleable__label sk-toggleable__label-arrow\">DecisionTreeRegressor</label><div class=\"sk-toggleable__content\"><pre>DecisionTreeRegressor(random_state=42)</pre></div></div></div></div></div></div></div>"
            ]
          },
          "metadata": {},
          "execution_count": 124
        }
      ]
    },
    {
      "cell_type": "code",
      "source": [
        "housing_predictions = tree_reg.predict(housing)\n",
        "tree_rmse = mean_squared_error(housing_labels, housing_predictions, squared = False)\n",
        "tree_rmse"
      ],
      "metadata": {
        "colab": {
          "base_uri": "https://localhost:8080/"
        },
        "id": "-T98Wg5kAVXR",
        "outputId": "a8ca3ac3-984c-4929-e0c7-7d67846567f7"
      },
      "execution_count": null,
      "outputs": [
        {
          "output_type": "execute_result",
          "data": {
            "text/plain": [
              "0.0"
            ]
          },
          "metadata": {},
          "execution_count": 127
        }
      ]
    },
    {
      "cell_type": "markdown",
      "source": [
        "**Better Evaulation Using Cross-Validation**"
      ],
      "metadata": {
        "id": "AMb7X8X8AqfY"
      }
    },
    {
      "cell_type": "code",
      "source": [
        "from sklearn.model_selection import cross_val_score\n",
        "\n",
        "tree_rmses = -cross_val_score(tree_reg, housing, housing_labels, scoring = \"neg_root_mean_squared_error\", cv=10)"
      ],
      "metadata": {
        "colab": {
          "base_uri": "https://localhost:8080/"
        },
        "id": "q3iY1RWnApjb",
        "outputId": "c31027f8-a0da-4e78-b359-ec48441dd20c"
      },
      "execution_count": null,
      "outputs": [
        {
          "output_type": "stream",
          "name": "stderr",
          "text": [
            "/usr/local/lib/python3.8/dist-packages/sklearn/model_selection/_validation.py:372: FitFailedWarning: \n",
            "10 fits failed out of a total of 10.\n",
            "The score on these train-test partitions for these parameters will be set to nan.\n",
            "If these failures are not expected, you can try to debug them by setting error_score='raise'.\n",
            "\n",
            "Below are more details about the failures:\n",
            "--------------------------------------------------------------------------------\n",
            "2 fits failed with the following error:\n",
            "Traceback (most recent call last):\n",
            "  File \"/usr/local/lib/python3.8/dist-packages/sklearn/model_selection/_validation.py\", line 680, in _fit_and_score\n",
            "    estimator.fit(X_train, y_train, **fit_params)\n",
            "  File \"/usr/local/lib/python3.8/dist-packages/sklearn/pipeline.py\", line 390, in fit\n",
            "    Xt = self._fit(X, y, **fit_params_steps)\n",
            "  File \"/usr/local/lib/python3.8/dist-packages/sklearn/pipeline.py\", line 348, in _fit\n",
            "    X, fitted_transformer = fit_transform_one_cached(\n",
            "  File \"/usr/local/lib/python3.8/dist-packages/joblib/memory.py\", line 349, in __call__\n",
            "    return self.func(*args, **kwargs)\n",
            "  File \"/usr/local/lib/python3.8/dist-packages/sklearn/pipeline.py\", line 893, in _fit_transform_one\n",
            "    res = transformer.fit_transform(X, y, **fit_params)\n",
            "  File \"/usr/local/lib/python3.8/dist-packages/sklearn/compose/_column_transformer.py\", line 699, in fit_transform\n",
            "    return self._hstack(list(Xs))\n",
            "  File \"/usr/local/lib/python3.8/dist-packages/sklearn/compose/_column_transformer.py\", line 791, in _hstack\n",
            "    return np.hstack(Xs)\n",
            "  File \"<__array_function__ internals>\", line 180, in hstack\n",
            "  File \"/usr/local/lib/python3.8/dist-packages/numpy/core/shape_base.py\", line 345, in hstack\n",
            "    return _nx.concatenate(arrs, 1)\n",
            "  File \"<__array_function__ internals>\", line 180, in concatenate\n",
            "ValueError: all the input array dimensions for the concatenation axis must match exactly, but along dimension 0, the array at index 0 has size 16512 and the array at index 2 has size 14860\n",
            "\n",
            "--------------------------------------------------------------------------------\n",
            "8 fits failed with the following error:\n",
            "Traceback (most recent call last):\n",
            "  File \"/usr/local/lib/python3.8/dist-packages/sklearn/model_selection/_validation.py\", line 680, in _fit_and_score\n",
            "    estimator.fit(X_train, y_train, **fit_params)\n",
            "  File \"/usr/local/lib/python3.8/dist-packages/sklearn/pipeline.py\", line 390, in fit\n",
            "    Xt = self._fit(X, y, **fit_params_steps)\n",
            "  File \"/usr/local/lib/python3.8/dist-packages/sklearn/pipeline.py\", line 348, in _fit\n",
            "    X, fitted_transformer = fit_transform_one_cached(\n",
            "  File \"/usr/local/lib/python3.8/dist-packages/joblib/memory.py\", line 349, in __call__\n",
            "    return self.func(*args, **kwargs)\n",
            "  File \"/usr/local/lib/python3.8/dist-packages/sklearn/pipeline.py\", line 893, in _fit_transform_one\n",
            "    res = transformer.fit_transform(X, y, **fit_params)\n",
            "  File \"/usr/local/lib/python3.8/dist-packages/sklearn/compose/_column_transformer.py\", line 699, in fit_transform\n",
            "    return self._hstack(list(Xs))\n",
            "  File \"/usr/local/lib/python3.8/dist-packages/sklearn/compose/_column_transformer.py\", line 791, in _hstack\n",
            "    return np.hstack(Xs)\n",
            "  File \"<__array_function__ internals>\", line 180, in hstack\n",
            "  File \"/usr/local/lib/python3.8/dist-packages/numpy/core/shape_base.py\", line 345, in hstack\n",
            "    return _nx.concatenate(arrs, 1)\n",
            "  File \"<__array_function__ internals>\", line 180, in concatenate\n",
            "ValueError: all the input array dimensions for the concatenation axis must match exactly, but along dimension 0, the array at index 0 has size 16512 and the array at index 2 has size 14861\n",
            "\n",
            "  warnings.warn(some_fits_failed_message, FitFailedWarning)\n"
          ]
        }
      ]
    },
    {
      "cell_type": "code",
      "source": [
        "pd.Series(tree_rmses).describe()"
      ],
      "metadata": {
        "colab": {
          "base_uri": "https://localhost:8080/"
        },
        "id": "uc42tZEZfgEN",
        "outputId": "5c8d83f9-00e5-462b-e4c7-627bfa60eb0b"
      },
      "execution_count": null,
      "outputs": [
        {
          "output_type": "execute_result",
          "data": {
            "text/plain": [
              "count    0.0\n",
              "mean     NaN\n",
              "std      NaN\n",
              "min      NaN\n",
              "25%      NaN\n",
              "50%      NaN\n",
              "75%      NaN\n",
              "max      NaN\n",
              "dtype: float64"
            ]
          },
          "metadata": {},
          "execution_count": 130
        }
      ]
    },
    {
      "cell_type": "code",
      "source": [
        "# extra code - compute the error stats for the linear model\n",
        "\n",
        "lin_rmses = -cross_val_score(lin_reg, housing, housing_labels, scoring=\"neg_root_mean_squared_error\", cv=10)\n",
        "pd.Series(lin_rmses).describe()"
      ],
      "metadata": {
        "colab": {
          "base_uri": "https://localhost:8080/"
        },
        "id": "Gn6Nub1gg48g",
        "outputId": "4931cc67-7fd1-4935-946e-16eb26b9cf3f"
      },
      "execution_count": null,
      "outputs": [
        {
          "output_type": "stream",
          "name": "stderr",
          "text": [
            "/usr/local/lib/python3.8/dist-packages/sklearn/model_selection/_validation.py:372: FitFailedWarning: \n",
            "10 fits failed out of a total of 10.\n",
            "The score on these train-test partitions for these parameters will be set to nan.\n",
            "If these failures are not expected, you can try to debug them by setting error_score='raise'.\n",
            "\n",
            "Below are more details about the failures:\n",
            "--------------------------------------------------------------------------------\n",
            "2 fits failed with the following error:\n",
            "Traceback (most recent call last):\n",
            "  File \"/usr/local/lib/python3.8/dist-packages/sklearn/model_selection/_validation.py\", line 680, in _fit_and_score\n",
            "    estimator.fit(X_train, y_train, **fit_params)\n",
            "  File \"/usr/local/lib/python3.8/dist-packages/sklearn/pipeline.py\", line 390, in fit\n",
            "    Xt = self._fit(X, y, **fit_params_steps)\n",
            "  File \"/usr/local/lib/python3.8/dist-packages/sklearn/pipeline.py\", line 348, in _fit\n",
            "    X, fitted_transformer = fit_transform_one_cached(\n",
            "  File \"/usr/local/lib/python3.8/dist-packages/joblib/memory.py\", line 349, in __call__\n",
            "    return self.func(*args, **kwargs)\n",
            "  File \"/usr/local/lib/python3.8/dist-packages/sklearn/pipeline.py\", line 893, in _fit_transform_one\n",
            "    res = transformer.fit_transform(X, y, **fit_params)\n",
            "  File \"/usr/local/lib/python3.8/dist-packages/sklearn/compose/_column_transformer.py\", line 699, in fit_transform\n",
            "    return self._hstack(list(Xs))\n",
            "  File \"/usr/local/lib/python3.8/dist-packages/sklearn/compose/_column_transformer.py\", line 791, in _hstack\n",
            "    return np.hstack(Xs)\n",
            "  File \"<__array_function__ internals>\", line 180, in hstack\n",
            "  File \"/usr/local/lib/python3.8/dist-packages/numpy/core/shape_base.py\", line 345, in hstack\n",
            "    return _nx.concatenate(arrs, 1)\n",
            "  File \"<__array_function__ internals>\", line 180, in concatenate\n",
            "ValueError: all the input array dimensions for the concatenation axis must match exactly, but along dimension 0, the array at index 0 has size 16512 and the array at index 2 has size 14860\n",
            "\n",
            "--------------------------------------------------------------------------------\n",
            "8 fits failed with the following error:\n",
            "Traceback (most recent call last):\n",
            "  File \"/usr/local/lib/python3.8/dist-packages/sklearn/model_selection/_validation.py\", line 680, in _fit_and_score\n",
            "    estimator.fit(X_train, y_train, **fit_params)\n",
            "  File \"/usr/local/lib/python3.8/dist-packages/sklearn/pipeline.py\", line 390, in fit\n",
            "    Xt = self._fit(X, y, **fit_params_steps)\n",
            "  File \"/usr/local/lib/python3.8/dist-packages/sklearn/pipeline.py\", line 348, in _fit\n",
            "    X, fitted_transformer = fit_transform_one_cached(\n",
            "  File \"/usr/local/lib/python3.8/dist-packages/joblib/memory.py\", line 349, in __call__\n",
            "    return self.func(*args, **kwargs)\n",
            "  File \"/usr/local/lib/python3.8/dist-packages/sklearn/pipeline.py\", line 893, in _fit_transform_one\n",
            "    res = transformer.fit_transform(X, y, **fit_params)\n",
            "  File \"/usr/local/lib/python3.8/dist-packages/sklearn/compose/_column_transformer.py\", line 699, in fit_transform\n",
            "    return self._hstack(list(Xs))\n",
            "  File \"/usr/local/lib/python3.8/dist-packages/sklearn/compose/_column_transformer.py\", line 791, in _hstack\n",
            "    return np.hstack(Xs)\n",
            "  File \"<__array_function__ internals>\", line 180, in hstack\n",
            "  File \"/usr/local/lib/python3.8/dist-packages/numpy/core/shape_base.py\", line 345, in hstack\n",
            "    return _nx.concatenate(arrs, 1)\n",
            "  File \"<__array_function__ internals>\", line 180, in concatenate\n",
            "ValueError: all the input array dimensions for the concatenation axis must match exactly, but along dimension 0, the array at index 0 has size 16512 and the array at index 2 has size 14861\n",
            "\n",
            "  warnings.warn(some_fits_failed_message, FitFailedWarning)\n"
          ]
        },
        {
          "output_type": "execute_result",
          "data": {
            "text/plain": [
              "count    0.0\n",
              "mean     NaN\n",
              "std      NaN\n",
              "min      NaN\n",
              "25%      NaN\n",
              "50%      NaN\n",
              "75%      NaN\n",
              "max      NaN\n",
              "dtype: float64"
            ]
          },
          "metadata": {},
          "execution_count": 131
        }
      ]
    },
    {
      "cell_type": "code",
      "source": [
        "# housing_labels.describe()\n",
        "# len(housing)\n",
        "# print(housing_labels)\n",
        "\n",
        "# housing[\"latitude\"].count()\n",
        "\n",
        "housing.axes[0]\n",
        "# housing.axes[1]\n",
        "# for i in housing.columns:\n",
        "#   print(housing[str(i)] )"
      ],
      "metadata": {
        "colab": {
          "base_uri": "https://localhost:8080/"
        },
        "id": "uexbTemWiAAA",
        "outputId": "0765e38e-3466-41ee-aae6-325bf09c5d5c"
      },
      "execution_count": null,
      "outputs": [
        {
          "output_type": "execute_result",
          "data": {
            "text/plain": [
              "RangeIndex(start=0, stop=20640, step=1)"
            ]
          },
          "metadata": {},
          "execution_count": 156
        }
      ]
    }
  ],
  "metadata": {
    "colab": {
      "provenance": [],
      "authorship_tag": "ABX9TyPlR86mh7luVaOsWJpXf28/",
      "include_colab_link": true
    },
    "kernelspec": {
      "display_name": "Python 3",
      "name": "python3"
    },
    "language_info": {
      "name": "python"
    }
  },
  "nbformat": 4,
  "nbformat_minor": 0
}